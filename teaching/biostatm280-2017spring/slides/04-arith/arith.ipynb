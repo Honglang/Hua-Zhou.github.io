{
 "cells": [
  {
   "cell_type": "markdown",
   "metadata": {},
   "source": [
    "# Computer storage and arithmetics\n",
    "\n"
   ]
  },
  {
   "cell_type": "markdown",
   "metadata": {},
   "source": [
    "## Units of computer storage: \n",
    "\n",
    "* `bit` = `binary` + `digit` (coined by statistician [John Tukey](https://en.wikipedia.org/wiki/Bit#History)).  \n",
    "* `byte` = 8 bits.  \n",
    "* KB = kilobyte = $10^3$ bytes.  \n",
    "* MB = megabytes = $10^6$ bytes.  \n",
    "* GB = gigabytes = $10^9$ bytes. Typical RAM size.  \n",
    "* TB = terabytes = $10^{12}$ bytes. Typical hard drive size. Size of NYSE each trading session.    \n",
    "* PB = petabytes = $10^{15}$ bytes.  \n",
    "* EB = exabytes = $10^{18}$ bytes. Size of all healthcare data in 2011 is ~150 EB.    \n",
    "* ZB = zetabytes = $10^{21}$ bytes. \n",
    "\n",
    "Julia function `Base.summarysize` shows the amount of memory (in bytes) used by an object."
   ]
  },
  {
   "cell_type": "code",
   "execution_count": 1,
   "metadata": {
    "collapsed": false
   },
   "outputs": [
    {
     "data": {
      "text/plain": [
       "80000"
      ]
     },
     "execution_count": 1,
     "metadata": {},
     "output_type": "execute_result"
    }
   ],
   "source": [
    "x = rand(100, 100)\n",
    "Base.summarysize(x)"
   ]
  },
  {
   "cell_type": "markdown",
   "metadata": {},
   "source": [
    "## Storage of Characters\n",
    "\n",
    "* Plain text files are stored in the form of characters: `.jl`, `.r`, `.c`, `.cpp`, `.tex`, `.html`, ...  \n",
    "* ASCII (American Code for Information Interchange): 7 bits, only $2^7=128$ characters.  "
   ]
  },
  {
   "cell_type": "code",
   "execution_count": 2,
   "metadata": {
    "collapsed": false
   },
   "outputs": [
    {
     "data": {
      "text/plain": [
       "128×2 Array{Any,2}:\n",
       "   0  '\\0'  \n",
       "   1  '\\x01'\n",
       "   2  '\\x02'\n",
       "   3  '\\x03'\n",
       "   4  '\\x04'\n",
       "   5  '\\x05'\n",
       "   6  '\\x06'\n",
       "   7  '\\a'  \n",
       "   8  '\\b'  \n",
       "   9  '\\t'  \n",
       "  10  '\\n'  \n",
       "  11  '\\v'  \n",
       "  12  '\\f'  \n",
       "   ⋮        \n",
       " 116  't'   \n",
       " 117  'u'   \n",
       " 118  'v'   \n",
       " 119  'w'   \n",
       " 120  'x'   \n",
       " 121  'y'   \n",
       " 122  'z'   \n",
       " 123  '{'   \n",
       " 124  '|'   \n",
       " 125  '}'   \n",
       " 126  '~'   \n",
       " 127  '\\x7f'"
      ]
     },
     "execution_count": 2,
     "metadata": {},
     "output_type": "execute_result"
    }
   ],
   "source": [
    "# integers 0, 1, ..., 127 and corresponding ascii character\n",
    "[0:127 Char.(0:127)]"
   ]
  },
  {
   "cell_type": "markdown",
   "metadata": {},
   "source": [
    "* Extended ASCII: 8 bits, $2^8=256$ characters.  "
   ]
  },
  {
   "cell_type": "code",
   "execution_count": 3,
   "metadata": {
    "collapsed": false
   },
   "outputs": [
    {
     "data": {
      "text/plain": [
       "128×2 Array{Any,2}:\n",
       " 128  '\\u80'\n",
       " 129  '\\u81'\n",
       " 130  '\\u82'\n",
       " 131  '\\u83'\n",
       " 132  '\\u84'\n",
       " 133  '\\u85'\n",
       " 134  '\\u86'\n",
       " 135  '\\u87'\n",
       " 136  '\\u88'\n",
       " 137  '\\u89'\n",
       " 138  '\\u8a'\n",
       " 139  '\\u8b'\n",
       " 140  '\\u8c'\n",
       "   ⋮        \n",
       " 244  'ô'   \n",
       " 245  'õ'   \n",
       " 246  'ö'   \n",
       " 247  '÷'   \n",
       " 248  'ø'   \n",
       " 249  'ù'   \n",
       " 250  'ú'   \n",
       " 251  'û'   \n",
       " 252  'ü'   \n",
       " 253  'ý'   \n",
       " 254  'þ'   \n",
       " 255  'ÿ'   "
      ]
     },
     "execution_count": 3,
     "metadata": {},
     "output_type": "execute_result"
    }
   ],
   "source": [
    "# integers 128, 129, ..., 255 and corresponding extended ascii character\n",
    "[128:255 Char.(128:255)]"
   ]
  },
  {
   "cell_type": "markdown",
   "metadata": {},
   "source": [
    "* Unicode: UTF-8, UTF-16 and UTF-32 support many more characters including foreign characters; last 7 digits conform to ASCII. [UTF-8](https://en.wikipedia.org/wiki/UTF-8) is the current dominant character encoding on internet.  \n",
    "\n",
    "<img src=\"https://upload.wikimedia.org/wikipedia/commons/c/c4/Utf8webgrowth.svg\" width=\"500\" align=\"center\"/>\n",
    "\n",
    "Julia supports the full range of UTF-8 characters. You can type many Unicode math symbols by typing the backslashed LaTeX symbol name followed by tab. "
   ]
  },
  {
   "cell_type": "code",
   "execution_count": 4,
   "metadata": {
    "collapsed": false
   },
   "outputs": [
    {
     "data": {
      "text/plain": [
       "0.0"
      ]
     },
     "execution_count": 4,
     "metadata": {},
     "output_type": "execute_result"
    }
   ],
   "source": [
    "# \\beta-<tab>\n",
    "β = 0.0\n",
    "# \\beta-<tab>-\\hat-<tab>\n",
    "β̂ = 0.0"
   ]
  },
  {
   "cell_type": "markdown",
   "metadata": {},
   "source": [
    "## Fixed-point number system\n",
    "\n",
    "* Fixed-point number system $\\mathbb{I}$ is a computer model for integers $\\mathbb{Z}$. \n",
    "\n",
    "* The number of bits and method of representing negative numbers vary from system to system. \n",
    "    - The `integer` type in R has $M=32$ bits. \n",
    "    - Matlab has `(u)int8`, `(u)int16`, `(u)int32`, `(u)int64`.  \n",
    "    - Julia has even more integer types. Using Tom Breloff's `Plots.jl` and `PlotRecipes.jl` packages, we can [visualize the type tree](http://www.breloff.com/Graphs/) under `Integer`\n",
    "    - Storage for a `Signed` or `Unsigned` integer can be $M = 8, 16, 32, 64$ or 128 bits."
   ]
  },
  {
   "cell_type": "code",
   "execution_count": 1,
   "metadata": {
    "collapsed": false
   },
   "outputs": [
    {
     "name": "stderr",
     "output_type": "stream",
     "text": [
      "\u001b[1m\u001b[34mINFO: Recompiling stale cache file /Users/huazhou/.julia/lib/v0.5/Colors.ji for module Colors.\n",
      "\u001b[0m\u001b[1m\u001b[34mINFO: Recompiling stale cache file /Users/huazhou/.julia/lib/v0.5/PlotUtils.ji for module PlotUtils.\n",
      "\u001b[0m\u001b[1m\u001b[34mINFO: Recompiling stale cache file /Users/huazhou/.julia/lib/v0.5/PlotThemes.ji for module PlotThemes.\n",
      "\u001b[0m\u001b[1m\u001b[34mINFO: Recompiling stale cache file /Users/huazhou/.julia/lib/v0.5/Distributions.ji for module Distributions.\n",
      "\u001b[0m\u001b[1m\u001b[34mINFO: Recompiling stale cache file /Users/huazhou/.julia/lib/v0.5/KernelDensity.ji for module KernelDensity.\n",
      "\u001b[0m\u001b[1m\u001b[34mINFO: Recompiling stale cache file /Users/huazhou/.julia/lib/v0.5/GeometryTypes.ji for module GeometryTypes.\n",
      "\u001b[0mWARNING: ColorTypes.U8 is deprecated, use FixedPointNumbers.Normed{UInt8, 8} instead.\n",
      "  likely near /Users/huazhou/.julia/v0.5/GeometryTypes/src/typealias.jl:90\n",
      "\u001b[1m\u001b[34mINFO: Recompiling stale cache file /Users/huazhou/.julia/lib/v0.5/LightGraphs.ji for module LightGraphs.\n",
      "\u001b[0m\u001b[1m\u001b[34mINFO: Recompiling stale cache file /Users/huazhou/.julia/lib/v0.5/PyPlot.ji for module PyPlot.\n",
      "\u001b[0m"
     ]
    },
    {
     "data": {
      "text/html": [
       "<img src=\"data:image/png;base64,iVBORw0KGgoAAAANSUhEUgAAAyAAAAGQCAYAAABWJQQ0AAAABHNCSVQICAgIfAhkiAAAAAlwSFlzAAAPYQAAD2EBqD+naQAAIABJREFUeJzs3XeYnHd97/33Pb2X7UWrVbOa5Q6uOG4YG9uU2FRTbAKhBpIDhASek3BICCSccHgCCTaE4tASCMd0nhhcsDFxA3dLVltpVytt350+c8/c5flj5LWE1rbK7sxK+3ld11wrzc7c871H16Wdz35/v/truK7rIiIiIiIi0gCeZhcgIiIiIiJLhwKIiIiIiIg0jAKIiIiIiIg0jAKIiIiIiIg0jAKIiIiIiIg0jAKIiIiIiIg0jAKIiIiIiIg0jAKIiIiIiIg0jAKIiIiIiIg0jAKIiIiIiIg0jAKIiIiIiIg0jAKIiIiIiIg0jAKIiIiIiIg0jAKIiIiIiIg0jAKIiIiIiIg0jAKIiIiIiIg0jAKIiIiIiIg0jAKIiIiIiIg0jAKIiIiIiIg0jAKIiIiIiIg0jAKIiIiIiIg0jAKIiIiIiIg0jAKIiIiIiIg0jAKIiIiIiIg0jAKIiIiIiIg0jAKIiIiIiIg0jAKIiIiIiIg0jAKIiIiIiIg0jAKIiIiIiIg0jAKIiIiIiIg0jAKIiIiIiIg0jAKIiIiIiIg0jAKIiIiIiIg0jAKIiIiIiIg0jAKIiIiIiIg0jAKIiIiIiIg0jAKIiIiIiIg0jAKIiIiIiIg0jAKIiIiIiIg0jAKIiIiIiIg0jAKIiIiIiIg0jAKIiIiIiIg0jAKIiIiIiIg0jAKIiIiIiIg0jAKIiIiIiIg0jAKIiIiIiIg0jAKIiIiIiIg0jAKIiIiIiIg0jAKIiIiIiIg0jAKIiIiIiIg0jAKIiIiIiIg0jAKIiIiIiIg0jK/ZBYiIyPEpk8kwODjI0NAQe/aN0tfTxfLly+nv7yeVSjW7PBERWaQM13XdZhchIiKLm+u6TE5OMjQ0xO7du9m8c5A9E1kyVXBi7XiSnTjZMTyFCVIB6GtPcvKaFfT397N8+XLa2towDKPZpyEiIouAAoiIiBzCcRxGR0cZGhpi1+7dbN45xN33/jf3/uInXP3B/01qxQaSXf0ku/rwhyKzz6tVSmRHh8iODlEaG8KTGyXhc+hJR9m4ejkrV9RDSWdnJx6PVgGLiCxFCiAiIjLr4Ycf5oknn+KpgT1M5E3yjg/SvUQ7+rj7Xz+JXaty5qvfzhmvetthHc+uVcmO7SE7MkhxfA/M7CXusWiPBzl5VR+nbDqZM888c4HPSkREFhPtARERkVnf+eHP2Ga10rrqfFLd/fS19eDx+Shnp8mN7+XV/+tr3POVT3LGq97Gr770CXLje5ka2kZufC+XvfeTbLri9fzgr27glKuuZ815V+D1B/jRJ97O1X/xz6x88aU4lkV+ch8TI4P836c388SOnymAiIgsMQogIiIyy3Ghc90Z9G46+6D7t9z1A9Zd9Ar6TjufqT07KGUmAZgZ3slbb/ol2dEhvvUnV7Hpitdz+itv4JEffZ01513BzN5d1CplOtZsAsDj85HsWk6yazk+fxBnx+0NP0cREWkuLcAVEZEX9NQvvsfJl78WwzBYf/Gr2HzHrQCcdOHVGLZBPNRJJZ8BYMWLLmFk66OYhRyP/eybnHb1m5tZuoiILDLqgIiIyPMqTo8z9Nhv+P5Hrwfq+zraVqyj/4wL612MSo3adHH28YZhcPJLX8NTt/8nT/3yP3nbv97VrNJFRGQRUgAREZHntfnOWznr2ndy5Yf+z+x9//Sqk2hdvpZIqg0jcOiPktOueStff8dF9Gx8EZFUWyPLFRGRRU5LsERE5Hk99Yvvsf7iVx1039oLr2HzHf8XAE/Ih+HxwAEXVUz3riTZ1cdpV7+lobWKiMjipw6IiIjM8hgwtvURrJpJsms5ifZebvzynYc87uUf/hwv//DnZv/ujQd5/1eewnVdDMOgUshSyk6z9sKrD3qeY1nkJvaSHR1iamAzSf0UEhFZcvRfv4iIzLr+1Vfz5FObeXLnfzOx5S6GHR+keoh2LifZ3U+iYxm+QPCQ53kTYaxsGadUY+CR2/npp9/Hxe/6OK7rMj28sz4HZGwIMvuIeyw64kEu2bCcTSef24SzFBGRZtIgQhEROYTjOIyNjTE4ODg7CX1kpkjO8mDHOwl3LifV3U+yazn+UATXdTEHp7Eck4onR2ZkkPLYEN78GAmfQ7cmoYuIyH4KICIi8oJc12VqaorBwUEGBwd5asdu9kxkyVbBjrVT84bwFHK4ewZp642zoreVjav76e+v31pbWzEMo9mnISIii4ACiIiIHJVMJsPQ0BCDg4NkCyUS4RAtYw4rNq1l2QUnN7s8ERFZpBRARERk3pS3j1HePk7yknV4w4FmlyMiIouQFuCKiMi8Ca5oA6+Hyo7xZpciIiKLlAKIiIjMG4/fS3h1O5U909ilarPLERGRRUgBRERE5lVoRSsen5eyuiAiIjIHBRAREZlXhs9LaHUH5p5p7KLZ7HJERGSRUQAREZF5F1rRiifgo7xdXRARETmYAoiIiMw7w+shvKYDc3gGK19pdjkiIrKIKICIiMiCCC5vwRMJUNoy0uxSRERkEVEAERGRBWF4PUTWdVEbz1GbKjS7HBERWSQUQEREZMEEepL4UhFKm0fQ3FsREQEFEBERWUCGYRDZ0I2VLVHdl2l2OSIisggogIiIyILyt8YIdCYoPT2KazvNLkdERJpMAURERBZcZEM3TqVGZfdUs0sREZEmUwAREZEF542FCC5vobxjDKdqNbscERFpIgUQERFpiMhJneBAeYeGE4qILGUKICIi0hCekJ/Q6nYquyexi2azyxERkSZRABERkYYJr2rDE/BR2jra7FJERKRJFEBERKRhDJ+X8NpOqvsy1GaKzS5HRESaQAFEREQaKrisBW88TGmLhhOKiCxFCiAiItJQhscgsrEba7pIbTTX7HJERKTBFEBERKThAu1x/O3xehfE0XBCEZGlRAFERESaIrKhG7tUxRycbnYpIiLSQAogIiLSFL5EmGBfmtL2MZya3exyRESkQRRARESkaSLrusB2NJxQRGQJUQAREZGmmR1OuGsCu1RtdjkiItIACiAiItJU4VXtePw+Sk9rOKGIyFKgACIiIk1l+LyE13VS3TeDlSk1uxwREVlgCiAiItJ09eGEIYqbNZxQROREpwAiIiJNZ3gMIht6sKYL1MY0nFBE5ESmACIiIotCoEPDCUVElgIFEBERWTQiG7qxi1XMIQ0nFBE5USmAiIjIojE7nHCbhhOKiJyoFEBERGRReWY4YWXnRLNLERGRBaAAIiIii4on5Ce4oo3KrkmcqtXsckREZJ4pgIiIyKITXt0OQFldEBGRE44CiIiILDqegI/QyjbM3ZM4lVqzyxERkXmkACIiIotSaFUbGAblAXVBREROJAogIiKyKHkCPkKr2jB3T6kLIiJyAlEAERGRRSu0sh28hvaCiIicQBRARERk0fL4vYT6WzGHpjUXRETkBGG4rus2uwgREZEDOY5DoVAgk8kwMz7J8F2PU0n5KIVhJl8kHY+STqVIpVIkk8nZr7FYDI9Hv1sTEVnMFEBERKThLMsim82SzWbJZDKzX6dmMoxNZxmfzlKuOVRsqNhQLTg43iiB/mX4wzGsShG3lIVyFo9VIeSFkBfCfg8dLUk6W5K0pg8NKMlkEp/P1+zTFxFZ0hRARERkXrmui2maBwWLc889l2uvvZZLLr+C8eksP/7hrSRaOli+4XQqjgHBKERSeMJJgrEEoXiKUCxJMJYkFE/hcTxUhqYJ9qTwxoIHvd5nLuvkvd97HLOQpVLIUslnMAs5nFIGylkwi4Q8LsH9IaU1GauHlNb0bCg5MKiEQqEmvXMiIkuDfg0kIiLHZNeuXWzevJmZTIbRqQzj01nyJXO2e1HDiy8Q5L/uvAfOvI5422rc9scJrtlE7yv+iGA0gecFuhKu6+IJ+LDylUMCCECstZNYa+ecz3UsC7OYo1LIYhayDOUzbCvkqI1noLgHwyzgx57tosQjQTpbknS2pkinUpx88smsWLFiPt4qERFBAURERI7Rnb+6mx88PkKorY9gbDnBvnrXIr2/gxGIxPj5LZ/nrGv/mOzoIKdc+Xq23fszoul2wskWbnnnpVz1kc/TsWYT4zue5Oef+QA3fvlOfvWlT5Ad3cPU0DbyE/u44n2fZetdP2J454N0rz+Ta//2G7M1/Owf3s/g7+4m1d3PdX/3bYKxBNPDO/n53/8Jpew0wWicV/31V+hadzq3vPNSutadztCjv+Hs172X0177AaqlwmwHZTKfYW8hi7k7S2Xycf5wfIK3v+3G5r3BIiInGAUQERE5ZpHuNWy87Nrnfcw5b/wAX73xAs594wcO+7jZ0UFu/PJdDD9xP996/1W8/qPf5er/eRP/9oHLGHn6EbrXn0E5O8XKF13C1X/xBW7/549x37c/x8Xv+jg///s/4ZqP3USqZwW7HrqTX/7TX/Daf/guAB6fj3d+84HZ1wlG4wSjcRKdyw56/c133AoUD/+NEBGRF6QAIiIiDRFNt3PShVfzyI+/ftjPWXPBy/F4vXSuOYVgJE73mjNwCiYdqzeRGRmke/0ZeANBNlz6hwCccsUbuO1zH6ZaKjD4yL38x4evqx/IdfGHI7PHPfmy18zruYmIyOFTABERkYY5/80f5JvvvYI1F1w5e5/H58N1HQCsmnnQ433++n4Pw+PB+8yffR4Mw4NrzzEXxDAwMHAdh1hrJ+/+zu/mrMMfisx5v4iILDxdLF1ERBom2dVH32nns+XOWw+4r5/RrY8BsOXOH8z5PNd1cR0Hw+PBlz44PNhVk613/xiAp37xPfpOv4BgLEG0pYOt9/wEAMe2Gd/x5EKckoiIHCEFEBERaagLbvhz8hP7Zv9+3pv+jN984x/58pvPxraqcz7HmimB4+LviGN4D/7RFU62svOB2/ni605ldOujnHf9nwFw3Se/xYPf/RdufuOZ3PSG0xl46M6FOykRETlsmgMiIiLH5Ktfv4UfPj5CsK2PQCxBKHbwDI9AJIZhGEd1bNd1qU0WsWaK+Ftj+Fuj81x9/TWqpcL++SH7Z4kUMlQLOczJPbz61G5dBUtEZB4pgIiIyDHZtWsXW7ZsYXpmhvHpLGNTGXK/NwfECCdwwkn80eRB4SQUSz7nHBDXdqiOZLFLVfztcfzpo9u3ceAckANDRq2YxVPO4pZzB80BSUSCdLam6GhJ0pJOs3HjRs0BERGZRwogIiIy7yqVyuwU9AO/TkzXhxVOZQuY+wOK6Ri4wSiEk3giKYKxBIFADE/ZQzAYJ766j2A6/pyvZZmV2SGDlXxmfwcji1vKYpRzYBYIelxCXgjun4Te1ZqivSU1OwH9wGnomoQuIrKwFEBERKThLMsil8sdElAmp2YY3r6X0T3jlD0enHSMquHF9oUgnMCIpMDrA9vCLWWgnMNrVQju715EAl7a0wm6WlO0plMHBYtUKkUikcD3AlPXRURkYSmAiIjIomAXKhQe3YOVKRNc1YrdHSVXyB8UUKZnZiiZFpGgj5Z0+qCAkUwmicVieDy6voqIyGKmACIiIk3lOg6VXZOUt47hCfuJnt6HPz3/m81FRGRxUB9aRESapjZdpPjEMHbBJLSyjci6rkMusysiIicWdUBERKThnKpFacsI5p5pfKkI0VOW4UuGm12WiIg0gAKIiIg0jOu4mHumKW0dBdclsq6L4PJWDM/RzQkREZHjj5ZgiYhIQ9SmChSf2oedKxNc1kJkfReekL/ZZYmISIOpAyIiIgvKLlUpbRmhOpKpL7fa1IsvdXRDBUVE5PinACIiIgvCtR3KO8ep7JjA8HuJbOgm0JvCMLTcSkRkKdMSLBERmVeu61Ldl6X09AiOWSO8sp3Qmg48fm+zSxMRkUVAHRAREZk3VqZEcfM+rOkigc4EkY09eKPBZpclIiKLiAKIiIgcM6dSo7R1FHPPDN54kOjGHvzt8WaXJSIii5ACiIiIHDXX3j/FfPs4eA0iazt1WV0REXle2gMiIiJHzHVdaqM5iltGcMpVQivaCJ/UgSegHysiIvL81AEREZEjYuXKlJ7aR22qgL8jQXRjN95YqNlliYjIcUIBREREDotjWvV9HkPTeGNBIhu7CXQkml2WiIgcZxRARETkebmOQ2X3FOXtYwCET+oktKIVw+NpcmUiInI80mJdERGZk+u61MbzlDbvwy5WCfW3EF7XpX0eIiJyTNQBERGRQ9hFk+JT+6iN5/C3xYls7MGX0D4PERE5dgogIiIyy3UcKjsnKW8fwwj6iJ7cg78zgWHosroiIjI/1EcXEREAalMFik/sxS6ahFa1EzmpA8PnbXZZIiJyglEHRERkiXMtm9KWESqDU/jSUaKn9OJLhJtdloiInKAUQERElrDadJHio3twzBqRDd0E+1u13EpERBaUAoiIyBLkOg6lrWNUdk7gS0eIndaHNxZsdlkiIrIEaA+IiMgJxnVdcrkcY2Njz94mp+lsa6Gzs5P2VAuRkRqRqkF0fTehVe0YHnU9RESkMdQBERE5jlWrVSYmJmaDxt6RUXYOjzGVL1OwoOoJQaIDXyyNVZjBmdqHZ2KKqOHQtaKdk9Yso7e7i87OTjo7O+no6MDv9zf7tERE5ASmACIichxwXZdMJjMbNEZHR9m1d4yPffjPSLV1YNkO0ZYOznnTB0kvW0WspZNoayfB6LOX0LWLVcy9M9TsMtVAmVJ2guL0OE52jImtD7P7iQd5xbWvY1lHCyt7O+nqejaYpFIp7Q0REZF5oSVYIiKL1MTEBA8++CDD+0bZuXeMmaJJoQZVbxgj2UkovZpANMHbvvEQkXQ7P/7EO8iN7+X0V9xwyLHsco3qvgzeaJBwd8f+JVcbZr+/84E7GBkbp3bKNTw5PcZvt47jPngfAbtMzA/paJDVvZ0s6+ni7LPPpr29vYHvhIiInEgUQEREFqmHH36Yr97+CL7udcT61hBr7aKtpZNAJDbbjfB4fcTbewDoO+18Rrc/Pvv8e2/5DFvuvBWrWmHjuddyzrV/ghs3+MZ7L6eSz+K6Di/7039g1Tkvxev14guG6V5/xuzzXdelWipQnB5jcmqU3VPjWJsfwefzccUVVzT2zRARkROGAoiIyCLlui6eSJKNl137go91bJuBB27n9FfdCMDO+39Bbnwv7/i3+6hO5vnOh65h3ZWvpr1nA2/47A8IRuMUJkf51vuv4t3//vCcxzQMg2A0TjAap6VvDQBP3vpFtHJXRESOhQKIiMhxrFLIcPP1Z5EbG6Z1+RrWnFvvTOy8/5ds/83PGXr0XhyzRrVcZGbfTtpXr+eXn/9L9jz6Gwyvl8nBrdi1apPPQkRElhIFEBGR41goluLd3/kd1XKRb77vCh76/k2c84b34zoOF/3xX3H6NW+lOprDLlcJr2zjkR/fQq1c5F3f/i0en4/PXNapACIiIg3laXYBIiJy7ALhKC//8P/Lfd/6HI5lsfrcy3nkh1+lVilh+D1kx4aoFLKYxRzR1g48Ph/bfv1TytmpZpcuIiJLjDogIiIniJ6NL6JjzSaeuv0/OeXKNzIxsIWv3HgBrmURCMR4/T/dyqkvv57v/Nkruen1p9N3+gUku5Y3u2wREVliNAdERGSRuu222/jSfz1UvwpWawfRlk5iLZ0EovEjmsnhVGpUhqYJLW/BEzr8IYOu61It5ilMj1GcHqMwNY41spV3XfliXQVLRESOmjogIiKL1JlnnsnbLas+B2TPdmaeNpl8Zg5IooNguoNYayex1i4i6Xa8vrnDheH3AuBU7ecMILZVozg9vj9ojGHOjOPmxmfngLRHg5zT28myk8/gzDPPXLBzFhGRE586ICIixwHXdclms4dMQt8zNkWh5lK0DNxoC55kJ9GW/d2S1k6CsSSGYVAemMQbD+Jvi2EWshSm6l2NZyahG8Vpoj6XmN+gr7P1kEnoyWRSk9BFRGReKICIiBzHarUa4+Pjs8Fk78goO4fHmMqXKVhgGkGMRAdmrobHquLzFQm6JjEftMXDrFrWSW/3s0Gjo6MDv//wl2mJiIgcKQUQEZETjOu65PP52VAyNjbG5K5xgtkKq1/2otnORjx+ZHtJRERE5oMCiIjIElAdz5N/cIDUJevxRoPNLkdERJYwzQEREVkCfIkQAFa23ORKRERkqVMAERFZAjwhP56QH1sBREREmkwBRERkifAlI1iZUrPLEBGRJU4BRERkifC1RLAyZVxHW/9ERKR5FEBERJYIXyqCa9vY+UqzSxERkSVMAUREZInwpSJgGFqGJSIiTaUAIiKyRBheD75ECGtGAURERJpHAUREZAnxpaPqgIiISFMpgIiILCG+VAS7UMGpWs0uRUREligFEBGRJcSXjgCoCyIiIk2jACIisoR4IgGMgE/7QEREpGkUQERElhDDMPCnIwogIiLSNAogIiJLjC9V34iugYQiItIMCiAiIkuMryWCa9nYBQ0kFBGRxlMAERFZYmYHEmoZloiINIECiIjIElMfSBjGmik2uxQREVmCFEBERJYgXzqCNa0OiIiINJ4CiIjIEuRLR7FLJo6pgYQiItJYCiAiIkuQr2X/QEItwxIRkQZTABERWYI8IT+ekF8b0UVEpOEUQEREliDDMPClo9QUQEREpMEUQERElihfOoKdKeE6TrNLERGRJUQBRERkifKlI7iOg53TQEIREWkcBRARkSXKlwxjeDzUprURXUREGkcBRERkiTI8HrypsDaii4hIQymAiIgsYb50VJfiFRGRhlIAERFZwvzpCE6lhl2uNrsUERFZIhRARESWMF86CoA1rWVYIiLSGAogIiJLmCfowxsJahmWiIg0jAKIiMgS52uJaCO6iIg0jAKIiMgS50tHsXJlXFsDCUVEZOEpgIiILHG+dARcFyujLoiIiCw8BRARkSXOGwth+LxahiUiIg2hACIissQZHgNfKqKN6CIi0hAKICIigi8doTZTwnXdZpciIiInOAUQERHBl47iVi2cogYSiojIwlIAERGR+kZ0DC3DEhGRBacAIiIiePxevPEgNW1EFxGRBaYAIiIiwP55IOqAiIjIAlMAERERAPzpCHbexKnZzS5FREROYAogIiIC1Dsg4GoeiIiILCgFEBERAcATDWAEfFgZLcMSEZGFowAiIiIAGIaBPx1RB0RERBaUAoiIiMyqb0Qv4ToaSCgiIgtDAURERGb5UhFcy8Yums0uRURETlAKICIiMsubCAFg5ypNrkRERE5Uhuu66rOLiCxBjuNQKBTI5/MH3fb9+ilKQSjH/aRiEZLJBIlEgng8ftAtFovh8ej3WCIicmQUQERETjCu61Iulw8KFblcbvbrZCbPZDbPTK6AabmYDlRtqOGFYJRa2YsRihPubsUyK7jlHFTyuJUCAcMh4IWgB4I+g3QiRlsqTlsyTiIxd1AJh8MYhtHst0VERBYJBRARkeNItVqdM1jk83mmMjkms3mms3lu+uynecN7/nw2XBCMYoTiuKE4/kiMYCTOlrt+yNmvfx/BSJxANI4/FMEwDGqTBaxcmfCq9oNe23VdapUS1WIes5jDLOXrfy7lqZUKUM6BWQCzSNALAQ8EvRAJ+mhJxmlPxmlJPRtQfj+sBAKB5rypIiLSUAogIiKLULlc5r777iObzTKT3d+1yOQolE1MG0wbqg443iBGuB4svOE4wUiMQDTOt99/Ne/5j0cJROMEwjE8Xu8hr/GZyzr5yB1jh9xv5StUR7KEV7djeI98iZVj21TLBarFPJV8hmqluD+oFLDL+XpQqRTw2OZsSAl6IRYO0pZK0J6Kk0omSCaTnHfeeYTD4aN6D0VEZHHyNbsAERE51K5du/j6T++mFOvFE00SjLQR6IsTjCWIR+K0RuIEo3G8/rm7BobHS6JzGbt/+yt+/bVP4w9Hmdi1hbUvuYorPvhZ7viX/0mlkOHm689i2aZzuOZjX+Sxn32LB7/7z1imSd/ac3n5xz6PN+zhzpv+ms2//D7xjh58gSAvfu17WHvhNey47zbu/vLfYJkm7as38qq//gpef4B/fFk3m172BgYfvofX/sN/sGzTOXPWaNeqmMU81VK9ozJZzLOvlMccK+AMTBApPEpXVxcbN25cyLdaREQaTAFERGQRcl2Xqg0brnwTvmDomI41svUR3vu9Jwgn0nzxdady7vV/ymXv+yS/u/Vfefd3fgfAxK4tbL37x7z9a/diGB6+/6E3su3XPyPR08PO+37Be777KJV8hn9+zcm8+LXvoZSZ5L+/+VneetPt+ENh7rr54/zuB1/h7Ne9l3J2mjUXXMFVf/H5563L6w8QSbUSSbUe8j3LrLD9u59BTXoRkROPAoiIyAmu79TziLV2AtCx+mQyI4Mku5Yf9JhdD97J8JMP8OW31rsV1VyO7h1nkJ0cZP0lr8brDxBt6WDlWRcDMPzE/Yxtf4Kv/tFLALCrJie95OUA+IJh1r7k6gadnYiIHG8UQERETnBef3D2z4bHi2vbhzzGdR3OfPXbufidf41rOZQHJgB47KHvzHlM13FZ+5KreNXHv3rI9/yhyDxVLiIiJyJdwF1EZInyeL04+8PIyhdfylO//E8Kk+OUByYoZicpzIzR2bmJrXf/GNuqUZyZYPfDdwOw7NRz2fXbX5EZGQTALOSY2buraeciIiLHD3VARESWqNOufgs3veF0+s+4kGs+9kUueNOH+ea7LsdxHHz+AC9/9+foWn4qfWvO5YuvOYVkdx+dJ51KMJogmm7nFf/PzXzvI6/DrlUxPB6u/OBnSfeubPZpiYjIIqfL8IqILEKbN2/m01/5bv0qWJEEwWicwP4rXz3zNRhNPOdVsI6EazvUJuqzP+ZSrRQJhKLU3DLf+IsrePstvyGSajvm161fBSt3wJWwnv3qlHJECnv56Dter6tgiYicYNQBERFZhFauXMkfveJiMpkMmWyOyewkk8N58qUKBRumnfosEMcXhGAMNxTHF94fUKLx+nAdtWigAAAgAElEQVTBAwLLXHNAXNfFzlaoTRXAdfHGQ9j5CgDeaBC3amH4vdz2z+9hau8OHKvG2Ve/D2/ZjxOx8ATm/hHi2PbBgeKZgYXFPFY5j1HJg1nAY5kHDSzsiIRoTcVp64qTSraTSp3EypXqqIiInGjUAREROY78/iT0A29TM1kms3mmsnlKpjU7rNC0wQhGcYMxCMXxR+L4fGG8phefN0ikvZVwZwfuTA2P34tjWgQ6EriWjZUpEVrRRnU8j5UvY1XLVM0iZjGH7alhey1qtRK1Uh4qeQyzgDvHJPTWZJy2ZJzWdPKg6efPTESPxWKahC4iskQogIiInGBc16VSqZDP58nlcgeFlJmxKfZtHWZifIacU8NORql6vRTH8tTw4m1pwar6CS7vwfD4MEen8YVsPIaJPT2FkS0S9BkEg14CNYukP0B7R5qeNT2kuttIJBIHBYt4PE4oFMIwjGa/LSIiskgogIiILAF2qUp5+xjmnhk8kQCRdV34uuIUCwVG7n6KmfEpOCnNxFOD5LM5rN4YRbOGZ2+GeCBM5zlrSSQSRDwBvMMFQqaH1nW9+FNRKrsnsfMVfMkIoZVtBLqTGF5dZFFEROamACIicgKzS1XKO8Yx90zj8XsJn9RJsL8Fw+PBdV2Kj+3B3Jchcc4qvLEQM7dvJnpyD6EV9U3m1bEc+Yd2kbhgDf50FKjPAKnsnqS8dRQj6Cd2Sm+967JrktpEHk/AR3B5K6EVrXhC/maevoiILELahC4icgL6/eARWd9NqL8Fw/fsZvTy1jHM4RliZ/Tjb41R2T0JQKA7NfsYf3scTySIuXtqNoAYHoPwqnYCnQkKjw2Te2CAQE+a2Gl9uJZNZfcUlV2TlHeOE+hOElrRhi8d0TIsEREB1AERETmh/H7wCK3uOCR4AJR3jlPaMkJkQw/h1e0AZO/djhHwkTj74CtPlQcmKG0ZIXXperzhgzeKu65LdXiG0pYRXNslvLaT0MpWXNvF3DONuXsKu2RqeZaIiMxSABEROQEcbvAAqOyepPjkXsIndRJZ11V/fsEk86uniZ3RT7A3ddDjXctm5o6nCS5LEz25Z87Xd6oW5W1jVHZP4Y0FiZ7Si781huu61MbzVHYfuDyrheDyVrwRXfVKRGQpUgARETmO2YUK5Z0TmMMzLxg8AMw90xQe20NoVTuRDd2zy6JK20apDEySvnzjnB2K0tZRKgMTpC7b8JzzPwCsbJnik3uxZooEulNENnTPBg27UKGyewpzeAbXcvC3xwgtb8XfGcfwqCsiIrJUKICIiByHrEyJ8s4JqiNZPCEfoZXtzxs8AMx9GQoPDxHsbyG6qXc2fLiuS+aurfhbo8RO65vzuY5pkblzC6HV7UTWdj1vbbPLsraO4lZtQivbCK3pwOOv1+ZaNuZIFnNwCitTwhPyE1zWQnB5i7oiIiJLgAKIiMhxwnVdrMkC5Z0T1CbzeCNBQqvbCS5Lv+C+iupolvzvBgn2pIie3nfQhvDqRJ78AwMkzl+DvyX6nMcoPrkXc1+G9KXrnzfozNZr2ZQHJqjsnMDwegiv6yLY14Lhefa1rWwZc2gKc2/m2a5Ifyv+jsRBjxMRkROHAoiIyCLnui610RzlneNYmRK+ZJjQ6g4CXcnD+pBeHcmSf3iQQFeS2BnLD3lO/neD2PkKyYvWPu+VquxSlcxdTxPd2ENoZdth12+Xq/uvuDWNNxYisrGbQEfi4HO0bMx9GcyhaXVFREROcAogIiKLlOs4mHszVHZOYBcq+FtjhFZ34G+PHfYlbc2R+rKrQHeS2OmHhg/HtJi5YzOR9d2EV7W/4PEKjwxRmy6SumTdEe/bsDIlSltGqE0V8LfHiWzowZcIHfq43++KdMQJ9qUJdCa0V0RE5ASgACIissg4NRtzzzSVgQmcSo1AZ5LQmvbZORyHy9yXofDIEIHuFLHT++bslpR3TlDaOkL6pRufd3P5M6xcmew924id1kewr+WI6oH93ZyxHKXNI9ilKsHlLUTWds45sPD3uyJGwEewN02wL40vET7i1xYRkcVBAUREZJGwy1XM3VNUhqZwLYdgb4rQ6g588UO7BC/E3Juh8OhQfc/HaXOHD9d1yf5qK95khPiZyw/72PmHdteXbF287qj3abiOQ2X3FOXtY+BAeE07oVXtz7mXxcpVMIenqQ7P4FQtfMlIvSvSm57d3C4iIscHBRARkSazcmUqAxOY+zIYHg/B5S2EVrYdMvTvcJnDMxQe3UNwWYroqXOHD4DaVIHcfTtJnLsaf1vs8OvNlsj+ejux05cTXJY+qhqf4VQtyjvGqeyexBPw1Teq96afs2bXcaiN5zH3TFMdz2MYBv6uJKG+NL62w1+aJiIizaMAIiLSBK7rUpssUBmYqA/oCwcIrWwj2NdyTL/RfzZ8pImeuux5OxSFR4awZkokL1l3xB/c8w/twi6YJC86+i7IgeyiSWnrKNV9GbzxMJEN3QQ64s/7HKdSw9w7g7lnBrtQwRMOEOxLE1ymjesiIouZAoiISAO5jkN1b4bywCR2vly/otWqdgLdyWPeYF0fMjhMsG9/+HieUOFULTK3byG8rpPw6o4jfi0rUyJ77/x0QQ5UmylS2jKCNV2sb1Rf340v+fz7PVzXxZop1bsi+7K4toO/LVZfotWVfMFLFIuISGMpgIiINIBTtTCHpqnsnsSp1PB3JAivasfXGp2XZUOVPdMUHxsmuLyF6Cm9L3jM8sAEpS0jpC/bMOcG8MORe3AXTnH+uiDPmN2ovmUEu1gluCxNeF3nYS1Jcy2b6kiWyp4ZrOkCht9LsCdFsK8FbzKsJVoiIouAAoiIyAKyiyaVXZOYe2ZwXYdgb5rQqvaj2lj+XCq7Jyk+uZdgf+tBE86fi+u6ZO/ZhjcWIn5W/1G/7kJ1QZ7hOg7m0DTlbWO4lkNoVRuh1R2HvUTNLpiYw9OYwzM4lRreeHj/Eq30YV3xS0REFoYCiIjIAqjNFKkMTFIdyWL4vYRWtBLqbz3qbsNzKQ9MUNq8j9DKdiIbuw/rN/y16SK5/95B/JxVBNqff5/FC8k9uAunVCX5B2sXbHK5U7Op7BynMjCJ4fMQXttJcHnLYS9Zcx2X2mQec88M1bEsAIHOJMG+NP62uCaui4g0mAKIiMg8cR2X2niO8sAE1nQRbyRIaFV9Y/lC7EMobx+ntHWE8OoOwuu7Dnt5UeGRIWozpfowwWNckjTbBTljOcHe+e+CHOjZieozeKMBIhu68XcmjugcHNPav3F9GjtfwRPyE+hNE+pL443NX1dKRESemwKIiMgxcm0Hc3iGysAEdtHE1xIlvLK9/uF4AX677rou5W1jlLePEV7bSfikzsP+ED67+XxtJ+E1R775fC6N6IIcyMqWKT09Qm0ij68lWg8iRzik0XVd7GwZc3imPnG9ZuFLRQj2tRDoSWm2iIjIAlIAERE5Sk6lRmX3FJXBKdyaTaA7SWhV2xF/GD4SrutSenqUys5xIuu7jzhElAcmKD09QvqyjXiC87MPojZTJPebHcTO6CfYm5qXYx6O6ni+vlE9XybQnSKyvgtvNHjEx3Fth+pYDnN4htp4HsOj2SIiIgtJAURE5AjVBwdOYu6bwTA8BPvS9cGBR/Hh90i4rkvpqX1Udk8S2dhDeFX7ET8/e/c2vIkQ8TOPfvP5XHIPDOCUayQvWtvQD+yu42LunaG8dRSnahFa0UZ4TcdRbzK3y1WqezOYwwfMFulNE+xLL/i/r4jIUqEAIiJyGFzXpTaRpzIwSW0yjyfkrw8OXN7akOU6rutSfGIv5tAU0VOWEepvPeJjHO3k88M69v6N7bEz+wn2NK4L8gzXdqgMTFDeMQEeCK/pJLSi9aj33szOFhmeobovg2vZ+Frqs0WC3UkMn5ZoiYgcLQUQEZHn4doO5t4ZKgOT2IUKvmSE0Kq2eRkceNg1OC7Fx4cxh2eInbaMYF/LUR0n//AgdrZM8uJj33w+l2Z1QQ7kmBblbaNUhqbxhPxE1ncR6EkdUz2u7VAdydaXaE0WMLweAt31q2j5WuZnjouIyFKiACIiMgfHtKgMTmLunsKp2gQ6E4RWtTX8A6frOBQe3UN1JEvs9L6jvtKUY1rM3LGZyLpuwquPbOnW4Wp2F+RAdqFCacso1bEsvmSEyMZu/K3H3vWxS9X6xvXhGZySiScSJLhs/xKtwxiUKCIiCiAiIgexchUquyao7s2AAcG+FkIr2vDGGr/+37UdCo8MUR3PET+jn0B38qiPVd45TmnrKOmXblzQIXyLoQtyoNpUgdKWEaxMiUBngvD67nkZAum6LtZ0sT5bZCSLazv422IEl6Xr3bEFuOyyiMiJQgFERJY813WpTRaoDExQm9i/v2NFG8HlLU2bmO3aDvnfDWJNFoid1U+gM3H0x3JdsndtxZuKED9z+TxWeajF1AV5huu6VPdlKT09glOpEVreQnhd17z92zo1m+poFnPPDNZ0AcPnJdCTIrgsjS8dWRRBTERkMVEAEZEly7UdzH2Z+vyOfAVvIkx4VTuBnsbt75izLssm/9tBrJkisRetOOZp5bWJPLkHBkict3peliG9kMXWBXmGaztUdk9R3j4GHoPIhm6Cy9LzWqNdNDH3zGDuncEpV/HGQvUlWsvSeEL+eXsdEZHjmQKIiCw5TtWisnsKc3AKx6zh70gQXtWOr7X5G4qdmk3+od3Y2TLxs1fMS2DI/24QO19pWCCY7YI0eC7I4XIqNUpbRjD3zuBLRYie0osvGZnX13Adl9pUAXPPDLXRLK7j4u+I15dodSa0REtEljQFEBFZMuxChfKuSap7ZgAI9KUJr2zDGzv2PQHzwanZ5B8YwC6YxM9eib/l2AcaOpUaM3dsIbKh+4jnhhyL2S5Ig6ajH43aVIHik3ux8yah/vldlnUgp2ZT3ZfB3DONlSlh+H0Ee+tLtLzJcNNDr4hIoymAiMgJzXVdrKki5YEJauM5PEE/oRWtBPtbm7a/Yy5O1aqHj1KNxDkr8aXm5zfy5R3jlLeNkXrphoaeb7Omox8p19m/LGvbGIbPQ3RTL4Guo9/s/0KsfKU+W2R4Bses4Y2H67NFetPzNpleRGSxUwARkROS6zhU92UpD0xg58p442HCq9rqMyEW2fIXx7TI3T+Aa9aIn7MKXzI8L8d1XZfMXVvxt0SInb6wm8/ncjx0QZ5hl6sUn9hLbTxHoCdNdFPPggY213GpTebrV9Eay4ILgY4Ewb40/o54U/cgiYgsNAUQETmhOFULc3CayuAkTmX//o6VbfjaYotyqYtTqdXDh2XXw8c8XCL2GdWJPPkHBkicv2ZelnMdqcXWBXEch2q1Sq1Wo1qtHnSr1WqYpklxeIrctn1Yto2nL4EbC8x+v1QxKZtVqjWLgN9HOBggEgri9/sJBAKztxf6+4H3eTwenKr17BKtbBlPwEdg/8Z1X2J+wqiIyGKifq+InBDsgkll9yTmnun6b5N7U4RWtuNLLI79HXOxy1Xy9w3gui6Jc1fP+6wRc3AKbzyMLz2/G6wPlz8dxd8ep7x9bP/k+MMLgLZtP29QeL6/V6tVymaVklmlYlYpV6pUqjUq1XpwsB2w3Tlu++/H48U1fNgFC2eLgScexdeSxPUH8fhCeH0JPD4vjmljZ6o4Vg3DLoFVffbmWPu/2ngN8Hqof/39mwcCfh+hQIBQwE84FCDgGPhLNfx31vAZBqFElGhPC5GuFoKR0GEHG6/Xu7D/uCIix0ABRESOW88Mg6sMTFIdy+EJeAmtbifU37bo19PbRZPc/QNgGCTOW403Mr9TtJ1KjepYjujJPQvS+XFd97CCQimbZebhXfjGnoZEYPb7pmlyww030N3dg+O6OK7Li869gDUbNlGz7IPCQblS4aff+lcuu+4GgrEE5XKZO7/3FS56w3so5Ga4599v4pxr38Gy084Hb4C9Tz3K/f/+T7z0/Z+iZ+OLuO1zf875b/0w7evX4/UHCPoDeH1+vP4AXn+A4Sce5Ed/9RZS3f1YVZO1F17F5X/6Gexchdp4HsNfn+vhCRzZh3rHtvnHl3Xzpz/agW1VsWv7b1YNu1alVqtSsarM1OpBZnTrYzz4vX/BdV0KU6OEYyk8Hi+t7cs5+cWX4/WDxw+GD3weYzbEeOYIN36fl3AwQDDgJxwM1G+hAJFg4DlDy+EGm8XYSRSR48vi/gktIjIH13GojmSpDExiZUt4YyGip/YS7E0vuv0dc7ELJrn7d2J4PcTPXYU3PL/hA8DcM43hMQj0pg/7Ofv27WPz5s0HBYmKaVIxa892FMz9HQWzSs12cOboIhx4M7x+rFwVd/te/F1p8AXqN28AXyjKhR/6wmwQ8Pr8FH2B2b8H/AE8Pj9pf4ALI71sfegurvu7b3Hb5z7M+Tf+JS9+y4fY/dtf8fSDvyafnWHT1W8FYPOdt9Kx5hR6Tz6bFS+6mFAsSdeaU+hYs2nO8w6EI6w6+zJe95nvUauUuPn6s1h/8atZfvoFeEL+2eVRgZ4U3vDhz/LweL2AQTB2eEMk+8+8iPPe/D8AuOWdl3LVRz5Px5pNuJaDla9gZ8s4VQs8YIS9EPHiGs5suHH2Bxu7VqVaq5Kzng07tlnFLtRwrBrYRbBm6l0au4phW7hWFdeuzdmleebPHgP8Xg+h4P6OTTBAKFgPNaGgn1AweFBo2bhxIz09PYf9fonI0qEAIiLHDadmYw5NUdm1f39He5z42avwty/O/R1zsXIV8g8MYPi9JM5dtSDD6VzHpTJU/8Ds8R/+b+3vu+8+vnnPFnzxNHgDs2HB6wvj9fvxBgN4o/VQMBsa9gcFr8+P94Dw4PH58fr8GB4PdrlW/wDflTxoSdzPP/MB1v3BKw6qYevdP+GuL/0vAMxijlTXcm740h28+HXv5Ynb/p0H//OLDD1yL1d++HOzz2ntX0tufJhquQiuS35yH63LTzqq984fitC97gxy43sBsByT/7rlzxnb+gSubXPZ+z/NSX9wJcNP3M9t/+dDWNUqwWiMV3/iFlLd/RRnJvj+R99IcXqCtRdeNXtcx7b55ef/gqFH7sWuVTn/rR/m1Jdfz6M/+Te23vMTytlpwskWXv+/v39ITa7hcvPbz+KPv/EAIV+CwsgYX3/nBbz9s/fwH598Db0nv5jBx+7B8Pq47u++Sde606mWCvzs7/+Eyd1P47oul3/g06z8g0uf99xdx8G2agcFGfvAEFOrUqpVyT8Tdp7p6pRq2FYNrDJYWbCrWPkZ3pLNct111x3Vv4OInNgUQERk0bOLJpVdk5h7ZnBdh2BvmtDKtuNug66VLZN7YABPyE/inFULtkysNpnHKVcJ9bce0fNc18Xb2jvbSZgv3rAfbySANV3EGw/OhsVKIcPN1581+7grPviPrLvoFay76BU4ts0333cF57zhAwAYhsHL/vQzfO3tf8CbvvAzvL6Dg9tJL7mabff8FNd1WfuSqxl5+pGjqrWcnWZycCv9Z7wEgF9/7VOsvfAaXvXxr5HZspNvffRqVp+3mfaVG3nbV+7B4/Wy9e6fcM9XP8Ur/+eXuPvLf8val1zNeW/+Hzz0/Ztnj/vIj75GvK2bP/7G/dQqZb76tgtYc94VAIxte5x3ffu3z9kp8Xi9bLzsWrbceStnvPJGtj/6X2x82WsI9bZgGAZ2yeSGv72NgS1387NPv5+33vwL7v7Xv2XDpX/I+otfRXF6nFveeSnv+/6Tz3vuhseDLxCEwLHvRXriZ99A17gRkeeiACIii5LrulgzJSq7JqmOZDECXkKr2gj1ty5I12ChWZkSuQcG8EaCxM9ZuaCXeDUHp/Amwnjn6XK+88HXGsPcM42dN2e7IKFYind/53dzPv7Om/6Kng1nsf7iV87et+P+XxBr7WJi5+bZD+/POPny13LHFz6Gi8vlH/j7Iw4gAw/ewc1vPJOpoW28+HXvJd5eXzq08/7b2fbrn3PP1z4FrkvNLJPZuQtP0s8P/voGpocHcF2HcLx+la+hx37DhX/0lwCceuX13HXTx/cf55eM73yKx/+/7wBQKWSZ2TsAwOrzXvaCy7ROv+YGfvqp93DGK2/k8Z9/i2s++kV88RBGwMtp192IrzXK6lMu4ef/9AHKA5Ps+M1t7LjvF/zqy38DQLVcoJSZJJJqO6L3RURkISiAiMii4jou1dEslYEJrMz+/R2n9BJcdnzs75hLbbpI/sFdeOMh4mevPKJlUUfKqdSojucXbPP50fKG/XijwUO6IHPZ9uufMvz4/bz1i7+YvW9m7y6evO27vOPf7uOWd13KqVe9iWhLx+z3W5efRH5yHxgGLX1rjri+Z/aATA/v5Cs3nM+pV15P17rTcR2HN37uh6S6+wGoTRRwLZuf3/xnnPSSqzjr2j9mfMeT/PATb3/2YHOcm+s6XPOxL7LirIsOun9iYDP+0AsHxdb+tTi2xa6H7sQyK7Sv2jj7PY/fi78lii8dwfB68MWCuJbNdR/5JsnefnyJUP0912wREVkk9L+RiCwKTs2mPDBB5q6nKTw8WN+g/eKVJC9aS6i/9fgNH5MF8g/swpcMkzhnYcMHQHUkCwYEepo/d+P3+VqiOFULO28+52My+3bzy89/lOs+9W08vmd/R3bbZz/Ipe/5G5JdfZz/5g9y+xc+dshzL3nP33DJuz9xTDW2LFvNS278CL/5xj8CsPrcl/LAf3xh9vuTU9vxdyUwizniHfUuyaM//bfZ7y8/7QKe+sX3AHjiv/599v7V51zOb79/M45tAzC+48nZPx+u0665gVv/6gZOu/otB93/1C/rr7fzvtvoXLOJQGeC1RdeyWP3fhvDgOpYjsE7fkV1NIddrmlplIg0nTogItJUdqlan98xNI3rOAR7UoRWrpi3aeDNVB3PU/jtbnytUeIvWtGQEGUOzxBoTyzoEq+j9ftdkN/fA3La1W/BLOYoZSb59geuAaBnw1lsvOxazGKOky9/LQBnXftOHv7huex98sGDjr/q7Mue87W/8b4r8Pz/7J13mB11vf9f086cOb1szW42PYEEQhJCCb0JCNgQFFEscFXKFdQr13ttYL2C9XctKCIiKlyVpiggSu8QCIEQSEhIspuy7fQ2c6b9/pjdk91kU9mEAPN6nvOcs3POlDO7O/N9fz/lLXnnZP/j38dBp3+Exbdey7u/eu1Wnz3k7Iv4yfv2o9DbzTH/9hXu+f7nuOac+Ti2Rft+8znzmzdyxEe/wB1Xns8D11zJ9CNObqx77Ke+yi3//SGeu+N6Zh5zemP5gvf9G7mNa/jlhxfiOg7RpjY+/L9/36XzN+eks7j7e5dywCnnjFruOg6/OPdgBEHkzG/dCMDxn76Cu7/3Wa7/wgk4lkn7jAW0TpuLVfSMDuWEhhQNvmmFvY+Pz5sb3wndx8fnDcHMDfl39BYQZIngpBTqpPQeaUn7RlDvLVB6bh2B5iiRBZP2ykDPLuvkH1xB5OBJqO27HgG59dZb+d3DL6NEk7hyAFdUEBqdrZTN3a9GdLsa6achyVt0yBrqgjXqGIc7YrXHx9X1/e3Aa0/9i2dv+xVnX/XHxrLrLziGd3/1Wpom77fD9V3XxanWsfI17IqBIAhI0SBSXEMMyuC6ozpejep0ZY7uhjW69a+33LXqCI6JYNUxSznOO2Z/vwuWj4/PmOx7U2Q+Pj5vWVzHxewrUlsz4M2Ch1TCcyZ49R3yW8e52diUp/xcN4G2OJH5E/da7r2xPu+Z5rXsnO/ElixatIh4PD7KSFA3DGpGseEoXitv9gOxbAfbhfoYXiDD/iBIiveQPTHjSgHqeQPEAMH25NZCRh7RxlcJjBI3I8XO262e4YFfXMELd9/EOT+4zWuX2xAJFpXcALKqjRYOI0TCZuHgPWPXoW7glsvYxQqOoSOKDqIqoIQCSCNMDrf0BVElseH/oQ37gUSHXqvhEaaFs5g9e/aOv5iPj8/bEj8C4uPjs8dxLRujJ0dtzSBO1UBORdCmNqG0xBDEfadQejwwNuQpL+kmMCFBZN7Evfb9XNclf/8rKM1RInM798o+h53Qx3JA397P1cECheXrYWISIyCgG6ZncGjU0et16uZmJ/RtGR0iyZ4t+JCwYUjcuNJIPxJli4jMGFGbhmfJ0Gtp/ISwY9sNITDKW2NkRGFEhGFkNMG26gi2iWDXPcNAq45rmeCYYFvbNAocfh1QJIKBEUJBVQgNvVaHDAMVRUGRFcSaBZkaFOuoAYVQR5ro5Ba0dGwrR3RpHM+Pj4/P2xdfgPj4+OwxnLqFvmYQfW0G17IJtCfQpjYhJ0Jv9KHtEeq9BUrPrkPtSBKe27lL4sN1Xer1OoZhbPW8vWW1mk7VqFMpVHC7c6T37yDSFCcQ8Aaaw4PNkc9jLQsEAnuta5bruhQffRVBkYkdPnWr923bHiVcthQx2xM6hmE03NprRt2L3Bh1avU6ddMa0629IXQccEUJ5ACCJDfMGF05AKKCMJxmJok4tudA7pp1GEo7GnYWdy0TbBPBsZHE0cJgS5fxgCKjDQuF4GaH8S2FwkgRsOXPWy5TFGW3hIJdq2P05DB6sji1OlJMIzg5jdrx5u1A5+Pjs2/iCxAfH59xx67V0V8bxOjOAKB2pQlObXrL1HcMY9t2QwiU1mfIPbsaJ6EiT01jWuY2RURVN6joBtWaQdWoU9O9QfPwLL+1xYy/5YKDiKCoICkIiurN9ssqoqIiKQHcioVZqiCmgkMz5gaCXcc1DbBNXNNAxEHeYuZcHvFaUwNoQZWQGiCkqYSDKqGgukPxMtayHQ2AjY15ys+tI37UjL0mSB3H2a6w2ZHQqekGet3EMC0CstQ4X9sSBjsjFMR9MJXMdVzMwRL62gxmfwlBkQh2pVAnv3VqtHx8fN5YfAHi4+MzblglHX31AMaGnFdYPiVNcHLTPtORyXXdUTPlY0UWxnrvnHPOYcKEDhzXwXFcDll0JIzm3woAACAASURBVNNnH4hRt7waiJqJPlDGEBzuvfsmjjvzY6iRGHXT4v6bf8Fx511KKZ/j4d//Pw794L8zaf7RSIEAPS88yWM3XMU7//N/6TzwMP7+nYs59lNfo2X6AchDwkIKqEOpQTLrnn2I3154Euf97B6mHnYSANeedxgfuOqPBOtRxKBCoG3s+g/XdXFsi79ceQEzjjqNKQuPwzIN7LqBbda912adu6++FL2Ux6iUsM06wWgCXJdjPnIpqiLjNmb6TU/AiKNn9IcFjhrwZvY1zRM04aBKSFMJDgkWRVawXu5HS0ZJzO3arqBRFGWf8jR5O2FXDPR1Ga9LneUQaI8TnJxGToX934mPj89us2+MCnx8fN7UmLkK+qoB6n0FxKBCaP92gl2pvVZYXigUWLx4cUM4GIZBbTjKoNep6l7UQTfqWI6LtUUaTuNnBAQpgKAEQPaiDCgqcjDEEZf9CHm4biCgUlQCyIqK4IjIGZ3kvDBaZxPHTNqPVU/fzweu+iN3fe8yjvj4F1l43n+wdvGDvPLEfZQHNzH7JK8z0NK//Y6W6QfSMnU2E/Y/GEULk2if1DC9G4tYayeP3nBVQ4CA56Hi1C2UdGSb6wmCgCQriLKMGo4QaWob83Of+v0zADx/52/pX72Mkz/7vTE/5zoOVt3wahhGipih10XTIGd671mmgV0wsQcMsCtgZsEycIplzMV5lGeXIMvi1oJm6GdZFAiqAUJDEZlQ0BM02lB0ZvixcOFC4vH4Dv9efHYeKawSnj2B0MxWjPU59LUZik+sRopqBKf46Vk+Pj67hy9AfHx8dgvXdTEHy+ir+jEzZc+x/KCJqB2Jvd6h6MUXX+TaOx/BjjR7wkEOICpBZCWOpChISRVJDiAHVKSASmD4tRJAUtTGa1Eee6b9rh98gf2Pf++oZSseupMHrrkC17Qx9BKJzil8/Jf3sfCsC3nh7j/wxE0/pvu5Rzj1P37YWCc9aSbF/vXUaxVwXUqDG0l3zdil79ox51DKmV7WL3uKzgMOA8AxLACWPfhHHv/9D3Fdl4POOI8jP/oFAB785ddZ9o8/Em2ZgBxQG9ta9cQ/eOjab2AZBs3TZvOer12HpIydYvOvn36JVOd0Frz3fABu+8p5HHTGeRT7N7D6iXspZ3opZ/s59AOXcNg5/w54IuaZP1+DbdaZevhJnHzZ1aO26Tou+ppBxHAAOe11cbLqBvZQNGZY4Oh1g/JIsVM1sQoGjmkgWGWwDKTyAKqqctRRR+3S+fTZOQRZIji5CXVS2vu/XzNI5YUNVF/u9dOzfHx8dhlfgPj4+OwSrjvUSvfVPqxCDTkeInrwZJTWN7ajlS1rHPC+C/fItrc0zDvl899n5pGn0zVxEa7r8Oerz+WwD10KeJGGky+7musvOIYP/+TvSLIyalszjjqdlQ//Ddd1mXnU6Wx6ZckuH89Rn/gij/7mKs75wW0AOLpJxRzgoeu+xSdvfBIlGOLX5x/NlEOOx3UcXn3sbi78vyXUill+dtYBHHL2RVTzgzz+ux/w0Wv+hRLUeOAXV/Ds7ddx6AcuHnOf8874GH/7zkUseO/5GOUiG5Yv5n3fvJHn77yBDcsXc+HNzyEIIr867zBmHXMG9WqZVY/fwwW/eQxBFLn9qx9l1RP/YPqiUxrbFEQBORHCylYQm6NIoQCB0LajONtj2c3f3631fHYNQRAINEcJNEcb6Vn6ugy1NQOoHUm0ac1IEd/fxcfHZ/v4AsTHx2enGBYe1ZV92MUaSjpC7LCpyE2Rt3wueDCS4MKbnm387DoORk8OcHnsbz9iwuyD2e+4dzfeX/XkvUTSbQysXj5qwA0w5x1nc99PvoSLyzsu/e5uCZCZR53OAz+/gv7VL3nHY1r0rVvOlENPQIunAJh94pl0P/8YuC77Hfce5IBKtKmdKYccD8D6F5+k79UX+fX5XsTArhvMOOqd29xn0+RZOLZFbsMa1jzzAPsf/95Gy9oZR76TYMRLfZq26GTWv/gU5UwvPS88wbXnHQqAqVfpnLsIFo3erhzXMLNlrKKOknxrdkd7qzKcnqXNaMXozniNJ3pyBNrjaNNbEKMq5XKZfD5PoVCgUCiQz+fJ5fPkShWS0TDJRIJEIkE8Hm88RyKRfbI438fHZ/zwBYiPj8922TLioaQjhBdN2269wZsd13UxjDqVSplyuYJt2zy9+FkiIY1wKEyg6qCh0LvpWTa89BQf/fm9jXVzG9aw7B9/5N9++wQ3fPoE5p72YcKplsb76a4ZlAY3giCQmjh9t4/xyI9dzmM3DKU0SRKiup3L+RgC0XVcZh51Gu+54tc7vc957/oYS//+O9YufpDTvviTsbcvCCAIuI7DwWd+imMu+NJ2tynIInIkiJ2vIie0t7yYfSthWdZmYVHIkxdyDGzYQN/DG+jLFshiYUaC1EUJ3QZHDoIWRwjFkYOtWLkK7ivdUHsR0dIJShCUQFNEWlJxWlNx0smtBUo8HkeW/eGLj8+bGf8/2MfHZ0zGEh6xt6DwsG2bSqXaEBulcplssUytblF3wBZkbMel2wzhDOg4xT4E3UCoZ1h709c46gu/ZPWatUQiYcLhCPd8/3OccNE3iLdN5IiPfJ5//eRLvOeK60bt8/iLvvG6j3v2SWfx0K++iV7Ko7ZE6eo4ivuu/Qq1Yg4lGOLlB+7gXV++BtdxuOuqz3DERz5PrZBl7eIHmf/uj9M593Du/v5nyW9aR6J9Eka5SLWQIdkxZZv7nHPS2fzywwvR4ilaps1pLF/1+D0Y5SKCKLL6iXtZdO5lGJUit375PA4560K0eIpypg9cl0hTW8PzRNd1dN2gVi5TWj+INdhNXXA9L4xgkGAwiKp6z8Hg3vUqebvjiXCjEb0YGcXoy+S45ZZbeOH550EQEESJQ995Ns/e/zeOOf+/ENJTUZo0ZDtAQA2TbGkhMqkDJaRtc39W3fC6r5ULVMsFXinlWTpQxFk3ALVVYFTY8PISytl+jjnxZNLxiCdS0smGKBkpVIJBPw3Mx2dfxhcgPj4+o3irCg/XddF1oyE0yuUy+VKZ+y47mmDrFFwXBFlhwoe+TnTGwQS0CHEtjBRQeVkvs/aHHwbHS79qPuZDmNUcZrXEwz++DBwbp14jOe9Eaht6mBjpYtmyl0gvOIWnb7mW1559lJHD5qmHnrjN47zxklMQJe/SvP/x7+Og0z/C4luv5d1fvXbU50RJ4vAPf5a/fdure4k2T+DYT36VGz55fKMIvX2/BQBMP+JUrvngPKItE+g80CtcDyebedeXf8Gf/vMD2GYdQRQ59fM/2K4AUSMx2vebT9f80YXeE/ZbwE2ffVejCD3W1oWuG8w762Kuu+BYHMdBlBXmfvxKhEQblZrR6EZmueCIEk5dRLAk5EgYp2bCYAGsfgTHQh7RDSusqUS0YEOgBIMqwWCQet3Asqyd/nvwGc2aNWtYvnw5uXye3kye/myBUtVAt0G3wUQCLYarxSkMZFjR08/7f3gnoUQas1YhnGrlsM/8cNQ2XdfFLtQwBytYG0sIaRdpG1EuOaASSbcSSbeOeXyOZVG99VqMV5diH/Ruukt5VpaLmP15hNoGqBVRsBtRlGhIpTUVpzWdIJlIMGfOHCZPnrwnTp2Pj89u4PuA+Pj4NDAHy1Rf2YSVr6KkI2gzW98UwuPRRx/lp7f8CzvS3GidK8gBLAdyxRK6aVExLOquiC0GcJQgohZHiSR49dvvYcFPlxKIJMkuvouBh25mzpf+vNU+XNvFKtQQAzJiJMCWQ6iXf3Q+yYWnE97/SEy9glWr4BplJMciIIGmSCRjEWKRCB0dHYTDb756B9sy+cWHFnDeNf9EDEbQdYOld/6G3PrV7H/mZ6jUalSGzBUtB57/ysmoLVO8WXJJYcKHriQ89SAqyx/BzGyk8z2XIgeCCKKIVa5iF8uIEQnXqtP30M1Ue16h44xLMKuloXNaxtIr2HoFR69Q73sNu5wlkm5HKvUyryPGAXNm+zPju8Gvf3MDt7+wiWDTRNRIHDUSJxhNEBx6HQhtrvV6+f7bWfaP/+Psq/44ahtXn9jKf97Xh2Pb/O1/LqZ7yaOku2ZQzvZx2sU/QrRkbv/RBbTPns/G5YtpnXEg7//OTQiCwMbli7n3x5dTr1aINrfz3it/gxZPsfKRv/GPH12OGo7ROmMuWiwxZmto13WpV8sY5QJ6udCIphjlAvpgD++b284Fn/j43jiVPj4+O4EfAfHxeQvgpRFVqFS8mf0tnwulMqVKjWhYIx6NEIlECIfDjeegKyGsLxEo2ajpKLHDp6E07fvCY5gDDzyQTw2l9DTcxms6zy5ZyqvL1uCGUkiBAEE5gBTQEGQFJyvgAlgG1fuvowLkVy3FzKyn/84f4wCbHr4FI7MRQQ7QdsIFaG0zQHbY8NcfU88PIIfjTPnoN9HapuIYVQTLQNM0QtE4oqKCKGKbdcxahWq1TL5WwRnYhCiKTJ8+7Y09aTtJLpdnYGCATS8/y5M/+wIth53Ow0tewbQ9V/Hsmh7q+Sz6q92IoogogCgICAJIwQgzL/oJrlUn/+LDDNzxPQKnX4SKhRqPk//nr8AeMjZ0HNyKgawpSAEJa9VS3Hw/4gt3ogkCsYCKEgggBwMosSBKIMaGWjcl3eTAI47CsS3ibV1025Y/M76bhNqnM/vEM3f4uamHncSDv/w6Pzv7QKYedhIHnfZhJsxe2Hj/5ftvo5Yf5JJbljG49hV+cc58lHQEiQCZnpW869Kf0XHl9dx44Ul0P/8onQcezr0/vpwPfu9WtHiKJX/5DY/c8F1OuPAb3HX1ZXziVw8SaWrjt58+sRHB2xJBEFDDUdRwlFhr56j3lt93G1B5XefGx8dnfPEFiI/PPopt22OKiZGiIlssky2UKVVr1G2oO0MPGwhoEAhBMIKghlHUBGafjttdAH0D1Ku4egWprCNVDQKKQCilkWxJknw2TCoWGVOsjHyWpL1jNLgj4vE4J5xwwlbL29vuoTfyKgec6bWWHXYDH2mc98LvvkPfI3/C1Gvo5Txn/PfPCadbefGem2lJp5j/if9g0/KlPP+3n3L4x/6Ll//xJ1LJJG1Hv5P+lUvpvu6zTD3xHOy+VehL76aQWY3jgusCkgyyCkoAJM/csNTXQ/dACnvjJKQhM8Nhc8Mt3c9lRR3lhP566h8a332kOaA5tong5vfqrF61go2ZIpIo0XzCRxFwyC6+23M9lxWa00nEphRCz1Oe+MCrQ5dlGcGxaMq9jKKqiFYGMaJxYFuEdUsepTSwnkM+cDGVTD8PXfdNXNumfdrB9C1Zynm/vJeX77udTPdKTv70l7jzm5+CaIK1y56iVsjyrq/8kq55R/HgNVdg1XUKfT2cePE3mTR/aw+QLWfGB0t5NpQLGGsL6IMv8L7+AX9mfBdRw1E+/YfFrFn8AGueuZ/fXXIqZ/3PzY33e154gtknnY0gCDRP2Z/WGXMBkEIB0p3TSbfNQF81QNuseeQ3rkOLJuld+QK/vegdgJdu1TJtNoNrXyHdNYN420TA6yBX6O3e+1/Yx8dn3PEFiI/PXsSyrO2KinypzKo167jx19dx5nkXUHfAdODhu/9C+7T9aZ81D9QQqBFENUwg1IwyIUxAi6BqYaKhCAEtgqKFeehX32DqYYczaf7RWx3HcG620ZfHNKq4moCtWJh6lU21Mt21CvX+Ck5PCYxNYFShXiUgQkACRYSACL/56fe54lvfJRWPkNiBWNkXutYMu4GP9OYIRhNccovXznb5v25l8W2/5KM/v5enbv4Jx1zwJSYedARTZx3PS//6Pw5+z0d48e/X88Hv3ky0eQK2ZfGj07o4+WOX8bcNK5i26B1MWnC0N8Af0yW8ztq1j3KwWGGqplGtGVRLBjWjjm7UMR0XY8iV3XLBHuHY7iCCHECQvRQzd0jQMGSqKIhiw50cqw6WgWDXwTRwLS/KIOJsdhkXQR7xOjjkNq4NO45rKqFEgKfXbOTFSJjJBx8xWiBtw8xRUoYFk8RT13+D5XfdiKlXqRUynP/rR2iaPIt6rYykyExZeDx/uPQMTrzk2+x33Hv45/f/i4F1y4k2tRMIhT0TSVkBQUAvZPm3Gx5nzTP38/B13+Kj1/yT4y+8crtu7cO/c39mfPwRZZlph7+DaYe/g1CiiRUP3dl4b3uZ3ZK6OQXOqZo4loXrOrTPmsfHfnnfqM/2rnjebzrg4/MW5Y0fEfj4vAVZtmwZ3d3dnqgoDkUqimUqNWNUlMJ0BYRACHcoUiGqEeryJMxAGPugdxPUwsRCEcLLX2Xi8Wez37Hv3vHOhzj+wq+PudwxLOp9RRzdRElECKXbEOQd99x3bBtTr1KvlalXy5i1Co74Y15UplEfrOBsqIDeh1Cv4tarKIJLQPKESkCESChIMupFVhIxT6x0dXVxwAEH7PR32tPMPPp0br/i41std01nzIGQKEkIgkgwmkBWg4STTaQ6t59aZec3ccrRMzj11FNH78N1MU0TwzAwDKORSjb8vK1lum5Q0SvULZuALBEOqgSDGqqaQFW9zlEjn7e1TFHGdoEHyA2EmXnU6Tt/IocY6Z+y/F+3ctfVnxnVshhg0yvPMWvo73rOSWex+ul7t9oOwKzj3gNA+/4Hk9+4bpePxWf8GFy7AlGWSXVOw3Vd+le/RPOU/RvvT5y7iOX//DMHnPJBMutW0vfqC5tXtp3GS9dyMPuLRA5oodDbw4bli+mYvRCrbpDfuIamyfuR6X6VYt96Iuk2lv/rFjoOOHRvflUfH589hC9AfHz2AH+84++8UJBQYs1IwRiBUDvKxDCBUARNCxPXIgRCEZRgCGELw638xrU8/cef0TZrXmOZJCuIosjVJ7Yy710fZfUT/yScauacH95BQAvz5E3/j8W3/BJZDdI5dxFn/PfPuOPK85l94pnMPPoMXnnwr/zzf7+IGozQNGEWwWiSU/7zh/zuslPoOOBQ1jzzAJahc9b/3ETLtDnUaxXuuuozDLy2HNdxOPHfv820w9+BVde57SvnUckOMPPo0xAlZSujPfA6RZl6lXq17AmWWoWBapmNeoV6roK9qYJZ7GZu/MV9SoD0vPA4yY6pAHTNO5IX7/k/Jh50BJnKapRQmGAkTtdBR/LiPTdzxHn/wfL7bqVjziHjsm9BEAgEAgQCAaLR6Lhsc19iW+JuJGI4gBgY+7YkBwLeZ0QJx7HH+/B8doF6rczdV1+KUSkB0L7fAg794L/z2I2eG/3sE9/P6if/yc/OOoCmybNonjYHNRLDKuu4jhcdEZXN6ZuCLXDGRT/j7m99BrNexRUcjvm3L9M0eT9O/cKPuPGik1EjMVqmH7j3v6yPj88ewRcgPj57ANuF9H6H0DVv65z010OtkGH6olM4+bPf4/avfZyX77+dg07/CA9d9y0+9/e1BLQwerkwah1Tr3HP9z/LR66+i6AQ5c9Xn0u4ox1J89KQJFnhU797iiV/+Q1P/OHHvOdrv+KR67/DzKNO571XXk81P8j1FxzLJbcs46Frv8nMo05n0Uc+xzO3/GKbxymIIoGQJ7K2Rffzj2JvfHJ8TszrQC/n+cW5B4PrIkoy7/ryNQAccvbF3PntT3PNOfORA2rDsO+4T3+NO648n6V//z1aLMl7r7z+jTz8Nw0jxd1I2vebz8qH/8asY9/Fy/fdOqZp4rYIhKIYlfJ4HubbmtqmVSy752YCkRjByOYOWMFoYlQXrAn7H8wFv3lsq/X/874+wIsMvvMLPyIQipDfuJYbLzqZSKqdejXPJ350X+N3/M4v/y/13gKObtI2dS7nXnnHqO3p3VmmHnACF/1hKWJw+zVQw7U+w92v9HIBvZynXi5iDPZAc/t4nSYfH59xwBcgPj77Gtu6yQoCgVCEqYedBED7/gvIb1oLQMecQ7j9qx9l9klnsd9QqsowmXUrSLZNJSQnCbREmX3K2RR6N6ew7Hf8exvbe/GemwBY/eS/WPnIXTx8/XcAMPUKlUwf3Usf4+jz/wuAuaeeywPXXDFe33qPIAgCTrXA8vtuI5JuIZxqJZJqJRCONgYzX3vKGHNdJahx5jdv3Gp5KNHEuT/+61bLxxIirutSr5QoZ/uoZPsoZ/pxqoW3TV77tsTdSE75/A+47asf44FfXEHXvKNQwzsf/Zmy8Dge++3V/PLchZxw8TeYcdRp43n4bytOOO5Y2ltfJpvL0Z9dT1/PMopVg/wIHxBBi+FocZRwfJQ4CUbiqOEY4og6r99/5jTq1TKu43Dq5f8Pa7AKjovSGsPKV7HLBmJAQp2YxC7qmINl3BHpWQCObuLopvfatjBdA8upUjcr1M0qRrWIWSkg1gq4W3Q7aw6ptKYTtEyOk5p/ELNnz96r59PHx2f7+ALEx2cfIxRPoxdzo5bVCllCiSYkRW0sE0UJ1/ZSUc798Z2sffZBXnnwrzx50//jkzdujiw4ju2FZAA5sbX3hDy0TVGUcIa25zoOH/rRHSTaJ219gG+iwfOCBQu4wLJYv7GX1T2vknvFYNCEuqQhxFpQky1D5mdthJLNo4rTdxXbMqlk+4eERh9Grh+32E/ArhFRoDmsclhHK51z5rNgwYJx/JZ7np2dGd+SbYm7ee/6WON1vK2LT974JIIg8NiN30dW1a0+M1LcBUIRPnvnagC0eGrU3/pY+DPjO8eUKVOYMmW0CaWu66Nc0IefB7IZejOrybxWpmJDxgbDEXDVMGhxxFCCYz/5VYJDfyOiqWDkCoS6WhAVCVFVsHJVXNtBkETkuIaruJQ39VHd2Of9fqwadaOEU8rhFrJglFFxUAUXFYfmkEZbKklre5rU9C5SE1pItjWRTHr+L77fi4/Pvo0vQHx89jECoQjBaIKepY8z8aAjKPatp3/1Mlqmzhnz867jUOzrYeqhJ9I17yh+fMaUhpBwDJuwnSa7aRWl7CbUeopXHrid9v23PwCedvhJPPV/P+GUz3k53b0rnqdt1jy6DjqSl+79E4efexkv3nPzdrexL9Dc3Mzpp3vF067rUigU6Ovro6+vj97eXtZsWEPPi4vJmC7dloAbTiHGWwmnhqIl6VbUSHzUANt1XYxygXLGi2pUsv04hT6ESpaw7BJRBOa2ppmyfyttbdNpbW2ltbWVeDz+pox8jPfM+JZsWPY09/zwP3Btm1hrB+/9+g27dHyOZWFUiqPM5/RywZ8ZHweCQ27zra1ju5NblkWxWNxKoGRyeXozGxnYWKSUr1EeqGBFNIRkwnNTV6JY2RryiiCCVYZaEcnSUSUIii5x3SRuCrSEQrRMaSE9eSbxcBTNEAkbIhE1iCxt8TdVBmGdhZwrYyccjLiGHNcQQ4E35f+dj89bHV+A+Pjsg7z3yuv5+1X/jlEpIUoyZ3zp59usp3Acm9u+ch5GtQyuyzEXfBlXt7HLBuZgCaVL4/jzvs4fv3U2ajRBy/TZqOHYdvd/zL99hXu+/zmuOWc+jm3Rvt98zvzmjRz7qa9yy39/iOfuuJ6Zx+x6V6Q3EkEQSCQSJBIJZs2a1Vhumib9/f0NYbJhUy+r1z9FZmWNbgsMQUWIteBIAUS7jlvsR3UNIjK0RzWmdrbSMXdGQ2i0tLSgKLsfSdnXGO+ZcTUSa8yMq5E4nXMXNTpljYVl6OjDjtal/FAEo4BbLSDUit7MuOgSlECVoDUeoS2doLkrQSLRuZUbuj8zPn7IskwqlSKVSo35vt5XoPeRl6iFRKyJYQqFAoVCgWw2y0BhkEQsReusyaN+P/F4nEgkguC46N1ZjLUZ7KqBHAkRPLCJQGsMK1/DHCxjDpawCrUh0x1wTRszU8bMVWCo2F1QZOQhMSIlNOSYL0p8fPYFBHd7Dbt9fHx2i69+6ypeyIvIsWZkLYKihQhoEQKa1wlr2KsjoIW36oK1uzimjV2sYRV0XGt0l6C6XkFLpzBLVf76swtZ+IFPMfPoM8Zlv2PhOg71WoV6zWvX63XDGv65ilUrYxUHmJtw+OZXvrjHjmN3cV2XUqnUECV9fX0UqzqxULAhNFpbW4lGo/5AZgy2PzOeZyBXpFq30W0wbLDlIGgxhFDCM2+0LdxqfvTMuAShgERzMkZbOkE6mRg1cE0kEsRisX3Cb8YHzGyF0lOvIacjRBdO2uo6V3j0VcSQSnRB13a34zouZn8RfW0Gc7CEGFRQu1KoE1NIWgDHtLEyZU+QZMrYJR0AISAjSCKC6BnduHWrUU8iKDJyLIgU15CjQaRYECkSRJDG51rs4+OzY3wB4uOzBxj2AalUKuSKJXLFCrlimVJV38oHBEVDCIZxAmGkYISAFhpq0RtudJIKBMMoWhhxC+dxx7SxSwZ2WW/cXEciBhWUpgiPXPMdXnnmr1iGTtf+R/LOy3+Mkgzv0ndybNsTE0NtdevVMqY+LC6q2HoZsV7B1Stg1ggILsoIH5BoKEgyFiEZC5OMRQmHw/ucD4jP3sFxHMrlcmNGfFigZHM5qoZFSJVJDeXybzkzLo6TYPfZc1j5KsWnXkOOaUQPnTLmwL6ybAPmYJnEcbPG2MI2tlvU0dcOUt+Qx7UdlJYowa4USku0IXAc3fSiINkKVqaCXfYEiRhUkMIqSKJ3PI6LXdKxq0N1SoKAFFGRohpyPOg9x4II6va7b/n4+OwevgDx8dmLWJa1TRf0SqVCvlgiOyRWipUa5gixUnfAVYIgBrFdFQQVWVS9yEoogiyrnlBRQyhqCLU1iZzUsMsG9U0FtGnNIAqYA2WsfBUlHUaMqZhGtWEsOEpc1Ko4ehmMsueEbtZGGQsqIsTCGslYhFQsTGJIVGzLDd2fmfbxeetjZiuUnl6DFA0SPXTKKL+Pkeg9WSpL15M8Zc42P7MtHNOmvjGP0ZPFylcRVQV1YtKLioTV0Z+tW1jZiidIspVGypagSMjJMHJMQwhICIKAXdaxijp2UW80+BADMlJMQ4oFkWMaUjSIFFXHLXLtxfdLqAAAIABJREFU4/N2xRcgPj77KLZtU6lUKGbzFHr6yfX0U9yUoVwuUbXqVGWHXE0nmytQKJSpuwKmK2AqMm48hKBFENQwZl3CtQNonU3YVh2nVsbJZLAyGeSAg5bQCEiCJywkiIdDJOMRktEdiwpJ2rWBg4+Pz1sXM1Om9PRapLhG9JDJ2xUWVlGn8PAKYodPQ2natl/QjrAKNYyeLMaGHK5pozRFUSemCLTFxoy8uLaDlatuFiS5Kq5tI4giUiKEkgojp0KIqoxTNbFKNeyiJ0ycUdGSoJfGNSxOon60xMdnV/AFiI/PPobruFiFKuZAGbO/iJWvAS5yXENpjqG0RHENi9rqfqx8FfDESs2sY3dEsNMqlWqlEVkZfGEthWIJpyNOOBggPiQqlLKNuKFMorOF5oXTiSXjhEIhX1T4+PjsMuZgmdIza5ATIaKHTEaQt38dcV2X3D9eQpvWgjaj5XXv37Ud6psK6N0ZrGwFISCjdiZRO1PIsW03HnAdF7tY2yxIshWcugUISNEgciqEkgwjJ0MIAdlL2yrWsEpepGSraEl0SJRE1UbExK8t8fHZGl+A+Pi8wbiu6xlxDRVSWtkKrmUjyBJKcxSlJUqgOYqgSNQ35qmtHsAu6wiy1Cg2V1pihA/oQAoFttp+/v5XUFpjhOdM2Oq9el+R8pJuxKBCdOFkpIi61Wd8fHx8tkd9oET5mbXI6TDRhZN3esBdfOo1EARih07Z8Yd3AaukY/Rkqa/P4dQt5ETIi4pMSOww3ct1XZxKHTO3OUIyso5EHhIjSiqMFAuCIOBU616UpKQ3BIpdqQMuICCFAl6heyzoiZroUCcu0Y+W+Lx98QWIj89exrvBGUNdWyqYmTJu3UIQReRUGCUdQW4KI8c1BFHE0U30dRmMdRnvZhoP4doOdtlAiqiE9mtDaY2NGfp3LZvsPS8RPqiT4MSxW2XaZZ3S4nU4uklkfheB1u236PXx8fEZpt5boPTcOpSmKNGDJ+3SbH91RS/6ugzJd8zeI6lLruNg9pfQu7OY/SUEUSDQHkedmEJOh3d6n8N1JFauipmrYueruM6QiWIihJwMIafCyIkQYsCrdXNtB7s0UpR4wsSLroAgiUiRkaLEi5yIql8r5/P2wBcgPj57mIbgGOrKYmbKXscqQfBm0tIRlKYIciLUuHm7rouVq3odXzYVEESRQHvcu6H2FUESCc1sRe1KbbcY0sxWKD6+ivjRM5DjW7ugD+OYNpXnu6n3ldBmtqBNb/Vn53x8fLaLsSFH+fkeAm1xIvMn7nJhdr2/ROnp10gct98ej746uomxPofRk8WuGIgh1UvRmphE0raOHG8P13GwCjWsbBUrNzJtC09MJMNeLUkytJXniGNYm1O4hoVJScd1HABEVRlK4xoSJUMPP43L562GL0B8fMaZ7eUUy/EgcjqC0hRFSYW2ypN2bYf6xjz62kGsQg0ppKJ2pXBtB31dBteyCU5pRpveslOdY/R1GSrLNpA69YAd3sBc16X2aj+1lX0oTREi8yYiBt86hno+Pj7jh74uQ+XFDaidScJzO3drwsKpW+TufYnIvC7UzuQeOMqtGZ7cMXqy1DcWvHa+zRHUzm0Xru/MNp1q3eu2lfNEybAfiagqXoQk6RW3D0e2R63vDK0/VPDeECbVEWlc4cBQbUmw4V3iGyr6vJnxBYiPz+vEtR2sfHVEq8ctu6qEkFMRbzZsG6LBrhie629PFrduoTRHCU5K4+gmtVX9OIaFOjGFNqNll2bryi+ux8pWSBy78732zcEy5SXd4LqE53cRaI7u9Lo+Pj5vfWqvDVBdvpHg5CZCcya8rkFw/sEVyOkwkQM7x/EIdw7XsjE2Fbx2vtkKgiKjdiRQJya3GzHeGZy61bgvWLkqVr6Kazub7wvDaVvJzWlbYx2fXTawijXP72kocuI20rgkpKjqiZLhFsGx4Da35+OzL+ELEB+fXcQx7UZkw8xWsApVcFwEWfJqOJJh5PRQDcd2ZtNcx6HeW8RYl8HMlL2bX2cStSuFna9SXdmHUzNROxJoM1u36m+/MxQefRUpohKZt3234a2+o25SXtqDOVBGm96MNrPNT8ny8Xmb47ou+qp+qit6ve5V+7W97hn48tIerEKNxDEzx+kodw+7rGP05DDW53AMEymmEZyYItCRGJcBves4XrORYUGSreAYnnmsFAk26kiUZBgxvO3Ihuu6uIa1uQtXSccueQKlkcYVVBqpW/JQRy7f6d1nX8MXID4+O8Bz1q1g5SqYmeHQuuuF1lNDub6psJenuxOD9OFoR70n6xWVp8IEu9IE2uPU+4rUVvZhl3UCbXG0mW3bbSG5PVzbIfuPZYRnTyA4uWnX13dd9NUDVFf0IidCROZN3C0R5OPj8+bHdV2qr/Sir+4nNKuN4PSWcUn/0bszVF7YsFuGhHsC13ExB0peilZfEQQItHmF60o6Mm4TMY20rVx1qONWdfO9JSBvTtlK7ngya/i4narRMFIcLoAf5V0SHo6WbK4t8dO4fN4ofAHi4zMC13WxS4ZXWJirYGarjQu4FFK9yMaQ6NiVC3cj2tGdxRwsISgSamfKc+6Nqph9Raor+7CLNZTmKKFZbciJ15cCYOWrFB59ldiR01GS4d3ejpmtUF7SjWvahA/oINCR8G9YPj5vI1zXpfrSRvS1g4RmT0Cb2jxu2x4vQ8I9gWNYGBtyGN1Z7LKOqAWGvEWSe2QyxjHtRnTEylW2SNvSvOL2oXqSne2W5Zg2dnlktMQzVXTNLdK4YtpoYeKncfnsYXwB4vO2plG/MeyMm6sOXZgF5Li2OSyeCu9WQfb2oh2IAmZ/idrKPqxCFSUdQZvVhpLafbEwEn3tIJXlG0mdsuMC9B3hmDbVlzZgrM8RaE8QPrDDv0H5+LwNcB2XygvrMdbnCM/tINiVHt/tuy65e19Cm9qMNqN1XLc9Xriui12oofdkqW/I41o2SjrieYu0x/dYatNw2tbm+1PF66AISGG10bZdaYrs0v3JdV0c3fTqSoad3ku653fieEPCRhpXTGu0CJYiqp+K6zNu+ALE523FcD93c3iWabh+Q5KGxMYI19sdOPluizGjHR1J1K40ciyI63oh/trKPqx8FTkVJjSzbdxn/8rP92CXdOJHzxi3bRob8lSWrUeQRCLzu1DS+9aMpY+Pz/jhOg7lJT3UewtE5k1E7dgznar2lCHhnmDYcd3oyXq1e7JEoCNBcHITcnT30mV3et+ui1MzG61/zWwVu1QDvDoSpWmopXs6slvpbK7jYFfqQ9GSWiNa4tTqwJB3SVxDjmnIiRBSXEMK+6LEZ/fwBYjPW5ZhR1svlWpsR1uvfiOEFNVe90XULuteJ6v1Ody6hZwME5yUbsyQua6LOVimtqLXEx7JMKGZrchNkT2S0pR/cAVKOkx4nLvL2LU6led7MDMVgtOaCc1q3eX+/z4+Pvs2ru1QenYd5mCJ6IJJBNrie2xf1ZV96GsGSJ48502V3mlXDK9wvSeLY5he98LJTSgt0b32PRzDGjK1LWMOlodShgXkhOZFR5qjyKnQ67pGO6btdeDK17AKVexCDbvipSYLkoQUDyLHvRbDckJDDKtvqt+jzxuDL0B83jKM6jKyhf+GFFU3d6hKhRE1ZVwukMOzYXp3ZnMbx86k57Q7VDzuui5WpkJ1ZS9WtoKcCKHNbENp3jPCA7wbRu4f23dAfz24jov+2gDVlb3I0SDheV17fPbPx8dn7+BaNqVn1mLlq0QWTt7jrbjNgRLFp14jfuysN+V1xHUc6hsLnn9TvooUUglOaUKdmNztSPruYlfrmIMlzMEK1mAJp24hyBJKc5RAawylJTpm+qzrupRKJTKZDNlslkwmQyaTYSBfpDkRI51Ok06nSaVSpNNpwsEQTlH3DBkLVex8DXuoXlKQpYb3iVezsvsZBT5vXXwB4vOmZfsFe8P+G2HkxLb7rO8uVqGK0Z3F2JjHNW2UpqiXD7yFkZWZKVNb2YeZKSPHQ2izWlGa9/zsmDlYpvjkauLHzNrtLlo7g1WoUl7Sg1OrE9q/HXVS2p/58vF5E+NaNsWn12AXdaKHTN4raZaNCZM9UGOyNxk2OdTXDlLfVEBQJLSpzaiT0m9Ihy/XdbGLOvW+ImZfETNfoazXKEmm9xANcpUiGweybOzPUtRNajbUbAG0OETSKKEYZrUI5QzUCmiSiyZBLKgwoSXFhOYUTU1NpFIpkrEEcVkjWBcbtZWuaYEgeGlbI7xPtudn5bouxWKRvr6+zY/BLK1NKVpbWxuPWCzm32/exPgCxOdNg12rj/Df2NyyUAjIjcjGtpxmxwPHtKlvzGN0Z7EKVcSg0oh2bNkRxcxWqK3oHRIeGtqMVpTWvXexrK3up7ayn+Qpc/Z4fq5rO1Rf3oS+dhClJUZkbqfvoO7j8ybEtR1Ki9diZatED5/yurrn7SqFR1YiRTUi8ybutX3uSexaHX1VP3pPFkGSUCenMZtUipUShUKBQqFAPp8nl8+TK1VIRsMkEwkSiQTxeLzxHIlEEHfhfua6LpVKpRHFyGazDA4OsnEgy4ZNg/z0h//De8++iKrhQDAG8Wa01lbCrW2EU01o8RTP3fFrjvr4FwHQS3luvPgUHNvCsUzmv+d8Zh51GtVChvt++mUy61YiCtA+aRqHHHMimgTxUIAJzZ44SYZixMQgcTFIxAmgORKCICBqAZSmCG5MJU+NgVyGvr4+NmzqZfX6PjKlGmUL6mIQYi3IkSRWOQfFfgKOTkSGdFRjWmcrHe1tDVHS0tKCovj3nzcDvgDx2SdxHdcrgBuu38hu3f1jZ0ybXvdxDM1oGd1Z6pvyuLZLoNWLdigtsa0G92a2Qu3VPsyBElJUIzRr7wqPYUrPrsOtW8QWTdtr+6z3F6ksXY/rukQO7PQ6ffn4+LwpcB2X8pJuzL4i0cOm7PUGE5VlGzAHSiSO32+v7ne8sCxrlLAYfh7oy7Bh1QY2bRxEdwXsWAhTDeAoGmhxhFAcORjG0iu41QLUCoiWTlCCoASaItKSitOaipNObi1QotEoTz/9NL29vWzsH2R9f5ZC1aBmQc0CV4vhhlOosRRaLMVNn303/37bywTDCTAcr/tVRQd3yBAxofGDd03kP+/rA8CxbWzTQAmGqNcqXPPBg/jkjU8RSqRZ9fg9TFvkiZMbL3oHh3/oMpqn7k+tkKVayFAv5RDKGQS9RFBykWwdsW4QtC3EukmlYiHKIX5/+6859axLENItKK2dRFonEEm1Ek63ooa9++djv/0eR37sclzXxagUeeyGq1n2j//Dti1aJk7joCOOI6JAVBHobEkxpaOVtrbNwiSR8NvH72v4fTR99glcy8bK1xqtBq1cFdeyQfRCt4EJCa9gfBf6n78enLqFsX50/3dteguBzuSYoWMrX6W6ondIeASJHOwVbb5RFzwrXyUwIbFX9xloiSEfM5PKC+spPbsWdWKK0OwJ+4S5mI+Pz/apLt9IvbdAdOHeSbvaEjkZQl87iFO39rkW367rYhjGKGExLDb6Mjn6swW+960rOPfiyzFs0B0B1DCEEohaHHVKJ+rsGCv+fjML538ILZkmNLGZP3/5g6x99iGmHHICH7j6T4393fLfH2Ljy88iCCIT5y7iwHeey9KBIuUXVvDMrddi6lUkUeTId5xGcyrJkpdfxW6dRaSpg0hqCtGuFmLNbXQ2tRKORJHlzedTECXCyWbWLn6QR67/HxQtzMBry5l+6Ckc/6Gv8a8ffBG9lOcX5yygc+7hnPGlnyNKnieVXTfw5qy9eevpR5wKgCQrtM2aT71WoWnyZgFZyQ2w4aWnyfdvYt2GbsplHb1uYiJja62EoiGOWHQk4l1/YNbZlyPoDq7rGTFK0SCypjXuoY/d+H2O/NjlCIKAbdZ56Z9/5pJbXkKUFW745HHE5h5PqnMa5Uwfy7J9LF7Rj/v0EwTsGhEFkmGVaR2tdE5o49BDD6W5efy8bHx2j33rv9znbYOjmw33VytbwSrWwHURFAk5GUab1uKlUyVCe6zH+pa4ros1WPZ6vfcWAAi0xgnPmbDNTlVWvkp1ZR9mfxEpEiSyYJLX9eoNnGlxdBOnVkeOa3t936IqE1k4CWN9juqyjZiZCpF5E8fN28THx2fX2VGBcdRS0DImHQtnoWiguO5ev4bJQ+leVrayRztu7Qxr1qxh+fLl5PJ5ejN5+rMFSlUD3QbdBhMJtBiuFkcJNxNMTwMpQOSY82iKxFHDMUR56+HVTZ9/Nyd/7nuYfV6b9oXv/jTz3v1xlv7td6M+N+9dH+P937kJx7b43cUnI0oSs096P3ddfRmHnXc5C95zPi8/cAdP//GnHH/hlZReyyPMPIl6JEXO0qFgIBZ6kV/rRRZAVSTCWpCIFsS2bfL5PACbVizh4j+9iBZL8vMPzGXRxz/PSZ//Lkvv/wMf/cbdKOmIJ77KBW741Alkul/lHZddRSjRNOp4jUqJVx+9iyM+8vlRyze98hxLlixFbJ9JYP9ZRBOtpBKtSFoEo1LEWLuUtv0XIIgSoYlNrHnmQR657tvIcpDBdSuYtuAk3nHJd3nkz1ehl/P84tyD6TzgMI6/6Os4toVV15EB2zKJNk9oPIZxXZd6tUwl28dgppe1mX6s5UuQZZlTTjllnP5afHYXX4D47HFc18UuG41i8ZHu4qIWQEmFUbtSyMkwUnTvt+9zdBOjJ4vek8OpGkiRIKH92lE7ktuMtliFKrWVfdT7hoTH/C4C7Yl9oh+6VfD6wr9eJ/XdRRAEghNTKKkw5ed7KD6+Gm1GC9qMFr9dr4/PHsJ1Xcrl8pi5/9suMG7F2JTF6l6BKNSIdr+C9pexC4yHOyBFInume5+oKYhBBStXfcMFyP0PPsTtL2wi2DQRNdKFOjFOMJogGYmjRuIEQlufA0GSSXZMGR1ZWPMyM486jVM+/wPu+9lX0Mt5fnXB4XTOOZSTL7iKdvcgNm1autX+R0YWWmfOo9i/0duHIFCvlhBlGdd1SHZOpWX6gUSaHkLtmEKwZRLgxSdss45dN7DqOlVDp2ga2AUdy3F4bc1aUsDEuYuIpD3zx5Zpcyj0dpNonwSigJKOYGbKiAGZYDTBhTc/RznTx58uP4vZJ76/sZ7ruvzlyvNZeNanibdtUb/jugihOM1HnLlT510QoHfVUi7+04sEw3F+/oG5LHxtFUec9lmevf06Lrzp2cZnF33k8/zojCmIkszC93+KVOfW6caCIKCGo6jhKKmJ0wFYdtvP8SsP9g18AeIz7ri247Xmy1bGcBcPEmiJIqfadtgJY48eo+Ni9hcxerLU+0oIkkCgPYE6b6LXMnAbN1irWPOER28BKaQSmddFYMK+ITyGsfJVxICMqL2xhXhSWCW2aBq1Vf2NupjIvC6kiLrjlX18fLZiewXGGwey/OR73+bsCy8fEhkx3FAKNd6JNnUuoXiaxHCB8dmXettzHPqeXsLdt19PtZwB4P3f/j05o8bGYpb6q1mevOI/qOQHOOPDnxxVYNzRMrotayqVIhwO77Y4EQQBORnGzFXH7Xy9HkLt05l94s4NnLdky8jC4edexomXfItnb/tVYxDtui4IYL1chW0MiLeMLBz9if/id5ecypM3/y+u43DBbx4dcz0BkJUAshJADY9uobxS2DwJJCmbr8WCKOHaduNnJR3GMSxc22ksi6RbaZ15EN1LHmX2Se8H4F//+18EY8mtoh+7y0hR1DrzQGpyiZjLqHNUK+Z49dG/89m/rkZWNf5w6emse+5hJi04ZlyOwWfv4AsQn9eNa9mes/hg2RMcW7iLB6ekUZJhpEToDa8HaBhHrc/i6CZyXCN8YAeBCYntHptV1Km92kd9Ux4xpBI5aCKBjuQ+JTyGsQo1pMS2RdTeRBAFQjNbCbREKS/ppvDISkKzJ6B2pfaJ4/Px2ZdxHIfHH398JwqMJ6BNOgBB/j5tp12EFk2OmQIE8PjvftjocGQOVvj7Ty/jxEu/zeRDj6VWyI5KH1r95D9JTJqFI8q0nXYRtUKGbCHL+kKG+is5hHI3gl5Ck0GTIR5S6WxJMaGliba2No444ohd6uAkJ0PUXunF/f/t3XmYXGWZ9/Hvqe3Uvvbe6SRNFpIOJCwBwhJAkD2IILIOgiI6gMuMjqA4ojM6OMAoiwrjKAii7EJewRGDMCD7EshKIGTp7L3VvledU+f9o7rLrnQn6Q6dSofcn+vqqzrV1VWnOt1Vz+88z3PfpdI+PVu6/cxCbNsGfE0Tq26jKEplr41RGhpAhptZWP7MQ8w9/8sc8dmrWf3yn/jjD6/i/JseGvPjN5nNlHQdtcVHKtyNNa2hujzkUnE2vPMSc8//MgBvP/5Luj5YwiV3Pj1mj719KEIxUNuC5emRfuvefI5A21QcvnKPq2nHncnm5W9IANnHSAARo2boJbRYpr/zahotloaSgUm1Ygm6cLW0jFl38bE63kJXebaj2JdEsZhRW/3lZV++nS9T0rMFsu93kd8Sw+Sw4prThtrqH7dvjoZhoMcyqJPGVy19i9+Jb/400qu2kV6+mUJ3Qsr1CrEL0WiUB/74LD1qM/ZAE462Dhy+II2+EHZvALOl+u9n2A3GwywD+u9LDqe14wjmHHMJFofK5CNPAKgM6KC8rv7l3/wnp3/rdv7fv30RV6AeV2Doxl1dK5JLRMnEw/TFI2yKR8gt7aLhzeXMnDmTUGjkr0WWgLPSUHZvLSEdCzubWRhMsZjKxUqG2ec43MzCu3/8DZf/8jkAph93Fgu//4UxPvKyOWddxt0XHcKkQ+dz6Keu4KmbrgbDwDAMjrzwWhqnHgzA/976NQIt7fzqc/MAOOqir3Lop64Y8+Mx2cyVUGQym/E1TmDz0tfQ8jlMFisbFr/IYedeNeaPK/YsCSBil4ySgZ7IUuxLUQyn0CLpcsM/qwVryIWrowVLyI3ZXfv9GzujJXPkN0XIb45iFDQsQVd55qLFv8uN7aWiTm5tL7l1vSgWE66DW8tdbcdp8BhQyhUpFbS9sgF9VxSLuVyet8FLeukm4n9bjWv2hL2+3luI8axYgklHnVpemz8Ku1oGVOxLserZP6B6fDz0z+eQ6NlKx8nnMf8L3wHgtd/dxpwFn0N17rwLutlixRVswBVsqFwX27aBxAv3j/q5DvRwKkbS+3QA2ZHBg+gBinnoe+aOZha8jRNY/+bzHHTahWxe/jq+xvLMiEmB2LuLsPibsHqCWDxBrO7ypWm7kHrgTX8DCkyeeyKT555YuX5wFa5Tvn4zp3z95sq/B++9GOzGN/Ijet6lUgktn6WYz6Ll+i+zKVyjGC4MDkULbriLqceezi8vnYtiMtF+xEkceMLZI78zMS5IABHD0rMFij3J8kckhVHUy0uqQi4c05uw1rnGzQzHYIamU9gWJ7cxghZNo9gslWaBFs+uO4IbJYP8pgjZ1d0YRR37AXXYpzTs9aVjI6Xv5Q3oI2Fr9GI54UDSyzaRfLsTdWIIV0czimXf+BkLsS/Y1TKgUq6IYVHYuPRlvvz7xbiCDfz+q2fS0jGX+gM6WPfGs1x21yLi2zbU7JgVkwmz34E2TvaBjLXtB9G/veZUulcvo5BN89MzJ/HZ/3yYttlH73Bm4dSv38JT//FlXr7vZsxWGwu+ezcOb4A5x51Mqq+bZKybROcqcrk86RIUDcDuAVcQk7scSvKJOPmQg5Km7XCZ3u4oaRrZRIRsIkImFiabiLDpnb8R39ZHIhrG7gmgegO4A3U0hurwNjlxuxtwOOyVniOjCUUnX/sjTr72Rzs9JsMwKKSTpCLdpCPdpMI9lDLxcXWidH8mAUQA5c2IWjRDsSdJoSeJnsyComAJOHEcUI8l5Mbi3zMdxseCFsuUy+duiWFoOtZ6T7kkbqN3xGV8tViG1LLN6IksamsAx4ymvbZJfndpsSwmu3XcL20ql+udTH5jhMx7W9H6UrgPmziug5MQ+5JdLQMyex34J7bTMvPwyh6DqceeQdfqpehagd51q7jjU1Mp6RqZaC+//9oCLh3Dtf47Yg24yG+JYuyFUsCDZbetYcUzD2Fze7G7/dj7K2DZPf5hq2DtziD6c3ctGvaxdzSz0DD1IK78zStDrp94yHGVzw3DoJBNE+/aSLxrE8nuzSTDm0lseZdkPEoxnSQR9LJqwysYdg+4Q9g8ARy+EA5vEKc/hN0TqJqlGVDSdXLJaCVgZPubDTKo2aDTAiGHjQkNIT554iy6u7vJ5Iv0JbvJab3ke9dSiDgpeRvIBxroyvThDjXhDNQPWVI4GrpWJB3p6Q8a3eSjPRiJnkofkHqXylGtjUyYdSiHHXbYbj+OGDsSQPZRpVKJVCpV1RApFosRjcWIJtMEPC4C/qFdU91ud2VTYClXpNhbDhzFviRGUcdks2Bt8OKY1oC1zj3uGkINVirqFLZEyW+KoMXLA2/75DrUtgBm18grLZWKOtkPush1hrH47PiOm7bPDoS1eAazd/wtvxqOoijYJ4Wwhtyklmwk/uoanDOasbfXyRkqIfaQgWVAFq+dtsOPJn1HL9lEFLvbx8Z3X+Lw865i+nFn8c2/bAYgtrWTR6+/sCbhA/o3oq/toZQtYnbunRNAJ514As2Nq4hEo/RENtO9aQWJTJ7YoD4gisNLyeHD6vJVhRP7TvqAjJWSppFPJ8il4uSSMfKpOLlUnGI6jikbx8gmsKJjN0OrGbyNKo0dHdQHvDgdDhobG3G5XJV+MFt6trB13XISuSLxwaWaXUEwW0EvQjoC2TgOs4HDDAG7lVkNQVqnhwiF5lRVRBuuGpphGOXGjd3ddHd309XVxfot69m0/G3CRYONmoLhCmLyNfYv6WvEHWpEdVf31RroS5IKl2c10pEeSvFulHQEl8XAbVWY3RiifWYjTU1TK53Qfb69259LDDV+R5f7OU3TqoLFwGU4GqM7EqcnEidULU/lAAAec0lEQVRbLFUaI5UsdnD4UJw+LPZGtGga4/2NkF2OScthN1P+MEHQohLCgg8rXpeHQGMddZObqZvWQrCtCat1fJ8915I5cp19FDZHMUoGtgYvnulNWOs9KCaFUqlEIpEYUThzFkxYu7J4VBf1c9pxHtAw7paVjZRhGGjxLPbJ42sD+q6Y3SreY6aQeb+rPBsSTuGa0zauw68Q+6rtlwGddO0Pue+qT2AYBlPmfZLp8xfs1eOrNCSMpvdaAGlvb6e9vb3qulwuN+T9OB6P0xsJ0xVeS3hdirQOYR3yJQVDdYHDh8npR3V7sfcHlIGgYrHt+CSZls+RS8XLwSIZKweNVBwjE0fJJiCfQjUZ2M2gmqHR56Yp5Kd+oh+/fwI+n6/qxKPdPoLlx/3NKrcv8ZzOFXHZbdTVHVRVctnj8YxqQK8oCv7+990DDzywcn2xWKSnp6cSTLZs62Lt5jcIr86yUYO8oqJ4GyiZbZj0AkaiB9XI47ZAs8fBARMaaZ09rRI0Ghoaxv0YRpQphnRkqTnDMMjn80NeyOLxON3hKD2ROOs3bubPCx/j9IuvIldSQHXx9qInmXDIfJY8dR/n//ghPHXNO3wxe/3BOzjis1djttoo5nLcd9UnyCWi6IU8E2YcxbSjz4BShpX/9yjb1r6H2WymoamFk89YQH3AS0PQR2MoMOSFzO/3j+jFbMx/Zv19O3KdYbLdUVJanpzfTNapkMylRxHOXGi5NKV0DL27C+IJHE4LrpATl91Sft5BH6HA0Nkjn8+HZQ+e1fqo9EyB2POr8BzRjq3Ru7cPZ7cUuhOklmxCsZhwHzpROqiL/Vo4HOaGm++k29aEI9iMw/f3pTIOX/AjLVkZK7pWJBuPVJbkZONRspFtNBa6uOn6r42qCtaA2P+9j7Xeg+ug1j1wxHuGpmlVJ74GLsPRcjf13miCTEEnp0NeB91iB4cXxekHswV0DSMTg2wCs5ZD7T9p6LSZqQ94aQr5CQX8Q96PvV7vuH5f2h0DYWgglHR3d5PI5PA67ZWg0djYOOoQJMaXj9dv7Ti1fv163nvvPaKx8gtRTyROMpOvDJCLmMtNoxw+rK567KEplFwzMP/1eVrP/kplOnfNqhVMPOQYVix6hJaZh2Nzunf4mK8/dCeHLvg8eqyAHs9y/jcfwBEKYnJZ+e0/n0bD7Nk0zzgU9+SpTDpkPoVcmj/++xdZFVfITj2M1akExZ4YSnYLDJrOtZvB41RpDPpoDPkJ+P3MmjWLyZMnj8nPavtwFunto2/NFvrWbaEnEmNdtIcnnl3Ipy67inxJIVdSePu5p2mdfTRL/vwIZ3/vl3hmNGN3+/AOE85ef/AODj/nS+i9GYyiTs6U4k+3fYXwxg8BgxOu+h423UVpQy9k17Dsr0+ycdUSLr32W9jNEPK5x104G6DFyxs3x2MFrJGyNXrxHT+N1LsbSby2FudMWZIl9l+BQIDLPnVKuQ9IbzdbNr1H7IM8PQN9QPo3GFu9wcr6fUf/53t6g3ExEYF0pKoPSL1TpbUxRMsh9TQ1HUwgENitx7MEXGjR9Jgdfy1YLBaCwSDBYHDYrw8sm95+ZUMkGiWTz+JULQQDk4ec9Bq8bHp/oSgKXq8Xr9fLtGnT9vbhiD1EAkgNPP/Cizy5bBv2ujZU90TUtvLAONC/bnS4DW2xrZ2YbWpVXfbtxbZ28vA3z6Np+hy2rHyLxmkH85mbHuStR+8i2buVey4/Fm/DBC740aP4JgYw2SwUc1lKulZ5vCnzTgHAYrcz6fATKGRTVRvooH9TWyZVWWfal4yxJRUn3xkn17eMc3t6ufLzV+zWz2ZH4SyT18kk8uSzJXB4MQXqUCcchN5cgNdexH3C56jrX2u7Zt16Jh35SVa+8BQHHHHSzoPZg3cwc845qE436qQgf/7hvzBnwWUcfPrFFHMZDMPA5iifde9d9x7qsncwrf0A9/GXkU/F2ZiM7bVwtiv6PrIBfVfMDhveeVPIvL+NzHtb0eNZXLMnjLiYgBAfFyaTieOOq95gnMlkKktkBi639nSxeeNKEh8UiGuQ05U9vsG4pSNEKDS5MugOhUI4nWPTANUScJbLp2v6x6Y6nslkqgyq29ra9vbhCLHXSQCpEWfzVDpOPm/M77d3/So+8x+/o659Jvd/+WQ2LH6J2fMu4hX/rVz+s2dxNjdUBm73fOE4etasYO75/0jTgYdU3U9J01jxl4c547o7hjyGoiioLg+qy4O3cULV19577glg989UbR/ObI1uzCUVp2Ej4PHjbKrH6neiWMrPIba1E6vdSaC1fYf3uaNg9ubDvyDZu43ff+9sApMO4Nwf/pat7y3mvB/+FgCrvXrj+bN3fpuzvv1z1r7+7A4fb0+Gs9HSEtl9evZjMMWklPvL+Jykl21CT+VwHz55r60JF2I8UBQFl8uFy+Vi4sTqztqGYZBOp6vCSa02GI+18j4QAy2WxVq34xNKQoh9lwSQ8WpHL/DbXV836UDqD+gAoOnAQ4is+5BG3wwUiwlr0F111vjKe18mn07y2PUX0LNmBQ1TD6p8bdEd19F60FFMOOiosX8uu+BsnsKBR5+NFs2gp/MoVjPWgBOzd/f7jGwfzDYueZlDTriMV3/7X1x5/yuoHi9dHyzB6Q/xxL9eRu+6VUw6/HhO/fotmCwWVix6tL885cSdPs6eDGejpSdzqBN2PGO2L1Jb/ZjdKsm3O4m//CGeuZNlX4gQw1AUBbfbjdvtZtKk6qaFe3qD8Vgze1QUqxktmpYAIsTHlASQccrpC5FLRKuuy8YjOP11VdeZB+1vMJnNKBYFW4t/hwFGdXloP+Ik1rz2l0oAeeuxu+nrfJ9Lbvvjbh/vwPrWZDJZ9ZFIJIjHE8RSGfxuJz5feQra4/Hgdrvp3dRFJh4ktymCWbVia/KV33xGGMB2dP32wSy2dQMN3hkoJlMllJV0jS0r3+LM6+6kcdpsnvz+Fbz71H0cfPrFvPnwz7hsBzXax6NSUaeUK2L2jLz88L7C4nPgmz+NxFvr2fL8MrTJHrKqsVulp4XYHw1eU1+rJaEfhaIoWPxOipE0H485XSHE9iSAjFM2pxu7x8+mpa/SNucYEt2b6Vm7goYDZu30+xSrGbPLhur0kM8ksTnd5FJx9GIBV6AerZBn7euLmHfJ1wFY/fKfeGfhvVzxy+eG3bRoGAaappHPFygU8uTzBfL5fP/nedatWUv2raUsWd1JXjPIl6AwsLFedZWrfNg9WFQv2rYcxroeyK2llIxhSmTY8OFyetvm0h1cidPlwNmn4lRtqKqKqqrYbCqqaqtcOrzB3QpmRkkvB7NBMyqehlYCLe2V5WgHnvApOhe/yISDjyKyeS2/+Gw5oOWSUe6+6FCufvjdUfwP7jkDZzMHL7Xo2biVTe+uo617Kg1tTVVLJvb22cyR2lXp6e5wjERXgmxGQ/O6ULzeEZWedlhN+3R1MyH2R5aAi9z63r3ekFAIsWfIu+449ukf3Mufbv4K+XQSk9nCghvu2ukG68EOO/dK7v/yJwlNnMYZ193Bo9ddgF4sYJRKzDrlfKbPX4Cu6/z51n9GLxb41eePwzAM2o46jWlnfoFsPk94SyfL7/kuM669C80A3YBNj9+C5+BP0P3UHRxw/eNkSnYcrok0zzoT1eXF6/Rgc3mw2p288dCdHHH6P2C2ltft/+nmr7Lqr3/AE2rhH/7taXSjQDzwOB++8le6Xn4ExWzBPrGDpvNvQCnl0NNRtjz0A/REGCgx4fSrqJs1j6JiYdFj99HacSR6KsLWD5aAu4FSqUQmk0XfruPvALPDWhXMPHXNuIL1RLesJ9DaTufiF6mfPIPGqQfzL4u2Vr7vlpMbax4+DMMglUoNWTKxtTfC1p4IiVyR7KD13CWzBxwHsHirAR+urFrP7bVbaWkI0lIfpK6urmqphds9tADCnno+Oys9vXrteh5+4H7O/oeryOsMX91s5jzcc734cmbMug1HSx3WQHnfzuCy0wBP33QNq55/AleokXNu/DXvJ2Ms7U2gd3az/Jnb2fbhCkyKicOOPYGOjlnjurqZEPsja8BJdrWOnsxj8crfnxAfNxJAaiS7bQ0rnnkIm9uL3e2v6pw6XBUsgIapB/H5X70w5Pp/emotUJ4l+dIDb1SuP/Wfbq18ftRFX+Woi74KQLGoccq/P0wulyeXz5PJ5Xn2hZcoaDqTr/0f9P5wYShmClaVleECisVOyRqkZFahZSY2vYhRyGKxqlgVA0o6bHkPeylL3eQDaZl5+JDjfP2hOzns01dWBoUd88+j49Bz+Muvr0Nt9GH22XGsDuGbPpc5Ny4Ek5n3f3o5pQ1LaD7lCjY9eRvBg09g4sU3kupcwfv/dSme4y6m5YqfsPSh7/NO9hYURaH+zK/x2vsbyOULPP/a25CNk0gmeeX1N3HaVcLhCIq3l2JRqwpmF9+2kNO+8RMeve4CSlqRpulzOOzcL36k/+fRGNg0OlzIWPXhWp585EFOv+Sq/pDh5a2/PMHkIz7BO0/8mkvueIrmprZKRZtCbxI9lcfRXp4Jeu13tzHp1AspZFJE42Fe/b+FrPzLTVDS8QZCzD/9HNyqBZ/TRkt9kNaGUNWsSTAY/EibTUdbelrzuzCcftzHX7bL6maGYVDsS1PsTaKYFCw+x5DftdlnXsph517J0zddQ+usIyrH9c7Ce/BMOJCLfraIXCpObFsnusk8rqubCbE/sgScgIIWTUsAEeJjSAJIDZx04gk0N64iEo3SE9lM96YVJDJ5YoMGY4rDS8nhw+ryVYUTe/9g7KPUdI/Fory7egNFmwfFZsdidWL22jDbVFSrislkwtDylLJJtHQMPRNFS8cobFuHkYmSee5XmAwdiwkIb0Dt8WE2dKb7QPHX8+r9t7Lx7ReqSwE/dne5FPAX5uNvnsRnvv1bGus6SDp7MNksWPz9K3sVUJ1uel9+HLPTi8UdIrXuXXK9J1PSCujZJBabisnQsddNwNvQirehleYjT6t6jqVSCf//rEYvFtCKeabdeDTdWgEtXcB00jUkC0lisWhVMANo6ZjLl3//1k5/ftc9173Drw1UwcolY5VKWLlUjEIqQb5vE9Q3Vx3jq6++Wq7p39PH5p4I8Uye7EBNf4cXwxVE9bagtYZQXH+m6cyrcXgC5T4wK5fS2jGXpU8/QGjitKrZMKOgV3UOf+ORn3P4eVfhqW8haBg8et0FXP1wedP9Y9++mIR7AsHDjycSj7A5HqbwfhQltbGqpr/PqTKhIUhLQx1NTU0cc8wxI95LMdrS07tT3ay+bQZnXf1zFj/966rftYtvW8jEQ44ltrVzyH0sfuJXXHjr45gsFpz+EE7/8E3SxlN1MyH2R4rFjMVnR4tmYNLomxkKIcY3CSA10N7eTnt79cAql8sNWesej8fpjYTpCq8lvC5FWoewDvmSgqG6wOHD5PSjur3Y+wPKjjqhD1bM58gno3gmNFDKJdFicQrpGEY2AbkE5FJYFAOLCcwKuF1u3F4fRr2DmN3BsSedWnmcZ3vWMevU89m25CUOOvUCMrE+nv7xNVxwy6NVFaeOvOAaXn3gJ1x570uQNtCiGWwNXmzpTNWG8fbDjscTWEU2GSMZ72T9mwtpO/I0cn+7D3uxQM/iZ3jlojpKusbkS24ktvzFclBx+bG4fFicXhSzBZPJhMnuwGofumWxpOuEV76CYYz+/66kaeTTiXKwGBQyiuk4pmwcY7sz5fVOlcaQn4bJPoKHzqGjo6NyX9FolAf++Cw9ajP2QBOOtg4cviCNvhB2b6Cqq3FsaycW1YErUL/DYxs8IN+05HUaD5jFZ3/62JDwd9FPnwTDoJjLUNL9aPkMdZOmUzd5xpD71LUiuUSUTDxMXzzCpniE3NIuGt5czsyZM0fV1XhPlJ7evrrZ1rXvMOfYS3jt4du58t6XdrlEMd69iXcW3sPql/6Er3kiZ13/c9x1TUNuN56qmwmxv7IEXBR7k3v7MIQQe4AEkL3Ebrdjt9tpbGwc9uuappFIJIYElHA0Rld4K71bE2QKOnEd8jroFnt5w7fTD2YL6BpGJgbZBKlIN/k163G2H4Sq2vC7Pbi9fpwN9ajuKZUlYXaPv2q2JbZtA0ueup/Wg46sHJdiNo+o4tSkQ+cDYOgl9GgWa8iNxe9AyVR/b6C1vXLW+5mffIOOT3yaU79+M7lUnBWLHkGdO5+Dz7iYbR8s5Y2H7qT1wq+SzWQoGpAtgWYooLr7n7sPs9NXDiYuHxanD4vbD6Yd/5pr+Ry5VLwcLJKx/hmMOEYmjpJNQD6FajKwm0E1Q6PPTVPIT/1EP37/hCH7BXa1V6BYgklHnYq/edJObzdSAwNy1+fqeeRH5w8JfwMD8jOuu5O7L5yDRbXTfsRJQ5pNDjBbrLiCDbiCDZXrYts2kHjh/jE53h3azepmqVwvpYLGSNNlIZPCGajnS797k7f/8D8suv1bnPejBz7SoQsh9gxLwEmus49SXsOkynBFiI8T+YsepywWS6XD7HAGyt5uXzUoEo2SyWdxqhaCgcn4fD76+vq4548w4+Kv4PTXoYxwGc3ulgI2SoM2gZuUcvgI7LyY4uBSwCaLBbdqZ93rz3LCl26kddYRTJl3Ksv+9ABHnXM5Dm+wPCtRCQwx8qkEmUSMVHQrmU1JippOvkR587zJSqqvizXJD+gNhKrCmVnLofbPXrhsZiYHvDQ1+AkFGvD5plVtRPZ6vbWrljTKAXl2TS+N0+ZUhb8BulbknSd/xdWPLMFT38qT3/scy/7398w+89I9dfSjtru/a5iNUQ1MvPWtzDzpXABmnnQubz7y849w1EKIPanckBC0aBpbk28vH40QYixJANlHmUymSl33tra2nd525cqVOD3vorq8Iw4fsPulgAeoTg+FbApPXfNOb7ejUsDexjbWv/U8rbOOILplPfl0ohKgHL4gDt/w4cwolcr7MvpnNtKRHtb9+V5O8icJ1DmrwtngUqzjqV/EaAfktiYvZrtaHf76dX2wBJPZUmmqOOOkc+l8+4VxFUB2u+y0omCfFEJ1eSvVzXZm+gkL6Hz7RQ4+/SI6F7847DI0IcT4YHJYMdksaPGsBBAhPmYkgIidGqtSwBfftpCFP/gCa19bRCYe5qdnTuK0b/yEWZ88n2f+6xuUtCK/+dInAOg4+TMcf+UNHP/F77Lw+1ew/JmHURSFBTfcPaIApZhMqG4vqtsLtJWXWb3/MmefvYBZs0YWnva20Q7IzW4VZdCPZnC5YW9DK91rlpNNRHF4A6x/83nq2sffwLsWv2vzr/g2f/jupbx83804vAE+/YN79/CzEkLsLkVRMHsd6Inc3j4UIcQYUwxjd7bmin3Je++9x49//QgZdysmpxfV5cHm9FRdqi5vpYTpvkgvFsinE+TTSQqZZNVlKZPAmdrCd754YdWm8FoLh8N868d34j3x8hHtAelZs6JqQH7ytT9kyrxTuf3sKVzzyFIysT4evf7CSinmRbd/i4YpB3HI2ZfzxsM/463H/rsyIH/z0bt469G7MJktNEyZxTnfvweLOrLSlgN7QG79ztdGvAn9nt/cx8Jl21Dr2kZVenq82FV1s0/PbpYqWELsAds3Wt3yzmp6OreSmeCm3u8lFArtk41WhRDVJIDsB7LZLK+//jqxWIxYPEFfPElfLEkykyOvQ6FU3shesqigujHsHiyO/oDi8qA6qwOLyWyu2bGXdL06UGSSFNLlf2vZJEouCfkUJi2PagabqbxZ3Ou0E/J7qPN58Pu8+P1+5s2bh8Ox870oe1I4HOaGm++k29aEI9iMwxfA4Qvh8JaXkw2ugrW36FqRbDxCNhEhGw+TjUfJRrbRWOjiputHHkDWr1/PqlUDpaf7u5hv1wdkT5ae3pXRVjfzDlQ3C/oIBgJ0dHRIHxAhdtNoGq2WcKJpdpztE9ByKUiFx12jVSHE6EkA2Y8VCgWSyeSwH+FonL54knA8SSavVQUVRXVhqG6we7A6twsq/ZdWx86b2BmGQTGb/nugGBQsipkk5JIo+RRGPl0VLJyqhZCvHCxCAR8ej6fqw+v14na7sdnG32xOVR+Q3jBbusPEBvcBsXvAFcTqDeLwBnH6+8OJNzimg/GSppUDRiJCJhYmm4hQTEQgHanqA+J3qrQ2hmipD426D8hwdlx6utysMBxPlbugj0Hp6dFWNwsNVDcL+qv2BY20upkQotrOGq1u7Y3ws1v/g8/+47cqjVYNZxDV1//a5wvh8AV5Z+E9HHPxN8ltCKNOCPD4jRfTufhFJs/9BGd/926y8QiZeJhUuIs3fn874Y2rUQyDo09ZwKSJE/dYo1UhxEcnAUTslGEY5HI5kskkiUSiKqQkEgl6YwnCsSTRRIqcZpAvQUGHomFCsZdnUxS7B8VswdA1jFx51sLIpbAqJWxmUE1gtygEvG5Cfg/1/vLm+u2DhcfjwW63f2zeNAzDIJPJVN6cBy639oTZ3BMmkS2Q0SCnK+Vw4g5h8/x91sTpD1U6oW+vpOvkktFKwMjGwxSSUUiFUXJJ7GYDpwW8DhsTGkK0DHqDHniTdjqdNf1Z77z0dIzeaLn0dG4EpacHVzdz2szUB7w0hfyEAv6qYFHz6mZCfEyNvNFqOWQ8+E+f4itPrKo0Wh3OLSc38q2/dpFd04Ot3sPmNW+SzyRZ+vQDXHDLo5XbPX/X97Dancz/wnco5rIkerdg6FoloBSSUZT+176xaLQqhPjo5F1X7JSiKDgcDhwOBw0NDTu8XalUIp1ODxtU4vEE6XwWl2rF52vE45k6JFi4XK797sVfURRcLhcul4uJEydWfW3g7OHgcBIOh9nSs4Wt65aTyBWJ9y9RwOEDVxDMVtCLkI5ULVEI2K3MagjSOj1EKDSn6kzgeDoLOJalp8drdTMhPq5G02gVQDGZcQXq6Xz7BV6698dYHS56169i+nFncto3fsJzv/hXcqkYv7x0Ls2T5nDGN+5g8twT6Xz7hSGPvezPD/KVx1cCYLU7CLVNHfYYx7LRqhDio5EAIsaEyWSqhIqWlpa9fTj7PEVRcLvduN1uJk2q3rA+sElz+6UN6VwRl91GXd1BVUsNPi6bNEdTeloIUXu722h12wfvcs2jy3F4A9x1wWzmXfJ1Tr72Ryx+4lf844OLyW+OYhRLw35vLhnDZLaw6Pbr2LTsNZqmz+b0f7kd1eUZctu91mhVCDGEBBAh9jGKolQG4rIRWgixr2ubfTTuUCMADVNmEdu2odK3CEAxmyhpwweQkq4R3byWqceexpnX38lzv/guL993Mydf+6OaHLsQYvfIugQhhBBC7DVm698LSigmM4Ze3VDV7LFj8QxfCMLhKzcinX7cWQDMOPHTdK9euucOVggxJiSACCGEEGLcMZnNlHQds1vF4h++hLqiKEyZdwqblr0GQOfiF8dlo1UhRDVZgiWEEEKIcWfOWZdx90WHMOnQ+Sy44S5+e82pdK9eRiGb5qdnTuKz//kwbbOP5pNf/TFP3ng5+UwKf/NEPv2D3+ztQxdC7IKU4RVCCCHER7I/NVoVQnx0EkCEEEII8ZHs741WhRCjIwFECCGEEGNKGq0KIXZGAogQQgghambHjVbDbO2JkMgVyY6w0arXbqWlIUhrf8gYr41WhRDVJIAIIYQQYlzYeaNVK3V1dR/LRqtC7G8kgAghhBBCCCFqRnZcCSGEEEIIIWpGAogQQgghhBCiZiSACCGEEEIIIWpGAogQQgghhBCiZiSACCGEEEIIIWpGAogQQgghhBCiZiSACCGEEEIIIWpGAogQQgghhBCiZiSACCGEEEIIIWpGAogQQgghhBCiZiSACCGEEEIIIWpGAogQQgghhBCiZiSACCGEEEIIIWpGAogQQgghhBCiZiSACCGEEEIIIWpGAogQQgghhBCiZiSACCGEEEIIIWpGAogQQgghhBCiZiSACCGEEEIIIWpGAogQQgghhBCiZiSACCGEEEIIIWpGAogQQgghhBCiZiSACCGEEEIIIWpGAogQQgghhBCiZiSACCGEEEIIIWpGAogQQgghhBCiZiSACCGEEEIIIWpGAogQQgghhBCiZiSACCGEEEIIIWpGAogQQgghhBCiZiSACCGEEEIIIWpGAogQQgghhBCiZiSACCGEEEIIIWpGAogQQgghhBCiZiSACCGEEEIIIWpGAogQQgghhBCiZiSACCGEEEIIIWpGAogQQgghhBCiZiSACCGEEEIIIWpGAogQQgghhBCiZiSACCGEEEIIIWpGAogQQgghhBCiZiSACCGEEEIIIWpGAogQQgghhBCiZiSACCGEEEIIIWpGAogQQgghhBCiZiSACCGEEEIIIWpGAogQQgghhBCiZiSACCGEEEIIIWpGAogQQgghhBCiZiSACCGEEEIIIWrm/wNLQXIEQt6CvgAAAABJRU5ErkJggg==\" />"
      ]
     },
     "execution_count": 1,
     "metadata": {},
     "output_type": "execute_result"
    },
    {
     "name": "stderr",
     "output_type": "stream",
     "text": [
      "sys:1: MatplotlibDeprecationWarning: The set_axis_bgcolor function was deprecated in version 2.0. Use set_facecolor instead.\n"
     ]
    }
   ],
   "source": [
    "using PlotRecipes\n",
    "pyplot(alpha=0.5, size=(800, 400))\n",
    "\n",
    "# make a list of a type T and it's supertypes\n",
    "T = Integer\n",
    "sups = [T]\n",
    "sup = T\n",
    "while sup != Any\n",
    "    sup = supertype(sup)\n",
    "    unshift!(sups, sup)\n",
    "end\n",
    "sups\n",
    "\n",
    "# recursively build a graph of subtypes of T\n",
    "n = length(sups)\n",
    "nodes, source, destiny = copy(sups), collect(1:n-1), collect(2:n)\n",
    "function add_subs!(T, supidx)\n",
    "    for sub in subtypes(T)\n",
    "        push!(nodes, sub)\n",
    "        subidx = length(nodes)\n",
    "        push!(source, supidx)\n",
    "        push!(destiny, subidx)\n",
    "        add_subs!(sub, subidx)\n",
    "    end\n",
    "end\n",
    "add_subs!(T, n)\n",
    "names = map(string, nodes)\n",
    "\n",
    "graphplot(source, destiny, names=names, method=:tree)"
   ]
  },
  {
   "cell_type": "markdown",
   "metadata": {},
   "source": [
    "### Signed integers\n",
    "\n",
    "* First bit indicates sign.  \n",
    "    - `0` for nonnegative numbers\n",
    "    - `1` for negative numbers  \n",
    "    \n",
    "* **Two's complement representation** for negative numbers. \n",
    "    - Sign bit is set to 1  \n",
    "    - remaining bits are set to opposite values  \n",
    "    - 1 is added to the result"
   ]
  },
  {
   "cell_type": "code",
   "execution_count": 7,
   "metadata": {
    "collapsed": false
   },
   "outputs": [
    {
     "name": "stdout",
     "output_type": "stream",
     "text": [
      "bits(Int8(18)) = \"00010010\"\n",
      "bits(Int8(-18)) = \"11101110\"\n"
     ]
    }
   ],
   "source": [
    "@show bits(Int8(18));\n",
    "@show bits(Int8(-18));"
   ]
  },
  {
   "cell_type": "markdown",
   "metadata": {},
   "source": [
    "* Two's complement representation respects modular arithmetic nicely. \n",
    "    - addition of any two signed integers are just bitwise addition, possibly modulo $2^M$\n",
    "    \n",
    "<img src=\"http://users.dickinson.edu/~braught/courses/cs251f02/classes/images/twosCompWheel.png\" width=\"400\" align=\"center\"/>    "
   ]
  },
  {
   "cell_type": "markdown",
   "metadata": {},
   "source": [
    "* **Range** of representable integers by $M$-bit **signed integer** is $[-2^{M-1},2^{M-1}-1]$.\n",
    "    - Julia functions `typemin(T)` and `typemax(T)` give the lowest and highest representable number of a type `T` respectively"
   ]
  },
  {
   "cell_type": "code",
   "execution_count": 12,
   "metadata": {
    "collapsed": false
   },
   "outputs": [
    {
     "name": "stdout",
     "output_type": "stream",
     "text": [
      "Int8\t-128\t127\n",
      "Int16\t-32768\t32767\n",
      "Int32\t-2147483648\t2147483647\n",
      "Int64\t-9223372036854775808\t9223372036854775807\n",
      "Int128\t-170141183460469231731687303715884105728\t170141183460469231731687303715884105727\n"
     ]
    }
   ],
   "source": [
    "for t in [Int8 Int16 Int32 Int64 Int128]\n",
    "    println(t, '\\t', typemin(t), '\\t', typemax(t))\n",
    "end"
   ]
  },
  {
   "cell_type": "markdown",
   "metadata": {},
   "source": [
    "### **Unsigned integers**\n",
    "\n",
    "* For unsigned integers, the range is $[0,2^M-1]$."
   ]
  },
  {
   "cell_type": "code",
   "execution_count": 8,
   "metadata": {
    "collapsed": false
   },
   "outputs": [
    {
     "name": "stdout",
     "output_type": "stream",
     "text": [
      "UInt8\t0\t255\n",
      "UInt16\t0\t65535\n",
      "UInt32\t0\t4294967295\n",
      "UInt64\t0\t18446744073709551615\n",
      "UInt128\t0\t340282366920938463463374607431768211455\n"
     ]
    }
   ],
   "source": [
    "for t in [UInt8 UInt16 UInt32 UInt64 UInt128]\n",
    "    println(t, '\\t', typemin(t), '\\t', typemax(t))\n",
    "end"
   ]
  },
  {
   "cell_type": "markdown",
   "metadata": {},
   "source": [
    "## `BigInt`\n",
    "\n",
    "Julia `BigInt` type is arbitrary precision."
   ]
  },
  {
   "cell_type": "code",
   "execution_count": 9,
   "metadata": {
    "collapsed": false
   },
   "outputs": [
    {
     "name": "stdout",
     "output_type": "stream",
     "text": [
      "typemax(Int128) = 170141183460469231731687303715884105727\n",
      "typemax(Int128) + 1 = -170141183460469231731687303715884105728\n",
      "BigInt(typemax(Int128)) + 1 = 170141183460469231731687303715884105728\n"
     ]
    },
    {
     "data": {
      "text/plain": [
       "170141183460469231731687303715884105728"
      ]
     },
     "execution_count": 9,
     "metadata": {},
     "output_type": "execute_result"
    }
   ],
   "source": [
    "@show typemax(Int128)\n",
    "@show typemax(Int128) + 1 # modular arithmetic!\n",
    "@show BigInt(typemax(Int128)) + 1"
   ]
  },
  {
   "cell_type": "markdown",
   "metadata": {},
   "source": [
    "## Overflow and underflow for integer arithmetic\n",
    "\n",
    "R reports `NA` for integer overflow and underflow.  \n",
    "Julia outputs the result according to modular arithmetic."
   ]
  },
  {
   "cell_type": "code",
   "execution_count": 10,
   "metadata": {
    "collapsed": false
   },
   "outputs": [
    {
     "name": "stdout",
     "output_type": "stream",
     "text": [
      "typemax(Int32) + Int32(1) = -2147483648\n"
     ]
    },
    {
     "data": {
      "text/plain": [
       "-2147483648"
      ]
     },
     "execution_count": 10,
     "metadata": {},
     "output_type": "execute_result"
    }
   ],
   "source": [
    "@show typemax(Int32) + Int32(1)"
   ]
  },
  {
   "cell_type": "code",
   "execution_count": 11,
   "metadata": {
    "collapsed": false
   },
   "outputs": [
    {
     "data": {
      "text/plain": [
       "RCall.RObject{RCall.IntSxp}\n",
       "[1] 2147483647\n"
      ]
     },
     "execution_count": 11,
     "metadata": {},
     "output_type": "execute_result"
    }
   ],
   "source": [
    "using RCall\n",
    "\n",
    "R\"\"\"\n",
    "# .Machine variable\n",
    ".Machine$integer.max\n",
    "\"\"\""
   ]
  },
  {
   "cell_type": "code",
   "execution_count": 12,
   "metadata": {
    "collapsed": false
   },
   "outputs": [
    {
     "data": {
      "text/plain": [
       "RCall.RObject{RCall.IntSxp}\n",
       "[1] 2147483647\n"
      ]
     },
     "execution_count": 12,
     "metadata": {},
     "output_type": "execute_result"
    }
   ],
   "source": [
    "R\"\"\"\n",
    "M <- 32\n",
    "big <- 2^(M-1) - 1\n",
    "as.integer(big)\n",
    "\"\"\""
   ]
  },
  {
   "cell_type": "code",
   "execution_count": 13,
   "metadata": {
    "collapsed": false
   },
   "outputs": [
    {
     "name": "stderr",
     "output_type": "stream",
     "text": [
      "\u001b[1m\u001b[31mWARNING: RCall.jl: Warning: NAs introduced by coercion to integer range\u001b[0m\n"
     ]
    },
    {
     "data": {
      "text/plain": [
       "RCall.RObject{RCall.IntSxp}\n",
       "[1] NA\n"
      ]
     },
     "execution_count": 13,
     "metadata": {},
     "output_type": "execute_result"
    }
   ],
   "source": [
    "R\"\"\"\n",
    "as.integer(big+1)\n",
    "\"\"\""
   ]
  },
  {
   "cell_type": "markdown",
   "metadata": {
    "collapsed": true
   },
   "source": [
    "## Floating-number system\n",
    "\n",
    "Floating-point number system is a computer model for real numbers $\\mathbb{R}$.\n",
    "\n",
    "* Most computer systems adopts the [IEEE 754 standard](https://en.wikipedia.org/wiki/IEEE_floating_point), established in 1985, for representing real numbers.  \n",
    "For the history, see an [interview with William Kahan](http://www.cs.berkeley.edu/~wkahan/ieee754status/754story.html).\n",
    "\n",
    "* In the scientific notation, a real number is represented as\n",
    "$$\\pm d_0.d_1d_2 \\cdots d_p \\times b^e.$$\n",
    "In computer, the _base_ is $b=2$ and the digits $d_i$ are 0 or 1.\n",
    "\n",
    "* _Normalized_ vs _denormalized_ numbers. For example, decimal number 18 is\n",
    "$$ +1.0010 \\times 2^4 \\quad (\\text{normalized})$$\n",
    "or, equivalently,\n",
    "$$ +0.1001 \\times 2^5 \\quad (\\text{denormalized}).$$\n",
    "\n",
    "* In the floating-number system, computer stores \n",
    "    - sign bit  \n",
    "    - the _fraction_ (or _mantissa_, or _significand_) of the normalized representation\n",
    "    - the actual exponent _plus_ a bias"
   ]
  },
  {
   "cell_type": "markdown",
   "metadata": {},
   "source": [
    "<img src=\"http://cdn.wccftech.com/wp-content/uploads/2015/02/Single-precision-and-double-precision-numbers.png\" width=\"500\" align=\"center\"/>\n",
    "\n",
    "* **Single precision** (32 bit = 4 bytes) \n",
    "    - First bit is sign bit  \n",
    "    - $p=23$ significant bits  \n",
    "    - 8 exponent bits: $e_{\\max}=127$, $e_{\\min}=-126$, bias=127  \n",
    "    - $e_{\\text{min}}-1$ and $e_{\\text{max}}+1$ are reserved for special numbers  \n",
    "    - range of **magnitude**: $10^{\\pm 38}$ in decimal because $\\log_{10} (2^{127}) \\approx 38$  \n",
    "    - **precision**: $\\log_{10}(2^{23}) \\approx 7$ decimal point  \n",
    "    - In Julia, `Float32` is the type for single precision numbers\n",
    "    \n",
    "* **Double precision** (64 bit = 8 bytes) \n",
    "    - First bit is sign bit  \n",
    "    - $p=52$ significant bits  \n",
    "    - 11 exponent bits: $e_{\\max}=1023$, $e_{\\min}=-1022$, bias=1023  \n",
    "    - $e_{\\text{min}}-1$ and $e_{\\text{max}}+1$ are reserved for special numbers  \n",
    "    - range of **magnitude**: $10^{\\pm 308}$ in decimal because $\\log_{10} (2^{1023}) \\approx 308$  \n",
    "    - **precision** to the $\\log_{10}(2^{-52}) \\approx 16$ decimal point  \n",
    "    - In Julia, `Float64` is the type for double precision numbers    "
   ]
  },
  {
   "cell_type": "code",
   "execution_count": 14,
   "metadata": {
    "collapsed": false
   },
   "outputs": [
    {
     "name": "stdout",
     "output_type": "stream",
     "text": [
      "bits(Float32(18)) = \"01000001100100000000000000000000\"\n",
      "bits(Float32(-18)) = \"11000001100100000000000000000000\"\n",
      "bits(Float64(18)) = \"0100000000110010000000000000000000000000000000000000000000000000\"\n",
      "bits(Float64(18)) = \"0100000000110010000000000000000000000000000000000000000000000000\"\n",
      "Float32(π) = 3.1415927f0\n",
      "Float64(π) = 3.141592653589793\n"
     ]
    },
    {
     "data": {
      "text/html": [
       "3.141592653589793"
      ],
      "text/plain": [
       "3.141592653589793"
      ]
     },
     "execution_count": 14,
     "metadata": {},
     "output_type": "execute_result"
    }
   ],
   "source": [
    "@show bits(Float32(18))\n",
    "@show bits(Float32(-18))\n",
    "@show bits(Float64(18))\n",
    "@show bits(Float64(18))\n",
    "@show Float32(π) # SP number displays 7 digits\n",
    "@show Float64(π) # DP number displays 15 digits"
   ]
  },
  {
   "cell_type": "markdown",
   "metadata": {},
   "source": [
    "* Special floating-point numbers. \n",
    "    - Exponent $e_{\\max}+1$ plus a zero mantissa means $\\pm \\infty$  \n",
    "    - Exponent $e_{\\max}+1$ plus a nonzero mantissa means `NaN`. `NaN` could be produced from `0 / 0`, `0 * Inf`, ... In general `NaN ≠ NaN` bitwise  \n",
    "    - Exponent $e_{\\min}-1$ with a zero mantissa represents the real number 0  \n",
    "    - Exponent $e_{\\min}-1$ with a nonzero mantissa are for numbers less than $b^{e_{\\min}}$  \n",
    "    Numbers are _denormalized_ in the range $(0,b^{e_{\\min}})$ -- **graceful underflow** "
   ]
  },
  {
   "cell_type": "code",
   "execution_count": 15,
   "metadata": {
    "collapsed": false
   },
   "outputs": [
    {
     "name": "stdout",
     "output_type": "stream",
     "text": [
      "bits(Inf32) = \"01111111100000000000000000000000\"\n",
      "bits(-Inf32) = \"11111111100000000000000000000000\"\n",
      "bits(Float32(0) / Float32(0)) = \"11111111110000000000000000000000\"\n",
      "bits(Inf32 / Inf32) = \"11111111110000000000000000000000\"\n",
      "bits(Float32(0)) = \"00000000000000000000000000000000\"\n",
      "nextfloat(Float32(0)) = 1.0f-45\n",
      "bits(nextfloat(Float32(0))) = \"00000000000000000000000000000001\"\n"
     ]
    },
    {
     "data": {
      "text/plain": [
       "\"00000000000000000000000000000001\""
      ]
     },
     "execution_count": 15,
     "metadata": {},
     "output_type": "execute_result"
    }
   ],
   "source": [
    "@show bits(Inf32) # 18 in single precision\n",
    "@show bits(-Inf32) # -18 in single precision\n",
    "@show bits(Float32(0) / Float32(0)) # NaN\n",
    "@show bits(Inf32 / Inf32) # NaN\n",
    "@show bits(Float32(0)) # 0 in single precision \n",
    "@show nextfloat(Float32(0)) # next representable number \n",
    "@show bits(nextfloat(Float32(0))) # denormalized "
   ]
  },
  {
   "cell_type": "markdown",
   "metadata": {},
   "source": [
    "* **Rounding** is necessary whenever a number has more than $p$ significand bits. Most computer systems use the default IEEE 754 _round to nearest_ mode (also called _ties to even_ mode). Julia offers several [rounding modes](https://docs.julialang.org/en/stable/stdlib/math/?highlight=roundnearest#Base.RoundingMode), the default being `RoundNearest`. For example, the number\n",
    "$$ 0.1 = 1.10011001... \\times 2^{-4} $$"
   ]
  },
  {
   "cell_type": "code",
   "execution_count": 16,
   "metadata": {
    "collapsed": false
   },
   "outputs": [
    {
     "name": "stdout",
     "output_type": "stream",
     "text": [
      "bits(0.1f0) = \"00111101110011001100110011001101\"\n",
      "bits(0.1) = \"0011111110111001100110011001100110011001100110011001100110011010\"\n"
     ]
    }
   ],
   "source": [
    "@show bits(0.1f0)\n",
    "@show bits(0.1);"
   ]
  },
  {
   "cell_type": "markdown",
   "metadata": {},
   "source": [
    "* In summary\n",
    "    - Single precision: range $\\pm 10^{\\pm 38}$ with precision up to 7 decimal digits\n",
    "    - Double precision: range $\\pm 10^{\\pm 308}$ with precision up to 16 decimal digits  \n",
    "    - The floating-point numbers do not occur uniformly over the real number line\n",
    "    <img src=\"http://www.volkerschatz.com/science/pics/fltscale-wh.png\" width=\"700\" align=\"center\"/>\n",
    "    - **Machine epsilons** are the spacings of numbers around 1: \n",
    "    $$\\epsilon_{\\min}=b^{-p}, \\quad  \\epsilon_{\\max} = b^{1-p}.$$\n",
    "    <img src=\"./machine_epsilons.png\" width=\"500\" align=\"center\"/>"
   ]
  },
  {
   "cell_type": "code",
   "execution_count": 17,
   "metadata": {
    "collapsed": false
   },
   "outputs": [
    {
     "name": "stdout",
     "output_type": "stream",
     "text": [
      "eps(Float32) = 1.1920929f-7\n",
      "eps(Float64) = 2.220446049250313e-16\n",
      "eps(100.0) = 1.4210854715202004e-14\n",
      "eps(0.0) = 5.0e-324\n",
      "(prevfloat(x),x,nextfloat(x)) = (1.2499999f0,1.25f0,1.2500001f0)\n",
      "(bits(prevfloat(x)),bits(x),bits(nextfloat(x))) = (\"00111111100111111111111111111111\",\"00111111101000000000000000000000\",\"00111111101000000000000000000001\")\n"
     ]
    }
   ],
   "source": [
    "@show eps(Float32)  # machine epsilon for a floating point type\n",
    "@show eps(Float64)  # same as eps()\n",
    "# eps(x) is the spacing after x\n",
    "@show eps(100.0)\n",
    "@show eps(0.0)\n",
    "# nextfloat(x) and prevfloat(x) give the neighbors of x\n",
    "x = 1.25f0\n",
    "@show prevfloat(x), x, nextfloat(x)\n",
    "@show bits(prevfloat(x)), bits(x), bits(nextfloat(x));"
   ]
  },
  {
   "cell_type": "markdown",
   "metadata": {},
   "source": [
    "* In R, the variable `.Machine` contains numerical characteristics of the machine."
   ]
  },
  {
   "cell_type": "code",
   "execution_count": 18,
   "metadata": {
    "collapsed": false
   },
   "outputs": [
    {
     "data": {
      "text/plain": [
       "RCall.RObject{RCall.VecSxp}\n",
       "$double.eps\n",
       "[1] 2.220446e-16\n",
       "\n",
       "$double.neg.eps\n",
       "[1] 1.110223e-16\n",
       "\n",
       "$double.xmin\n",
       "[1] 2.225074e-308\n",
       "\n",
       "$double.xmax\n",
       "[1] 1.797693e+308\n",
       "\n",
       "$double.base\n",
       "[1] 2\n",
       "\n",
       "$double.digits\n",
       "[1] 53\n",
       "\n",
       "$double.rounding\n",
       "[1] 5\n",
       "\n",
       "$double.guard\n",
       "[1] 0\n",
       "\n",
       "$double.ulp.digits\n",
       "[1] -52\n",
       "\n",
       "$double.neg.ulp.digits\n",
       "[1] -53\n",
       "\n",
       "$double.exponent\n",
       "[1] 11\n",
       "\n",
       "$double.min.exp\n",
       "[1] -1022\n",
       "\n",
       "$double.max.exp\n",
       "[1] 1024\n",
       "\n",
       "$integer.max\n",
       "[1] 2147483647\n",
       "\n",
       "$sizeof.long\n",
       "[1] 8\n",
       "\n",
       "$sizeof.longlong\n",
       "[1] 8\n",
       "\n",
       "$sizeof.longdouble\n",
       "[1] 16\n",
       "\n",
       "$sizeof.pointer\n",
       "[1] 8\n",
       "\n"
      ]
     },
     "execution_count": 18,
     "metadata": {},
     "output_type": "execute_result"
    }
   ],
   "source": [
    "R\"\"\"\n",
    ".Machine\n",
    "\"\"\""
   ]
  },
  {
   "cell_type": "markdown",
   "metadata": {},
   "source": [
    "* Julia provides `Float16` (half precision), `Float32` (single precision), `Float64` (double precision), and `BigFloat` (arbitrary precision)."
   ]
  },
  {
   "cell_type": "code",
   "execution_count": 19,
   "metadata": {
    "collapsed": false
   },
   "outputs": [
    {
     "data": {
      "text/html": [
       "<img src=\"data:image/png;base64,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\" />"
      ]
     },
     "execution_count": 19,
     "metadata": {},
     "output_type": "execute_result"
    }
   ],
   "source": [
    "# make a list of a type T and it's supertypes\n",
    "T = AbstractFloat\n",
    "sups = [T]\n",
    "sup = T\n",
    "while sup != Any\n",
    "    sup = supertype(sup)\n",
    "    unshift!(sups,sup)\n",
    "end\n",
    "n = length(sups)\n",
    "nodes, source, destiny = copy(sups), collect(1:n-1), collect(2:n)\n",
    "add_subs!(T, n)\n",
    "names = map(string, nodes)\n",
    "\n",
    "graphplot(source, destiny, names=names, method=:tree)"
   ]
  },
  {
   "cell_type": "markdown",
   "metadata": {},
   "source": [
    "## Overflow and underflow of floating-point number\n",
    "\n",
    "* For double precision, the range is $\\pm 10^{\\pm 308}$. In most situations, underflow is preferred over overflow. Overflow causes crashes. Underflow yields zeros or denormalized numbers. \n",
    "\n",
    "* E.g., the logit link function is\n",
    "$$p = \\frac{\\exp (x^T \\beta)}{1 + \\exp (x^T \\beta)} = \\frac{1}{1+\\exp(- x^T \\beta)}.$$\n",
    "The former expression can easily lead to `Inf / Inf = NaN`, while the latter expression leads to graceful underflow."
   ]
  },
  {
   "cell_type": "markdown",
   "metadata": {},
   "source": [
    "## Catastrophic cancellation\n",
    "\n",
    "* **Scenario 1**: Addition or subtraction of two numbers of widely different magnitudes: $a+b$ or $a-b$ where $a \\gg b$ or $a \\ll b$. We loose the precision in the number of smaller magnitude. Consider \n",
    "$$\\begin{eqnarray*}\n",
    "    a &=& x.xxx ... \\times 2^{30} \\\\  \n",
    "    b &=& y.yyy... \\times 2^{-30}\n",
    "\\end{eqnarray*}$$\n",
    "What happens when computer calculates $a+b$? We get $a+b=a$!"
   ]
  },
  {
   "cell_type": "code",
   "execution_count": 20,
   "metadata": {
    "collapsed": false
   },
   "outputs": [
    {
     "data": {
      "text/html": [
       "true"
      ],
      "text/plain": [
       "true"
      ]
     },
     "execution_count": 20,
     "metadata": {},
     "output_type": "execute_result"
    }
   ],
   "source": [
    "a = 1.0 * 2.0^30\n",
    "b = 1.0 * 2.0^-30\n",
    "a + b == a"
   ]
  },
  {
   "cell_type": "markdown",
   "metadata": {},
   "source": [
    "* **Scenario 2**: Subtraction of two nearly equal numbers eliminates significant digits.  $a-b$ where $a \\approx b$. Consider \n",
    "$$\\begin{eqnarray*}\n",
    "    a &=& x.xxxxxxxxxx1ssss  \\\\\n",
    "    b &=& x.xxxxxxxxxx0tttt\n",
    "\\end{eqnarray*}$$\n",
    "The result is $1.vvvvu...u$ where $u$ are unassigned digits."
   ]
  },
  {
   "cell_type": "code",
   "execution_count": 13,
   "metadata": {
    "collapsed": false
   },
   "outputs": [
    {
     "name": "stdout",
     "output_type": "stream",
     "text": [
      "bits(a) = \"00111111100111100000011001010001\"\n",
      "bits(b) = \"00111111100111100000011001010000\"\n",
      "a - b = 1.1920929f-7\n",
      "bits(a - b) = \"00110100000000000000000000000000\"\n"
     ]
    }
   ],
   "source": [
    "a = 1.2345678f0 # rounding\n",
    "@show bits(a) # rounding\n",
    "b = 1.2345677f0\n",
    "@show bits(b)\n",
    "@show a - b # correct result should be 1e-7\n",
    "@show bits(a - b);"
   ]
  },
  {
   "cell_type": "markdown",
   "metadata": {},
   "source": [
    "* Implications for numerical computation\n",
    "    - Rule 1: add small numbers together before adding larger ones  \n",
    "    - Rule 2: add numbers of like magnitude together (paring). When all numbers are of same sign and similar magnitude, add in pairs so each stage the summands are of similar magnitude  \n",
    "    - Rule 3: avoid substraction of two numbers that are nearly equal"
   ]
  },
  {
   "cell_type": "markdown",
   "metadata": {},
   "source": [
    "### Algebraic laws\n",
    "\n",
    "Floating-point numbers may violate many algebraic laws we are familiar with, such associative and distributive laws. See Homework 1 problems."
   ]
  },
  {
   "cell_type": "markdown",
   "metadata": {},
   "source": [
    "## Further reading\n",
    "\n",
    "* Textbook treatment, e.g., Chapter II.2 of [_Computational Statistics_](http://ucla.worldcat.org/title/computational-statistics/oclc/437345409&referer=brief_results) by James Gentle (2010).\n",
    "\n",
    "* [What every computer scientist should know about floating-point arithmetic](http://hua-zhou.github.io/teaching/biostatm280-2017spring/readings/Goldberg91FloatingPoint.pdf) by David Goldberg (1991)."
   ]
  }
 ],
 "metadata": {
  "kernelspec": {
   "display_name": "Julia 0.5.1",
   "language": "julia",
   "name": "julia-0.5"
  },
  "language_info": {
   "file_extension": ".jl",
   "mimetype": "application/julia",
   "name": "julia",
   "version": "0.5.1"
  }
 },
 "nbformat": 4,
 "nbformat_minor": 2
}
