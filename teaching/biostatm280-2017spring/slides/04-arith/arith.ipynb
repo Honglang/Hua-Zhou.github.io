{
 "cells": [
  {
   "cell_type": "markdown",
   "metadata": {},
   "source": [
    "# Computer storage and arithmetics\n",
    "\n"
   ]
  },
  {
   "cell_type": "markdown",
   "metadata": {},
   "source": [
    "## Units of computer storage\n",
    "\n",
    "* `bit` = `binary` + `digit` (coined by statistician [John Tukey](https://en.wikipedia.org/wiki/Bit#History)).  \n",
    "* `byte` = 8 bits.  \n",
    "* KB = kilobyte = $10^3$ bytes.  \n",
    "* MB = megabytes = $10^6$ bytes.  \n",
    "* GB = gigabytes = $10^9$ bytes. Typical RAM size.  \n",
    "* TB = terabytes = $10^{12}$ bytes. Typical hard drive size. Size of NYSE each trading session.    \n",
    "* PB = petabytes = $10^{15}$ bytes.  \n",
    "* EB = exabytes = $10^{18}$ bytes. Size of all healthcare data in 2011 is ~150 EB.    \n",
    "* ZB = zetabytes = $10^{21}$ bytes. \n",
    "\n",
    "Julia function `Base.summarysize` shows the amount of memory (in bytes) used by an object."
   ]
  },
  {
   "cell_type": "code",
   "execution_count": 1,
   "metadata": {
    "collapsed": false
   },
   "outputs": [
    {
     "data": {
      "text/plain": [
       "80000"
      ]
     },
     "execution_count": 1,
     "metadata": {},
     "output_type": "execute_result"
    }
   ],
   "source": [
    "x = rand(100, 100)\n",
    "Base.summarysize(x)"
   ]
  },
  {
   "cell_type": "markdown",
   "metadata": {},
   "source": [
    "## Storage of Characters\n",
    "\n",
    "* Plain text files are stored in the form of characters: `.jl`, `.r`, `.c`, `.cpp`, `.ipynb`, `.html`, `.tex`, ...  \n",
    "* ASCII (American Code for Information Interchange): 7 bits, only $2^7=128$ characters.  "
   ]
  },
  {
   "cell_type": "code",
   "execution_count": 2,
   "metadata": {
    "collapsed": false
   },
   "outputs": [
    {
     "data": {
      "text/plain": [
       "128×2 Array{Any,2}:\n",
       "   0  '\\0'  \n",
       "   1  '\\x01'\n",
       "   2  '\\x02'\n",
       "   3  '\\x03'\n",
       "   4  '\\x04'\n",
       "   5  '\\x05'\n",
       "   6  '\\x06'\n",
       "   7  '\\a'  \n",
       "   8  '\\b'  \n",
       "   9  '\\t'  \n",
       "  10  '\\n'  \n",
       "  11  '\\v'  \n",
       "  12  '\\f'  \n",
       "   ⋮        \n",
       " 116  't'   \n",
       " 117  'u'   \n",
       " 118  'v'   \n",
       " 119  'w'   \n",
       " 120  'x'   \n",
       " 121  'y'   \n",
       " 122  'z'   \n",
       " 123  '{'   \n",
       " 124  '|'   \n",
       " 125  '}'   \n",
       " 126  '~'   \n",
       " 127  '\\x7f'"
      ]
     },
     "execution_count": 2,
     "metadata": {},
     "output_type": "execute_result"
    }
   ],
   "source": [
    "# integers 0, 1, ..., 127 and corresponding ascii character\n",
    "[0:127 Char.(0:127)]"
   ]
  },
  {
   "cell_type": "markdown",
   "metadata": {},
   "source": [
    "* Extended ASCII: 8 bits, $2^8=256$ characters.  "
   ]
  },
  {
   "cell_type": "code",
   "execution_count": 3,
   "metadata": {
    "collapsed": false
   },
   "outputs": [
    {
     "data": {
      "text/plain": [
       "128×2 Array{Any,2}:\n",
       " 128  '\\u80'\n",
       " 129  '\\u81'\n",
       " 130  '\\u82'\n",
       " 131  '\\u83'\n",
       " 132  '\\u84'\n",
       " 133  '\\u85'\n",
       " 134  '\\u86'\n",
       " 135  '\\u87'\n",
       " 136  '\\u88'\n",
       " 137  '\\u89'\n",
       " 138  '\\u8a'\n",
       " 139  '\\u8b'\n",
       " 140  '\\u8c'\n",
       "   ⋮        \n",
       " 244  'ô'   \n",
       " 245  'õ'   \n",
       " 246  'ö'   \n",
       " 247  '÷'   \n",
       " 248  'ø'   \n",
       " 249  'ù'   \n",
       " 250  'ú'   \n",
       " 251  'û'   \n",
       " 252  'ü'   \n",
       " 253  'ý'   \n",
       " 254  'þ'   \n",
       " 255  'ÿ'   "
      ]
     },
     "execution_count": 3,
     "metadata": {},
     "output_type": "execute_result"
    }
   ],
   "source": [
    "# integers 128, 129, ..., 255 and corresponding extended ascii character\n",
    "[128:255 Char.(128:255)]"
   ]
  },
  {
   "cell_type": "markdown",
   "metadata": {},
   "source": [
    "* Unicode: UTF-8, UTF-16 and UTF-32 support many more characters including foreign characters; last 7 digits conform to ASCII. \n",
    "\n",
    "* [UTF-8](https://en.wikipedia.org/wiki/UTF-8) is the current dominant character encoding on internet.  \n",
    "\n",
    "<img src=\"https://upload.wikimedia.org/wikipedia/commons/c/c4/Utf8webgrowth.svg\" width=\"500\" align=\"center\"/>\n",
    "\n",
    "* Julia supports the full range of UTF-8 characters. You can type many Unicode math symbols by typing the backslashed LaTeX symbol name followed by tab. "
   ]
  },
  {
   "cell_type": "code",
   "execution_count": 4,
   "metadata": {
    "collapsed": false
   },
   "outputs": [
    {
     "data": {
      "text/plain": [
       "0.0"
      ]
     },
     "execution_count": 4,
     "metadata": {},
     "output_type": "execute_result"
    }
   ],
   "source": [
    "# \\beta-<tab>\n",
    "β = 0.0\n",
    "# \\beta-<tab>-\\hat-<tab>\n",
    "β̂ = 0.0"
   ]
  },
  {
   "cell_type": "markdown",
   "metadata": {},
   "source": [
    "## Fixed-point number system\n",
    "\n",
    "* Fixed-point number system $\\mathbb{I}$ is a computer model for integers $\\mathbb{Z}$. \n",
    "\n",
    "* The number of bits and method of representing negative numbers vary from system to system. \n",
    "    - The `integer` type in R has $M=32$ or 64 bits. \n",
    "    - Matlab has `(u)int8`, `(u)int16`, `(u)int32`, `(u)int64`.  \n",
    "    - Julia has even more integer types. Using Tom Breloff's `Plots.jl` and `PlotRecipes.jl` packages, we can [visualize the type tree](http://www.breloff.com/Graphs/) under `Integer`\n",
    "    - Storage for a `Signed` or `Unsigned` integer can be $M = 8, 16, 32, 64$ or 128 bits."
   ]
  },
  {
   "cell_type": "code",
   "execution_count": 5,
   "metadata": {
    "collapsed": false
   },
   "outputs": [
    {
     "data": {
      "text/html": [
       "<img src=\"data:image/png;base64,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\" />"
      ]
     },
     "execution_count": 5,
     "metadata": {},
     "output_type": "execute_result"
    },
    {
     "name": "stderr",
     "output_type": "stream",
     "text": [
      "sys:1: MatplotlibDeprecationWarning: The set_axis_bgcolor function was deprecated in version 2.0. Use set_facecolor instead.\n"
     ]
    }
   ],
   "source": [
    "using PlotRecipes\n",
    "pyplot(alpha=0.5, size=(800, 500))\n",
    "\n",
    "# make a list of a type T and it's supertypes\n",
    "T = Integer\n",
    "sups = [T]\n",
    "sup = T\n",
    "while sup != Any\n",
    "    sup = supertype(sup)\n",
    "    unshift!(sups, sup)\n",
    "end\n",
    "sups\n",
    "\n",
    "# recursively build a graph of subtypes of T\n",
    "n = length(sups)\n",
    "nodes, source, destiny = copy(sups), collect(1:n-1), collect(2:n)\n",
    "function add_subs!(T, supidx)\n",
    "    for sub in subtypes(T)\n",
    "        push!(nodes, sub)\n",
    "        subidx = length(nodes)\n",
    "        push!(source, supidx)\n",
    "        push!(destiny, subidx)\n",
    "        add_subs!(sub, subidx)\n",
    "    end\n",
    "end\n",
    "add_subs!(T, n)\n",
    "names = map(string, nodes)\n",
    "\n",
    "graphplot(source, destiny, names=names, method=:tree)"
   ]
  },
  {
   "cell_type": "markdown",
   "metadata": {},
   "source": [
    "### Signed integers\n",
    "\n",
    "* First bit indicates sign.  \n",
    "    - `0` for nonnegative numbers\n",
    "    - `1` for negative numbers  \n",
    "    \n",
    "* **Two's complement representation** for negative numbers. \n",
    "    - Sign bit is set to 1  \n",
    "    - remaining bits are set to opposite values  \n",
    "    - 1 is added to the result"
   ]
  },
  {
   "cell_type": "code",
   "execution_count": 6,
   "metadata": {
    "collapsed": false
   },
   "outputs": [
    {
     "name": "stdout",
     "output_type": "stream",
     "text": [
      "bits(Int8(18)) = \"00010010\"\n",
      "bits(Int8(-18)) = \"11101110\"\n"
     ]
    }
   ],
   "source": [
    "@show bits(Int8(18))\n",
    "@show bits(Int8(-18));"
   ]
  },
  {
   "cell_type": "markdown",
   "metadata": {},
   "source": [
    "* Two's complement representation respects modular arithmetic nicely. \n",
    "    - addition of any two signed integers are just bitwise addition, possibly modulo $2^M$\n",
    "    \n",
    "<img src=\"http://users.dickinson.edu/~braught/courses/cs251f02/classes/images/twosCompWheel.png\" width=\"400\" align=\"center\"/>    "
   ]
  },
  {
   "cell_type": "markdown",
   "metadata": {},
   "source": [
    "* **Range** of representable integers by $M$-bit **signed integer** is $[-2^{M-1},2^{M-1}-1]$.\n",
    "    - Julia functions `typemin(T)` and `typemax(T)` give the lowest and highest representable number of a type `T` respectively"
   ]
  },
  {
   "cell_type": "code",
   "execution_count": 7,
   "metadata": {
    "collapsed": false
   },
   "outputs": [
    {
     "name": "stdout",
     "output_type": "stream",
     "text": [
      "Int8\t-128\t127\n",
      "Int16\t-32768\t32767\n",
      "Int32\t-2147483648\t2147483647\n",
      "Int64\t-9223372036854775808\t9223372036854775807\n",
      "Int128\t-170141183460469231731687303715884105728\t170141183460469231731687303715884105727\n"
     ]
    }
   ],
   "source": [
    "for t in [Int8 Int16 Int32 Int64 Int128]\n",
    "    println(t, '\\t', typemin(t), '\\t', typemax(t))\n",
    "end"
   ]
  },
  {
   "cell_type": "markdown",
   "metadata": {},
   "source": [
    "### **Unsigned integers**\n",
    "\n",
    "* For unsigned integers, the range is $[0,2^M-1]$."
   ]
  },
  {
   "cell_type": "code",
   "execution_count": 8,
   "metadata": {
    "collapsed": false
   },
   "outputs": [
    {
     "name": "stdout",
     "output_type": "stream",
     "text": [
      "UInt8\t0\t255\n",
      "UInt16\t0\t65535\n",
      "UInt32\t0\t4294967295\n",
      "UInt64\t0\t18446744073709551615\n",
      "UInt128\t0\t340282366920938463463374607431768211455\n"
     ]
    }
   ],
   "source": [
    "for t in [UInt8 UInt16 UInt32 UInt64 UInt128]\n",
    "    println(t, '\\t', typemin(t), '\\t', typemax(t))\n",
    "end"
   ]
  },
  {
   "cell_type": "markdown",
   "metadata": {},
   "source": [
    "## `BigInt`\n",
    "\n",
    "Julia `BigInt` type is arbitrary precision."
   ]
  },
  {
   "cell_type": "code",
   "execution_count": 9,
   "metadata": {
    "collapsed": false
   },
   "outputs": [
    {
     "name": "stdout",
     "output_type": "stream",
     "text": [
      "typemax(Int128) = 170141183460469231731687303715884105727\n",
      "typemax(Int128) + 1 = -170141183460469231731687303715884105728\n",
      "BigInt(typemax(Int128)) + 1 = 170141183460469231731687303715884105728\n"
     ]
    },
    {
     "data": {
      "text/plain": [
       "170141183460469231731687303715884105728"
      ]
     },
     "execution_count": 9,
     "metadata": {},
     "output_type": "execute_result"
    }
   ],
   "source": [
    "@show typemax(Int128)\n",
    "@show typemax(Int128) + 1 # modular arithmetic!\n",
    "@show BigInt(typemax(Int128)) + 1"
   ]
  },
  {
   "cell_type": "markdown",
   "metadata": {},
   "source": [
    "## Overflow and underflow for integer arithmetic\n",
    "\n",
    "R reports `NA` for integer overflow and underflow.  \n",
    "**Julia outputs the result according to modular arithmetic.**"
   ]
  },
  {
   "cell_type": "code",
   "execution_count": 10,
   "metadata": {
    "collapsed": false
   },
   "outputs": [
    {
     "name": "stdout",
     "output_type": "stream",
     "text": [
      "typemax(Int32) + Int32(1) = -2147483648\n"
     ]
    },
    {
     "data": {
      "text/plain": [
       "-2147483648"
      ]
     },
     "execution_count": 10,
     "metadata": {},
     "output_type": "execute_result"
    }
   ],
   "source": [
    "@show typemax(Int32) + Int32(1) # modular arithmetics!"
   ]
  },
  {
   "cell_type": "code",
   "execution_count": 11,
   "metadata": {
    "collapsed": false
   },
   "outputs": [
    {
     "data": {
      "text/plain": [
       "RCall.RObject{RCall.IntSxp}\n",
       "[1] 2147483647\n"
      ]
     },
     "execution_count": 11,
     "metadata": {},
     "output_type": "execute_result"
    }
   ],
   "source": [
    "using RCall\n",
    "\n",
    "R\"\"\"\n",
    ".Machine$integer.max\n",
    "\"\"\""
   ]
  },
  {
   "cell_type": "code",
   "execution_count": 12,
   "metadata": {
    "collapsed": false
   },
   "outputs": [
    {
     "data": {
      "text/plain": [
       "RCall.RObject{RCall.IntSxp}\n",
       "[1] 2147483647\n"
      ]
     },
     "execution_count": 12,
     "metadata": {},
     "output_type": "execute_result"
    }
   ],
   "source": [
    "R\"\"\"\n",
    "M <- 32\n",
    "big <- 2^(M-1) - 1\n",
    "as.integer(big)\n",
    "\"\"\""
   ]
  },
  {
   "cell_type": "code",
   "execution_count": 13,
   "metadata": {
    "collapsed": false
   },
   "outputs": [
    {
     "name": "stderr",
     "output_type": "stream",
     "text": [
      "\u001b[1m\u001b[31mWARNING: RCall.jl: Warning: NAs introduced by coercion to integer range\u001b[0m\n"
     ]
    },
    {
     "data": {
      "text/plain": [
       "RCall.RObject{RCall.IntSxp}\n",
       "[1] NA\n"
      ]
     },
     "execution_count": 13,
     "metadata": {},
     "output_type": "execute_result"
    }
   ],
   "source": [
    "R\"\"\"\n",
    "as.integer(big+1)\n",
    "\"\"\""
   ]
  },
  {
   "cell_type": "markdown",
   "metadata": {
    "collapsed": true
   },
   "source": [
    "## Floating-number system\n",
    "\n",
    "Floating-point number system is a computer model for real numbers $\\mathbb{R}$.\n",
    "\n",
    "* Most computer systems adopt the [IEEE 754 standard](https://en.wikipedia.org/wiki/IEEE_floating_point), established in 1985, for floating-point arithmetics.  \n",
    "For the history, see an [interview with William Kahan](http://www.cs.berkeley.edu/~wkahan/ieee754status/754story.html).\n",
    "\n",
    "* In the scientific notation, a real number is represented as\n",
    "$$\\pm d_0.d_1d_2 \\cdots d_p \\times b^e.$$\n",
    "In computer, the _base_ is $b=2$ and the digits $d_i$ are 0 or 1.\n",
    "\n",
    "* **Normalized** vs **denormalized** numbers. For example, decimal number 18 is\n",
    "$$ +1.0010 \\times 2^4 \\quad (\\text{normalized})$$\n",
    "or, equivalently,\n",
    "$$ +0.1001 \\times 2^5 \\quad (\\text{denormalized}).$$\n",
    "\n",
    "* In the floating-number system, computer stores \n",
    "    - sign bit  \n",
    "    - the _fraction_ (or _mantissa_, or _significand_) of the normalized representation\n",
    "    - the actual exponent _plus_ a bias"
   ]
  },
  {
   "cell_type": "markdown",
   "metadata": {},
   "source": [
    "<img src=\"http://cdn.wccftech.com/wp-content/uploads/2015/02/Single-precision-and-double-precision-numbers.png\" width=\"500\" align=\"center\"/>\n",
    "\n",
    "* **Single precision** (32 bit = 4 bytes) \n",
    "    - First bit is sign bit  \n",
    "    - $p=23$ significant bits  \n",
    "    - 8 exponent bits: $e_{\\max}=127$, $e_{\\min}=-126$, bias=127  \n",
    "    - $e_{\\text{min}}-1$ and $e_{\\text{max}}+1$ are reserved for special numbers  \n",
    "    - range of **magnitude**: $10^{\\pm 38}$ in decimal because $\\log_{10} (2^{127}) \\approx 38$  \n",
    "    - **precision**: $\\log_{10}(2^{23}) \\approx 7$ decimal point  \n",
    "    - In Julia, `Float32` is the type for single precision numbers\n",
    "    \n",
    "* **Double precision** (64 bit = 8 bytes) \n",
    "    - First bit is sign bit  \n",
    "    - $p=52$ significant bits  \n",
    "    - 11 exponent bits: $e_{\\max}=1023$, $e_{\\min}=-1022$, bias=1023  \n",
    "    - $e_{\\text{min}}-1$ and $e_{\\text{max}}+1$ are reserved for special numbers  \n",
    "    - range of **magnitude**: $10^{\\pm 308}$ in decimal because $\\log_{10} (2^{1023}) \\approx 308$  \n",
    "    - **precision** to the $\\log_{10}(2^{-52}) \\approx 16$ decimal point  \n",
    "    - In Julia, `Float64` is the type for double precision numbers    "
   ]
  },
  {
   "cell_type": "code",
   "execution_count": 14,
   "metadata": {
    "collapsed": false
   },
   "outputs": [
    {
     "name": "stdout",
     "output_type": "stream",
     "text": [
      "bits(Float32(18)) = \"01000001100100000000000000000000\"\n",
      "bits(Float32(-18)) = \"11000001100100000000000000000000\"\n",
      "bits(Float64(18)) = \"0100000000110010000000000000000000000000000000000000000000000000\"\n",
      "bits(Float64(-18)) = \"1100000000110010000000000000000000000000000000000000000000000000\"\n",
      "Float32(π) = 3.1415927f0\n",
      "Float64(π) = 3.141592653589793\n"
     ]
    },
    {
     "data": {
      "text/html": [
       "3.141592653589793"
      ],
      "text/plain": [
       "3.141592653589793"
      ]
     },
     "execution_count": 14,
     "metadata": {},
     "output_type": "execute_result"
    }
   ],
   "source": [
    "@show bits(Float32(18)) # 18 in single precision\n",
    "@show bits(Float32(-18)) # -18 in single precision\n",
    "@show bits(Float64(18)) # 18 in double precision\n",
    "@show bits(Float64(-18)) # -18 in double precision\n",
    "@show Float32(π) # SP number displays 7 decimal digits\n",
    "@show Float64(π) # DP number displays 15 decimal digits"
   ]
  },
  {
   "cell_type": "markdown",
   "metadata": {},
   "source": [
    "* Special floating-point numbers. \n",
    "    - Exponent $e_{\\max}+1$ plus a zero mantissa means $\\pm \\infty$  \n",
    "    - Exponent $e_{\\max}+1$ plus a nonzero mantissa means `NaN`. `NaN` could be produced from `0 / 0`, `0 * Inf`, ... In general `NaN ≠ NaN` bitwise  \n",
    "    - Exponent $e_{\\min}-1$ with a zero mantissa represents the real number 0  \n",
    "    - Exponent $e_{\\min}-1$ with a nonzero mantissa are for numbers less than $b^{e_{\\min}}$  \n",
    "    Numbers are _denormalized_ in the range $(0,b^{e_{\\min}})$ -- **graceful underflow** "
   ]
  },
  {
   "cell_type": "code",
   "execution_count": 15,
   "metadata": {
    "collapsed": false
   },
   "outputs": [
    {
     "name": "stdout",
     "output_type": "stream",
     "text": [
      "bits(Inf32) = \"01111111100000000000000000000000\"\n",
      "bits(-Inf32) = \"11111111100000000000000000000000\"\n",
      "bits(Float32(0) / Float32(0)) = \"11111111110000000000000000000000\"\n",
      "bits(Inf32 / Inf32) = \"11111111110000000000000000000000\"\n",
      "bits(Float32(0)) = \"00000000000000000000000000000000\"\n",
      "nextfloat(Float32(0)) = 1.0f-45\n",
      "bits(nextfloat(Float32(0))) = \"00000000000000000000000000000001\"\n"
     ]
    },
    {
     "data": {
      "text/plain": [
       "\"00000000000000000000000000000001\""
      ]
     },
     "execution_count": 15,
     "metadata": {},
     "output_type": "execute_result"
    }
   ],
   "source": [
    "@show bits(Inf32) # Inf in single precision\n",
    "@show bits(-Inf32) # -Inf in single precision\n",
    "@show bits(Float32(0) / Float32(0)) # NaN\n",
    "@show bits(Inf32 / Inf32) # NaN\n",
    "@show bits(Float32(0)) # 0 in single precision \n",
    "@show nextfloat(Float32(0)) # next representable number \n",
    "@show bits(nextfloat(Float32(0))) # denormalized "
   ]
  },
  {
   "cell_type": "markdown",
   "metadata": {},
   "source": [
    "* **Rounding** is necessary whenever a number has more than $p$ significand bits. Most computer systems use the default IEEE 754 _round to nearest_ mode (also called _ties to even_ mode). Julia offers several [rounding modes](https://docs.julialang.org/en/stable/stdlib/math/?highlight=roundnearest#Base.RoundingMode), the default being `RoundNearest`. For example, the number\n",
    "$$ 0.1 = 1.10011001... \\times 2^{-4} $$"
   ]
  },
  {
   "cell_type": "code",
   "execution_count": 16,
   "metadata": {
    "collapsed": false
   },
   "outputs": [
    {
     "name": "stdout",
     "output_type": "stream",
     "text": [
      "bits(0.1f0) = \"00111101110011001100110011001101\"\n",
      "bits(0.1) = \"0011111110111001100110011001100110011001100110011001100110011010\"\n"
     ]
    }
   ],
   "source": [
    "@show bits(0.1f0) # single precision Float32\n",
    "@show bits(0.1);  # double precision Float64"
   ]
  },
  {
   "cell_type": "markdown",
   "metadata": {},
   "source": [
    "* In summary\n",
    "    - Single precision: range $\\pm 10^{\\pm 38}$ with precision up to 7 decimal digits\n",
    "    - Double precision: range $\\pm 10^{\\pm 308}$ with precision up to 16 decimal digits  \n",
    "    - The floating-point numbers do not occur uniformly over the real number line\n",
    "    <img src=\"http://www.volkerschatz.com/science/pics/fltscale-wh.png\" width=\"700\" align=\"center\"/>\n",
    "    - **Machine epsilons** are the spacings of numbers around 1: \n",
    "    $$\\epsilon_{\\min}=b^{-p}, \\quad  \\epsilon_{\\max} = b^{1-p}.$$\n",
    "    <img src=\"./machine_epsilons.png\" width=\"500\" align=\"center\"/>"
   ]
  },
  {
   "cell_type": "code",
   "execution_count": 17,
   "metadata": {
    "collapsed": false
   },
   "outputs": [
    {
     "name": "stdout",
     "output_type": "stream",
     "text": [
      "eps(Float32) = 1.1920929f-7\n",
      "eps(Float64) = 2.220446049250313e-16\n",
      "eps(100.0) = 1.4210854715202004e-14\n",
      "eps(0.0) = 5.0e-324\n",
      "(prevfloat(x),x,nextfloat(x)) = (1.2499999f0,1.25f0,1.2500001f0)\n",
      "(bits(prevfloat(x)),bits(x),bits(nextfloat(x))) = (\"00111111100111111111111111111111\",\"00111111101000000000000000000000\",\"00111111101000000000000000000001\")\n"
     ]
    }
   ],
   "source": [
    "@show eps(Float32)  # machine epsilon for a floating point type\n",
    "@show eps(Float64)  # same as eps()\n",
    "# eps(x) is the spacing after x\n",
    "@show eps(100.0)\n",
    "@show eps(0.0)\n",
    "# nextfloat(x) and prevfloat(x) give the neighbors of x\n",
    "x = 1.25f0\n",
    "@show prevfloat(x), x, nextfloat(x)\n",
    "@show bits(prevfloat(x)), bits(x), bits(nextfloat(x));"
   ]
  },
  {
   "cell_type": "markdown",
   "metadata": {},
   "source": [
    "* In R, the variable `.Machine` contains numerical characteristics of the machine."
   ]
  },
  {
   "cell_type": "code",
   "execution_count": 18,
   "metadata": {
    "collapsed": false
   },
   "outputs": [
    {
     "data": {
      "text/plain": [
       "RCall.RObject{RCall.VecSxp}\n",
       "$double.eps\n",
       "[1] 2.220446e-16\n",
       "\n",
       "$double.neg.eps\n",
       "[1] 1.110223e-16\n",
       "\n",
       "$double.xmin\n",
       "[1] 2.225074e-308\n",
       "\n",
       "$double.xmax\n",
       "[1] 1.797693e+308\n",
       "\n",
       "$double.base\n",
       "[1] 2\n",
       "\n",
       "$double.digits\n",
       "[1] 53\n",
       "\n",
       "$double.rounding\n",
       "[1] 5\n",
       "\n",
       "$double.guard\n",
       "[1] 0\n",
       "\n",
       "$double.ulp.digits\n",
       "[1] -52\n",
       "\n",
       "$double.neg.ulp.digits\n",
       "[1] -53\n",
       "\n",
       "$double.exponent\n",
       "[1] 11\n",
       "\n",
       "$double.min.exp\n",
       "[1] -1022\n",
       "\n",
       "$double.max.exp\n",
       "[1] 1024\n",
       "\n",
       "$integer.max\n",
       "[1] 2147483647\n",
       "\n",
       "$sizeof.long\n",
       "[1] 8\n",
       "\n",
       "$sizeof.longlong\n",
       "[1] 8\n",
       "\n",
       "$sizeof.longdouble\n",
       "[1] 16\n",
       "\n",
       "$sizeof.pointer\n",
       "[1] 8\n",
       "\n"
      ]
     },
     "execution_count": 18,
     "metadata": {},
     "output_type": "execute_result"
    }
   ],
   "source": [
    "R\"\"\"\n",
    ".Machine\n",
    "\"\"\""
   ]
  },
  {
   "cell_type": "markdown",
   "metadata": {},
   "source": [
    "* Julia provides `Float16` (half precision), `Float32` (single precision), `Float64` (double precision), and `BigFloat` (arbitrary precision)."
   ]
  },
  {
   "cell_type": "code",
   "execution_count": 19,
   "metadata": {
    "collapsed": false
   },
   "outputs": [
    {
     "data": {
      "text/html": [
       "<img src=\"data:image/png;base64,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\" />"
      ]
     },
     "execution_count": 19,
     "metadata": {},
     "output_type": "execute_result"
    }
   ],
   "source": [
    "# make a list of a type T and it's supertypes\n",
    "T = AbstractFloat\n",
    "sups = [T]\n",
    "sup = T\n",
    "while sup != Any\n",
    "    sup = supertype(sup)\n",
    "    unshift!(sups,sup)\n",
    "end\n",
    "n = length(sups)\n",
    "nodes, source, destiny = copy(sups), collect(1:n-1), collect(2:n)\n",
    "add_subs!(T, n)\n",
    "names = map(string, nodes)\n",
    "\n",
    "graphplot(source, destiny, names=names, method=:tree)"
   ]
  },
  {
   "cell_type": "markdown",
   "metadata": {},
   "source": [
    "## Overflow and underflow of floating-point number\n",
    "\n",
    "* For double precision, the range is $\\pm 10^{\\pm 308}$. In most situations, underflow is preferred over overflow. Overflow causes crashes. Underflow yields zeros or denormalized numbers. \n",
    "\n",
    "* E.g., the logit link function is\n",
    "$$p = \\frac{\\exp (x^T \\beta)}{1 + \\exp (x^T \\beta)} = \\frac{1}{1+\\exp(- x^T \\beta)}.$$\n",
    "The former expression can easily lead to `Inf / Inf = NaN`, while the latter expression leads to graceful underflow."
   ]
  },
  {
   "cell_type": "code",
   "execution_count": 1,
   "metadata": {
    "collapsed": false
   },
   "outputs": [
    {
     "name": "stdout",
     "output_type": "stream",
     "text": [
      "Float16\t-Inf\tInf\t6.104e-5\t6.55e4\t0.000977\n",
      "Float32\t-Inf\tInf\t1.1754944f-38\t3.4028235f38\t1.1920929f-7\n",
      "Float64\t-Inf\tInf\t2.2250738585072014e-308\t1.7976931348623157e308\t2.220446049250313e-16\n"
     ]
    }
   ],
   "source": [
    "for t in [Float16 Float32 Float64]\n",
    "    println(t, '\\t', typemin(t), '\\t', typemax(t), '\\t', realmin(t), '\\t', realmax(t), '\\t', eps(t))\n",
    "end"
   ]
  },
  {
   "cell_type": "markdown",
   "metadata": {},
   "source": [
    "* `BigFloat` in Julia offers arbitrary precision."
   ]
  },
  {
   "cell_type": "code",
   "execution_count": 21,
   "metadata": {
    "collapsed": false
   },
   "outputs": [
    {
     "name": "stdout",
     "output_type": "stream",
     "text": [
      "(precision(BigFloat),realmin(BigFloat),realmax(BigFloat)) = (256,8.50969131174083613912978790962048280567755996982969624908264897850135431080301e-1388255822130839284,5.875653789111587590936911998878442589938516392745498308333779606469323584389875e+1388255822130839282)\n"
     ]
    }
   ],
   "source": [
    "@show precision(BigFloat), realmin(BigFloat), realmax(BigFloat);"
   ]
  },
  {
   "cell_type": "code",
   "execution_count": 22,
   "metadata": {
    "collapsed": false
   },
   "outputs": [
    {
     "name": "stdout",
     "output_type": "stream",
     "text": [
      "BigFloat(π) = 3.141592653589793238462643383279502884197169399375105820974944592307816406286198\n",
      "BigFloat(π) = 3.141592653589793238462643383279502884197169399375105820974944592307816406286208998628034825342117067982148086513282306647093844609550582231725359408128481117450284102701938521105559644622948954930381964428810975665933446128475648233786783165271201909145648566923460348610454326648213393607260249141273724586997\n"
     ]
    }
   ],
   "source": [
    "@show BigFloat(π); # default precision for BigFloat is 256 bits\n",
    "# set precision to 1024 bits\n",
    "setprecision(BigFloat, 1024) do \n",
    "    @show BigFloat(π)\n",
    "end;"
   ]
  },
  {
   "cell_type": "markdown",
   "metadata": {},
   "source": [
    "## Catastrophic cancellation\n",
    "\n",
    "* **Scenario 1**: Addition or subtraction of two numbers of widely different magnitudes: $a+b$ or $a-b$ where $a \\gg b$ or $a \\ll b$. We loose the precision in the number of smaller magnitude. Consider \n",
    "$$\\begin{eqnarray*}\n",
    "    a &=& x.xxx ... \\times 2^{30} \\\\  \n",
    "    b &=& y.yyy... \\times 2^{-30}\n",
    "\\end{eqnarray*}$$\n",
    "What happens when computer calculates $a+b$? We get $a+b=a$!"
   ]
  },
  {
   "cell_type": "code",
   "execution_count": 23,
   "metadata": {
    "collapsed": false
   },
   "outputs": [
    {
     "data": {
      "text/html": [
       "true"
      ],
      "text/plain": [
       "true"
      ]
     },
     "execution_count": 23,
     "metadata": {},
     "output_type": "execute_result"
    }
   ],
   "source": [
    "a = 1.0 * 2.0^30\n",
    "b = 1.0 * 2.0^-30\n",
    "a + b == a"
   ]
  },
  {
   "cell_type": "markdown",
   "metadata": {},
   "source": [
    "* **Scenario 2**: Subtraction of two nearly equal numbers eliminates significant digits.  $a-b$ where $a \\approx b$. Consider \n",
    "$$\\begin{eqnarray*}\n",
    "    a &=& x.xxxxxxxxxx1ssss  \\\\\n",
    "    b &=& x.xxxxxxxxxx0tttt\n",
    "\\end{eqnarray*}$$\n",
    "The result is $1.vvvvu...u$ where $u$ are unassigned digits."
   ]
  },
  {
   "cell_type": "code",
   "execution_count": 24,
   "metadata": {
    "collapsed": false
   },
   "outputs": [
    {
     "name": "stdout",
     "output_type": "stream",
     "text": [
      "bits(a) = \"00111111100111100000011001010001\"\n",
      "bits(b) = \"00111111100111100000011001010000\"\n",
      "a - b = 1.1920929f-7\n",
      "bits(a - b) = \"00110100000000000000000000000000\"\n"
     ]
    }
   ],
   "source": [
    "a = 1.2345678f0 # rounding\n",
    "@show bits(a) # rounding\n",
    "b = 1.2345677f0\n",
    "@show bits(b)\n",
    "@show a - b # correct result should be 1e-7\n",
    "@show bits(a - b);"
   ]
  },
  {
   "cell_type": "markdown",
   "metadata": {},
   "source": [
    "* Implications for numerical computation\n",
    "    - Rule 1: add small numbers together before adding larger ones  \n",
    "    - Rule 2: add numbers of like magnitude together (paring). When all numbers are of same sign and similar magnitude, add in pairs so each stage the summands are of similar magnitude  \n",
    "    - Rule 3: avoid substraction of two numbers that are nearly equal"
   ]
  },
  {
   "cell_type": "markdown",
   "metadata": {},
   "source": [
    "### Algebraic laws\n",
    "\n",
    "Floating-point numbers may violate many algebraic laws we are familiar with, such associative and distributive laws. See Homework 1 problems."
   ]
  },
  {
   "cell_type": "markdown",
   "metadata": {},
   "source": [
    "## Further reading\n",
    "\n",
    "* Textbook treatment, e.g., Chapter II.2 of [Computational Statistics](http://ucla.worldcat.org/title/computational-statistics/oclc/437345409&referer=brief_results) by James Gentle (2010).\n",
    "\n",
    "* [What every computer scientist should know about floating-point arithmetic](http://hua-zhou.github.io/teaching/biostatm280-2017spring/readings/Goldberg91FloatingPoint.pdf) by David Goldberg (1991)."
   ]
  }
 ],
 "metadata": {
  "kernelspec": {
   "display_name": "Julia 0.5.1",
   "language": "julia",
   "name": "julia-0.5"
  },
  "language_info": {
   "file_extension": ".jl",
   "mimetype": "application/julia",
   "name": "julia",
   "version": "0.5.1"
  }
 },
 "nbformat": 4,
 "nbformat_minor": 2
}
