{
 "cells": [
  {
   "cell_type": "markdown",
   "metadata": {},
   "source": [
    "# Computer storage and arithmetics\n",
    "\n"
   ]
  },
  {
   "cell_type": "markdown",
   "metadata": {},
   "source": [
    "## Units of computer storage: \n",
    "\n",
    "* `bit` = `binary` + `digit` (coined by statistician [John Tukey](https://en.wikipedia.org/wiki/Bit#History)).  \n",
    "* `byte` = 8 bits.  \n",
    "* KB = kilobyte = $10^3$ bytes.  \n",
    "* MB = megabytes = $10^6$ bytes.  \n",
    "* GB = gigabytes = $10^9$ bytes. Typical RAM size.  \n",
    "* TB = terabytes = $10^{12}$ bytes. Typical hard drive size. Size of NYSE each trading session.    \n",
    "* PB = petabytes = $10^{15}$ bytes.  \n",
    "* EB = exabytes = $10^{18}$ bytes. Size of all healthcare data in 2011 is ~150 EB.    \n",
    "* ZB = zetabytes = $10^{21}$ bytes. \n",
    "\n",
    "Julia function `Base.summarysize` shows the amount of memory (in bytes) used by an object."
   ]
  },
  {
   "cell_type": "code",
   "execution_count": 1,
   "metadata": {
    "collapsed": false
   },
   "outputs": [
    {
     "data": {
      "text/plain": [
       "80000"
      ]
     },
     "execution_count": 1,
     "metadata": {},
     "output_type": "execute_result"
    }
   ],
   "source": [
    "x = rand(100, 100)\n",
    "Base.summarysize(x)"
   ]
  },
  {
   "cell_type": "markdown",
   "metadata": {},
   "source": [
    "## Storage of Characters\n",
    "\n",
    "* Plain text files are stored in the form of characters: `.jl`, `.r`, `.c`, `.cpp`, `.tex`, `.html`, ...  \n",
    "* ASCII (American Code for Information Interchange): 7 bits, only $2^7=128$ characters.  "
   ]
  },
  {
   "cell_type": "code",
   "execution_count": 2,
   "metadata": {
    "collapsed": false
   },
   "outputs": [
    {
     "data": {
      "text/plain": [
       "128×2 Array{Any,2}:\n",
       "   0  '\\0'  \n",
       "   1  '\\x01'\n",
       "   2  '\\x02'\n",
       "   3  '\\x03'\n",
       "   4  '\\x04'\n",
       "   5  '\\x05'\n",
       "   6  '\\x06'\n",
       "   7  '\\a'  \n",
       "   8  '\\b'  \n",
       "   9  '\\t'  \n",
       "  10  '\\n'  \n",
       "  11  '\\v'  \n",
       "  12  '\\f'  \n",
       "   ⋮        \n",
       " 116  't'   \n",
       " 117  'u'   \n",
       " 118  'v'   \n",
       " 119  'w'   \n",
       " 120  'x'   \n",
       " 121  'y'   \n",
       " 122  'z'   \n",
       " 123  '{'   \n",
       " 124  '|'   \n",
       " 125  '}'   \n",
       " 126  '~'   \n",
       " 127  '\\x7f'"
      ]
     },
     "execution_count": 2,
     "metadata": {},
     "output_type": "execute_result"
    }
   ],
   "source": [
    "# integers 0, 1, ..., 127 and corresponding ascii character\n",
    "[0:127 Char.(0:127)]"
   ]
  },
  {
   "cell_type": "markdown",
   "metadata": {},
   "source": [
    "* Extended ASCII: 8 bits, $2^8=256$ characters.  "
   ]
  },
  {
   "cell_type": "code",
   "execution_count": 3,
   "metadata": {
    "collapsed": false
   },
   "outputs": [
    {
     "data": {
      "text/plain": [
       "128×2 Array{Any,2}:\n",
       " 128  '\\u80'\n",
       " 129  '\\u81'\n",
       " 130  '\\u82'\n",
       " 131  '\\u83'\n",
       " 132  '\\u84'\n",
       " 133  '\\u85'\n",
       " 134  '\\u86'\n",
       " 135  '\\u87'\n",
       " 136  '\\u88'\n",
       " 137  '\\u89'\n",
       " 138  '\\u8a'\n",
       " 139  '\\u8b'\n",
       " 140  '\\u8c'\n",
       "   ⋮        \n",
       " 244  'ô'   \n",
       " 245  'õ'   \n",
       " 246  'ö'   \n",
       " 247  '÷'   \n",
       " 248  'ø'   \n",
       " 249  'ù'   \n",
       " 250  'ú'   \n",
       " 251  'û'   \n",
       " 252  'ü'   \n",
       " 253  'ý'   \n",
       " 254  'þ'   \n",
       " 255  'ÿ'   "
      ]
     },
     "execution_count": 3,
     "metadata": {},
     "output_type": "execute_result"
    }
   ],
   "source": [
    "# integers 128, 129, ..., 255 and corresponding extended ascii character\n",
    "[128:255 Char.(128:255)]"
   ]
  },
  {
   "cell_type": "markdown",
   "metadata": {},
   "source": [
    "* Unicode: UTF-8, UTF-16 and UTF-32 support many more characters including foreign characters; last 7 digits conform to ASCII. [UTF-8](https://en.wikipedia.org/wiki/UTF-8) is the current dominant character encoding on internet.  \n",
    "\n",
    "<img src=\"https://upload.wikimedia.org/wikipedia/commons/c/c4/Utf8webgrowth.svg\" width=500 align=\"center\"/>\n",
    "\n",
    "Julia supports the full range of UTF-8 characters. You can type many Unicode math symbols by typing the backslashed LaTeX symbol name followed by tab. "
   ]
  },
  {
   "cell_type": "code",
   "execution_count": 4,
   "metadata": {
    "collapsed": false
   },
   "outputs": [
    {
     "data": {
      "text/plain": [
       "0.0"
      ]
     },
     "execution_count": 4,
     "metadata": {},
     "output_type": "execute_result"
    }
   ],
   "source": [
    "# \\beta-<tab>\n",
    "β = 0.0\n",
    "# \\beta-<tab>-\\hat-<tab>\n",
    "β̂ = 0.0"
   ]
  },
  {
   "cell_type": "markdown",
   "metadata": {},
   "source": [
    "## Fixed-point number system\n",
    "\n",
    "* Fixed-point number system $\\mathbb{I}$ is a computer model for integers $\\mathbb{Z}$. \n",
    "\n",
    "* The number of bits and method of representing negative numbers vary from system to system. \n",
    "    - The `integer` type in R has $M=32$ bits. \n",
    "    - Matlab has `(u)int8`, `(u)int16`, `(u)int32`, `(u)int64`.  \n",
    "    - Julia has even more integer types. Using Tom Breloff's `Plots.jl` and `PlotRecipes.jl` packages, we can easily [visualize the type tree](http://www.breloff.com/Graphs/) under `Integer`\n",
    "    - Storage for a `Signed` or `Unsigned` integer can be $M = 8, 16, 32, 64$ or 128 bits."
   ]
  },
  {
   "cell_type": "code",
   "execution_count": 5,
   "metadata": {
    "collapsed": false
   },
   "outputs": [
    {
     "data": {
      "text/html": [
       "<img src=\"data:image/png;base64,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\" />"
      ]
     },
     "execution_count": 5,
     "metadata": {},
     "output_type": "execute_result"
    },
    {
     "name": "stderr",
     "output_type": "stream",
     "text": [
      "sys:1: MatplotlibDeprecationWarning: The set_axis_bgcolor function was deprecated in version 2.0. Use set_facecolor instead.\n"
     ]
    }
   ],
   "source": [
    "using PlotRecipes\n",
    "pyplot(alpha=0.5, size=(800, 400))\n",
    "\n",
    "# make a list of a type T and it's supertypes\n",
    "T = Integer\n",
    "sups = [T]\n",
    "sup = T\n",
    "while sup != Any\n",
    "    sup = supertype(sup)\n",
    "    unshift!(sups, sup)\n",
    "end\n",
    "sups\n",
    "\n",
    "# recursively build a graph of subtypes of T\n",
    "n = length(sups)\n",
    "nodes, source, destiny = copy(sups), collect(1:n-1), collect(2:n)\n",
    "function add_subs!(T, supidx)\n",
    "    for sub in subtypes(T)\n",
    "        push!(nodes, sub)\n",
    "        subidx = length(nodes)\n",
    "        push!(source, supidx)\n",
    "        push!(destiny, subidx)\n",
    "        add_subs!(sub, subidx)\n",
    "    end\n",
    "end\n",
    "add_subs!(T, n)\n",
    "names = map(string, nodes)\n",
    "\n",
    "graphplot(source, destiny, names=names, method=:tree)"
   ]
  },
  {
   "cell_type": "markdown",
   "metadata": {},
   "source": [
    "### Signed integers\n",
    "\n",
    "* First bit indicates sign.  \n",
    "    - `0` for nonnegative numbers\n",
    "    - `1` for negative numbers  \n",
    "    \n",
    "* **Two's complement representation** for negative numbers. \n",
    "    - Sign bit is set to 1  \n",
    "    - remaining bits are set to opposite values  \n",
    "    - 1 is added to the result"
   ]
  },
  {
   "cell_type": "code",
   "execution_count": 6,
   "metadata": {
    "collapsed": false
   },
   "outputs": [
    {
     "name": "stdout",
     "output_type": "stream",
     "text": [
      "bits(Int8(18)) = \"00010010\"\n",
      "bits(Int8(-18)) = \"11101110\"\n"
     ]
    }
   ],
   "source": [
    "@show bits(Int8(18))\n",
    "@show bits(Int8(-18));"
   ]
  },
  {
   "cell_type": "markdown",
   "metadata": {},
   "source": [
    "* Two's complement representation respects modular arithmetic nicely. \n",
    "    - addition of any two signed integers are just bitwise addition, possibly modulo $2^M$\n",
    "    \n",
    "<img src=\"http://users.dickinson.edu/~braught/courses/cs251f02/classes/images/twosCompWheel.png\" width=\"400\" align=\"center\"/>    "
   ]
  },
  {
   "cell_type": "markdown",
   "metadata": {},
   "source": [
    "* **Range** of representable integers by $M$-bit **signed integer** is $[-2^{M-1},2^{M-1}-1]$.\n",
    "    - Julia functions `typemin(T)` and `typemax(T)` give the lowest and highest representable number of a type `T` respectively"
   ]
  },
  {
   "cell_type": "code",
   "execution_count": 7,
   "metadata": {
    "collapsed": false
   },
   "outputs": [
    {
     "name": "stdout",
     "output_type": "stream",
     "text": [
      "Int8\t-128\t127\n",
      "Int16\t-32768\t32767\n",
      "Int32\t-2147483648\t2147483647\n",
      "Int64\t-9223372036854775808\t9223372036854775807\n",
      "Int128\t-170141183460469231731687303715884105728\t170141183460469231731687303715884105727\n"
     ]
    }
   ],
   "source": [
    "for t in [Int8 Int16 Int32 Int64 Int128]\n",
    "    println(t, '\\t', typemin(t), '\\t', typemax(t))\n",
    "end"
   ]
  },
  {
   "cell_type": "markdown",
   "metadata": {},
   "source": [
    "### **Unsigned integers**\n",
    "\n",
    "* For unsigned integers, the range is $[0,2^M-1]$."
   ]
  },
  {
   "cell_type": "code",
   "execution_count": 8,
   "metadata": {
    "collapsed": false
   },
   "outputs": [
    {
     "name": "stdout",
     "output_type": "stream",
     "text": [
      "UInt8\t0\t255\n",
      "UInt16\t0\t65535\n",
      "UInt32\t0\t4294967295\n",
      "UInt64\t0\t18446744073709551615\n",
      "UInt128\t0\t340282366920938463463374607431768211455\n"
     ]
    }
   ],
   "source": [
    "for t in [UInt8 UInt16 UInt32 UInt64 UInt128]\n",
    "    println(t, '\\t', typemin(t), '\\t', typemax(t))\n",
    "end"
   ]
  },
  {
   "cell_type": "markdown",
   "metadata": {},
   "source": [
    "## `BigInt`\n",
    "\n",
    "Julia `BigInt` type is arbitrary precision."
   ]
  },
  {
   "cell_type": "code",
   "execution_count": 9,
   "metadata": {
    "collapsed": false
   },
   "outputs": [
    {
     "name": "stdout",
     "output_type": "stream",
     "text": [
      "typemax(Int128) = 170141183460469231731687303715884105727\n",
      "typemax(Int128) + 1 = -170141183460469231731687303715884105728\n",
      "BigInt(typemax(Int128)) + 1 = 170141183460469231731687303715884105728\n"
     ]
    },
    {
     "data": {
      "text/plain": [
       "170141183460469231731687303715884105728"
      ]
     },
     "execution_count": 9,
     "metadata": {},
     "output_type": "execute_result"
    }
   ],
   "source": [
    "@show typemax(Int128)\n",
    "@show typemax(Int128) + 1 # modular arithmetic!\n",
    "@show BigInt(typemax(Int128)) + 1"
   ]
  },
  {
   "cell_type": "markdown",
   "metadata": {},
   "source": [
    "## Overflow and underflow for integer arithmetic\n",
    "\n",
    "R reports `NA` for integer overflow and underflow.  \n",
    "Julia outputs the result according to modular arithmetic."
   ]
  },
  {
   "cell_type": "code",
   "execution_count": 10,
   "metadata": {
    "collapsed": false
   },
   "outputs": [
    {
     "name": "stdout",
     "output_type": "stream",
     "text": [
      "typemax(Int32) + Int32(1) = -2147483648\n"
     ]
    },
    {
     "data": {
      "text/plain": [
       "-2147483648"
      ]
     },
     "execution_count": 10,
     "metadata": {},
     "output_type": "execute_result"
    }
   ],
   "source": [
    "@show typemax(Int32) + Int32(1)"
   ]
  },
  {
   "cell_type": "code",
   "execution_count": 11,
   "metadata": {
    "collapsed": false
   },
   "outputs": [
    {
     "data": {
      "text/plain": [
       "RCall.RObject{RCall.IntSxp}\n",
       "[1] 2147483647\n"
      ]
     },
     "execution_count": 11,
     "metadata": {},
     "output_type": "execute_result"
    }
   ],
   "source": [
    "using RCall\n",
    "\n",
    "R\"\"\"\n",
    "# .Machine variable\n",
    ".Machine$integer.max\n",
    "\"\"\""
   ]
  },
  {
   "cell_type": "code",
   "execution_count": 12,
   "metadata": {
    "collapsed": false
   },
   "outputs": [
    {
     "data": {
      "text/plain": [
       "RCall.RObject{RCall.IntSxp}\n",
       "[1] 2147483647\n"
      ]
     },
     "execution_count": 12,
     "metadata": {},
     "output_type": "execute_result"
    }
   ],
   "source": [
    "R\"\"\"\n",
    "M <- 32\n",
    "big <- 2^(M-1) - 1\n",
    "as.integer(big)\n",
    "\"\"\""
   ]
  },
  {
   "cell_type": "code",
   "execution_count": 13,
   "metadata": {
    "collapsed": false
   },
   "outputs": [
    {
     "name": "stderr",
     "output_type": "stream",
     "text": [
      "\u001b[1m\u001b[31mWARNING: RCall.jl: Warning: NAs introduced by coercion to integer range\u001b[0m\n"
     ]
    },
    {
     "data": {
      "text/plain": [
       "RCall.RObject{RCall.IntSxp}\n",
       "[1] NA\n"
      ]
     },
     "execution_count": 13,
     "metadata": {},
     "output_type": "execute_result"
    }
   ],
   "source": [
    "R\"\"\"\n",
    "as.integer(big+1)\n",
    "\"\"\""
   ]
  },
  {
   "cell_type": "markdown",
   "metadata": {
    "collapsed": true
   },
   "source": [
    "## Floating-number system\n",
    "\n",
    "Floating-point number system is a computer model for real numbers $\\mathbb{R}$.\n",
    "\n",
    "* Most computer systems adopts the [IEEE 754 standard](https://en.wikipedia.org/wiki/IEEE_floating_point), established in 1985, for representing real numbers.  \n",
    "For the history, see an [interview with William Kahan](http://www.cs.berkeley.edu/~wkahan/ieee754status/754story.html).\n",
    "\n",
    "* In the scientific notation, a real number is represented as\n",
    "$$\\pm d_0.d_1d_2 \\cdots d_p \\times b^e.$$\n",
    "In computer, the _base_ is $b=2$ and the digits $d_i$ are 0 or 1.\n",
    "\n",
    "* _Normalized_ vs _denormalized_ numbers. For example, decimal number 18 is\n",
    "$$ +1.0010 \\times 2^4 \\quad (\\text{normalized})$$\n",
    "or, equivalently,\n",
    "$$ +0.1001 \\times 2^5 \\quad (\\text{denormalized}).$$\n",
    "\n",
    "* In the floating-number system, computer stores \n",
    "    - sign bit  \n",
    "    - the _fraction_ (or _mantissa_, or _significand_) of the normalized representation\n",
    "    - the actual exponent _plus_ a bias"
   ]
  },
  {
   "cell_type": "markdown",
   "metadata": {},
   "source": [
    "<img src=\"http://cdn.wccftech.com/wp-content/uploads/2015/02/Single-precision-and-double-precision-numbers.png\" width=\"500\" align=\"center\"/>\n",
    "\n",
    "* **Single precision** (32 bit = 4 bytes) \n",
    "    - First bit is sign bit  \n",
    "    - $p=23$ significant bits  \n",
    "    - 8 exponent bits: $e_{\\max}=127$, $e_{\\min}=-126$, bias=127  \n",
    "    - $e_{\\text{min}}-1$ and $e_{\\text{max}}+1$ are reserved for special numbers  \n",
    "    - range of **magnitude**: $10^{\\pm 38}$ in decimal because $\\log_{10} (2^{127}) \\approx 38$  \n",
    "    - **precision**: $\\log_{10}(2^{23}) \\approx 7$ decimal point  \n",
    "    - In Julia, `Float32` is the type for single precision numbers\n",
    "    \n",
    "* **Double precision** (64 bit = 8 bytes) \n",
    "    - First bit is sign bit  \n",
    "    - $p=52$ significant bits  \n",
    "    - 11 exponent bits: $e_{\\max}=1023$, $e_{\\min}=-1022$, bias=1023  \n",
    "    - $e_{\\text{min}}-1$ and $e_{\\text{max}}+1$ are reserved for special numbers  \n",
    "    - range of **magnitude**: $10^{\\pm 308}$ in decimal because $\\log_{10} (2^{1023}) \\approx 308$  \n",
    "    - **precision** to the $\\log_{10}(2^{-52}) \\approx 16$ decimal point  \n",
    "    - In Julia, `Float64` is the type for double precision numbers    "
   ]
  },
  {
   "cell_type": "code",
   "execution_count": 14,
   "metadata": {
    "collapsed": false
   },
   "outputs": [
    {
     "name": "stdout",
     "output_type": "stream",
     "text": [
      "bits(Float32(18)) = \"01000001100100000000000000000000\"\n",
      "bits(Float32(-18)) = \"11000001100100000000000000000000\"\n",
      "bits(Float64(18)) = \"0100000000110010000000000000000000000000000000000000000000000000\"\n",
      "bits(Float64(18)) = \"0100000000110010000000000000000000000000000000000000000000000000\"\n",
      "Float32(π) = 3.1415927f0\n",
      "Float64(π) = 3.141592653589793\n"
     ]
    },
    {
     "data": {
      "text/html": [
       "3.141592653589793"
      ],
      "text/plain": [
       "3.141592653589793"
      ]
     },
     "execution_count": 14,
     "metadata": {},
     "output_type": "execute_result"
    }
   ],
   "source": [
    "@show bits(Float32(18))\n",
    "@show bits(Float32(-18))\n",
    "@show bits(Float64(18))\n",
    "@show bits(Float64(18))\n",
    "@show Float32(π) # SP number displays 7 digits\n",
    "@show Float64(π) # DP number displays 15 digits"
   ]
  },
  {
   "cell_type": "markdown",
   "metadata": {},
   "source": [
    "* Special floating-point numbers. \n",
    "    - Exponent $e_{\\max}+1$ plus a zero mantissa means $\\pm \\infty$  \n",
    "    - Exponent $e_{\\max}+1$ plus a nonzero mantissa means `NaN`. `NaN` could be produced from `0 / 0`, `0 * Inf`, ... In general `NaN ≠ NaN` bitwise  \n",
    "    - Exponent $e_{\\min}-1$ with a zero mantissa represents the real number 0  \n",
    "    - Exponent $e_{\\min}-1$ with a nonzero mantissa are for numbers less than $b^{e_{\\min}}$  \n",
    "    Numbers are _denormalized_ in the range $(0,b^{e_{\\min}})$ -- **graceful underflow** "
   ]
  },
  {
   "cell_type": "code",
   "execution_count": 15,
   "metadata": {
    "collapsed": false
   },
   "outputs": [
    {
     "name": "stdout",
     "output_type": "stream",
     "text": [
      "bits(Inf32) = \"01111111100000000000000000000000\"\n",
      "bits(-Inf32) = \"11111111100000000000000000000000\"\n",
      "bits(Float32(0) / Float32(0)) = \"11111111110000000000000000000000\"\n",
      "bits(Inf32 / Inf32) = \"11111111110000000000000000000000\"\n",
      "bits(Float32(0)) = \"00000000000000000000000000000000\"\n",
      "nextfloat(Float32(0)) = 1.0f-45\n",
      "bits(nextfloat(Float32(0))) = \"00000000000000000000000000000001\"\n"
     ]
    },
    {
     "data": {
      "text/plain": [
       "\"00000000000000000000000000000001\""
      ]
     },
     "execution_count": 15,
     "metadata": {},
     "output_type": "execute_result"
    }
   ],
   "source": [
    "@show bits(Inf32) # 18 in single precision\n",
    "@show bits(-Inf32) # -18 in single precision\n",
    "@show bits(Float32(0) / Float32(0)) # NaN\n",
    "@show bits(Inf32 / Inf32) # NaN\n",
    "@show bits(Float32(0)) # 0 in single precision \n",
    "@show nextfloat(Float32(0)) # next representable number \n",
    "@show bits(nextfloat(Float32(0))) # denormalized "
   ]
  },
  {
   "cell_type": "markdown",
   "metadata": {},
   "source": [
    "* **Rounding** is necessary whenever a number has more than $p$ significand bits. Most computer systems use the default IEEE 754 _round to nearest_ mode (also called _ties to even_ mode). Julia offers several [rounding modes](https://docs.julialang.org/en/stable/stdlib/math/?highlight=roundnearest#Base.RoundingMode), the default being `RoundNearest`. For example, the number\n",
    "$$ 0.1 = 1.10011001... \\times 2^{-4} $$"
   ]
  },
  {
   "cell_type": "code",
   "execution_count": 16,
   "metadata": {
    "collapsed": false
   },
   "outputs": [
    {
     "name": "stdout",
     "output_type": "stream",
     "text": [
      "bits(0.1f0) = \"00111101110011001100110011001101\"\n",
      "bits(0.1) = \"0011111110111001100110011001100110011001100110011001100110011010\"\n"
     ]
    }
   ],
   "source": [
    "@show bits(0.1f0)\n",
    "@show bits(0.1);"
   ]
  },
  {
   "cell_type": "markdown",
   "metadata": {},
   "source": [
    "* In summary\n",
    "    - Single precision: range $\\pm 10^{\\pm 38}$ with precision up to 7 decimal digits\n",
    "    - Double precision: range $\\pm 10^{\\pm 308}$ with precision up to 16 decimal digits  \n",
    "    - The floating-point numbers do not occur uniformly over the real number line\n",
    "    <img src=\"http://www.volkerschatz.com/science/pics/fltscale-wh.png\" width=\"700\" align=\"center\"/>\n",
    "    - **Machine epsilons** are the spacings of numbers around 1: \n",
    "    $$\\epsilon_{\\min}=b^{-p}, \\quad  \\epsilon_{\\max} = b^{1-p}.$$\n",
    "    <img src=\"./machine_epsilons.png\" width=\"500\" align=\"center\"/>"
   ]
  },
  {
   "cell_type": "code",
   "execution_count": 17,
   "metadata": {
    "collapsed": false
   },
   "outputs": [
    {
     "name": "stdout",
     "output_type": "stream",
     "text": [
      "eps(Float32) = 1.1920929f-7\n",
      "eps(Float64) = 2.220446049250313e-16\n",
      "eps(100.0) = 1.4210854715202004e-14\n",
      "eps(0.0) = 5.0e-324\n",
      "(prevfloat(x),x,nextfloat(x)) = (1.2499999f0,1.25f0,1.2500001f0)\n",
      "(bits(prevfloat(x)),bits(x),bits(nextfloat(x))) = (\"00111111100111111111111111111111\",\"00111111101000000000000000000000\",\"00111111101000000000000000000001\")\n"
     ]
    }
   ],
   "source": [
    "@show eps(Float32)  # machine epsilon for a floating point type\n",
    "@show eps(Float64)  # same as eps()\n",
    "# eps(x) is the spacing after x\n",
    "@show eps(100.0)\n",
    "@show eps(0.0)\n",
    "# nextfloat(x) and prevfloat(x) give the neighbors of x\n",
    "x = 1.25f0\n",
    "@show prevfloat(x), x, nextfloat(x)\n",
    "@show bits(prevfloat(x)), bits(x), bits(nextfloat(x));"
   ]
  },
  {
   "cell_type": "markdown",
   "metadata": {},
   "source": [
    "* In R, the variable `.Machine` contains numerical characteristics of the machine."
   ]
  },
  {
   "cell_type": "code",
   "execution_count": 18,
   "metadata": {
    "collapsed": false
   },
   "outputs": [
    {
     "data": {
      "text/plain": [
       "RCall.RObject{RCall.VecSxp}\n",
       "$double.eps\n",
       "[1] 2.220446e-16\n",
       "\n",
       "$double.neg.eps\n",
       "[1] 1.110223e-16\n",
       "\n",
       "$double.xmin\n",
       "[1] 2.225074e-308\n",
       "\n",
       "$double.xmax\n",
       "[1] 1.797693e+308\n",
       "\n",
       "$double.base\n",
       "[1] 2\n",
       "\n",
       "$double.digits\n",
       "[1] 53\n",
       "\n",
       "$double.rounding\n",
       "[1] 5\n",
       "\n",
       "$double.guard\n",
       "[1] 0\n",
       "\n",
       "$double.ulp.digits\n",
       "[1] -52\n",
       "\n",
       "$double.neg.ulp.digits\n",
       "[1] -53\n",
       "\n",
       "$double.exponent\n",
       "[1] 11\n",
       "\n",
       "$double.min.exp\n",
       "[1] -1022\n",
       "\n",
       "$double.max.exp\n",
       "[1] 1024\n",
       "\n",
       "$integer.max\n",
       "[1] 2147483647\n",
       "\n",
       "$sizeof.long\n",
       "[1] 8\n",
       "\n",
       "$sizeof.longlong\n",
       "[1] 8\n",
       "\n",
       "$sizeof.longdouble\n",
       "[1] 16\n",
       "\n",
       "$sizeof.pointer\n",
       "[1] 8\n",
       "\n"
      ]
     },
     "execution_count": 18,
     "metadata": {},
     "output_type": "execute_result"
    }
   ],
   "source": [
    "R\"\"\"\n",
    ".Machine\n",
    "\"\"\""
   ]
  },
  {
   "cell_type": "markdown",
   "metadata": {},
   "source": [
    "* Julia provides `Float16` (half precision), `Float32` (single precision), `Float64` (double precision), and `BigFloat` (arbitrary precision)."
   ]
  },
  {
   "cell_type": "code",
   "execution_count": 19,
   "metadata": {
    "collapsed": false
   },
   "outputs": [
    {
     "data": {
      "text/html": [
       "<img src=\"data:image/png;base64,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\" />"
      ]
     },
     "execution_count": 19,
     "metadata": {},
     "output_type": "execute_result"
    }
   ],
   "source": [
    "# make a list of a type T and it's supertypes\n",
    "T = AbstractFloat\n",
    "sups = [T]\n",
    "sup = T\n",
    "while sup != Any\n",
    "    sup = supertype(sup)\n",
    "    unshift!(sups,sup)\n",
    "end\n",
    "n = length(sups)\n",
    "nodes, source, destiny = copy(sups), collect(1:n-1), collect(2:n)\n",
    "add_subs!(T, n)\n",
    "names = map(string, nodes)\n",
    "\n",
    "graphplot(source, destiny, names=names, method=:tree)"
   ]
  },
  {
   "cell_type": "markdown",
   "metadata": {},
   "source": [
    "## Overflow and underflow of floating-point number\n",
    "\n",
    "* For double precision, the range is $\\pm 10^{\\pm 308}$. In most situations, underflow is preferred over overflow. Overflow causes crashes. Underflow yields zeros or denormalized numbers. \n",
    "\n",
    "* E.g., the logit link function is\n",
    "$$p = \\frac{\\exp (x^T \\beta)}{1 + \\exp (x^T \\beta)} = \\frac{1}{1+\\exp(- x^T \\beta)}.$$\n",
    "The former expression can easily lead to `Inf / Inf = NaN`, while the latter expression leads to graceful underflow."
   ]
  },
  {
   "cell_type": "markdown",
   "metadata": {},
   "source": [
    "## Catastrophic cancellation\n",
    "\n",
    "* **Scenario 1**: Addition or subtraction of two numbers of widely different magnitudes: $a+b$ or $a-b$ where $a \\gg b$ or $a \\ll b$. We loose the precision in the number of smaller magnitude. Consider \n",
    "$$\\begin{eqnarray*}\n",
    "    a &=& x.xxx ... \\times 2^{30} \\\\  \n",
    "    b &=& y.yyy... \\times 2^{-30}\n",
    "\\end{eqnarray*}$$\n",
    "What happens when computer calculates $a+b$? We get $a+b=a$!"
   ]
  },
  {
   "cell_type": "code",
   "execution_count": 20,
   "metadata": {
    "collapsed": false
   },
   "outputs": [
    {
     "data": {
      "text/html": [
       "true"
      ],
      "text/plain": [
       "true"
      ]
     },
     "execution_count": 20,
     "metadata": {},
     "output_type": "execute_result"
    }
   ],
   "source": [
    "a = 1.0 * 2.0^30\n",
    "b = 1.0 * 2.0^-30\n",
    "a + b == a"
   ]
  },
  {
   "cell_type": "markdown",
   "metadata": {},
   "source": [
    "* **Scenario 2**: Subtraction of two nearly equal numbers eliminates significant digits.  $a-b$ where $a \\approx b$. Consider \n",
    "$$\\begin{eqnarray*}\n",
    "    a &=& x.xxxxxxxxxx1ssss  \\\\\n",
    "    b &=& x.xxxxxxxxxx0tttt\n",
    "\\end{eqnarray*}$$\n",
    "The result is $1.vvvvu...u$ where $u$ are unassigned digits."
   ]
  },
  {
   "cell_type": "code",
   "execution_count": 21,
   "metadata": {
    "collapsed": false
   },
   "outputs": [
    {
     "name": "stdout",
     "output_type": "stream",
     "text": [
      "bits(a) = \"00111111100111100000011001010001\"\n",
      "bits(b) = \"00111111100111100000011001010000\"\n",
      "(a - b,bits(a - b)) = (1.1920929f-7,\"00110100000000000000000000000000\")\n"
     ]
    },
    {
     "data": {
      "text/plain": [
       "(1.1920929f-7,\"00110100000000000000000000000000\")"
      ]
     },
     "execution_count": 21,
     "metadata": {},
     "output_type": "execute_result"
    }
   ],
   "source": [
    "a = 1.2345678f0\n",
    "@show bits(a)\n",
    "b = 1.2345677f0\n",
    "@show bits(b)\n",
    "@show a - b, bits(a - b)"
   ]
  },
  {
   "cell_type": "markdown",
   "metadata": {},
   "source": [
    "* Implications for numerical computation\n",
    "    - Rule 1: add small numbers together before adding larger ones  \n",
    "    - Rule 2: add numbers of like magnitude together (paring). When all numbers are of same sign and similar magnitude, add in pairs so each stage the summands are of similar magnitude  \n",
    "    - Rule 3: avoid substraction of two numbers that are nearly equal"
   ]
  },
  {
   "cell_type": "markdown",
   "metadata": {},
   "source": [
    "### Algebraic laws\n",
    "\n",
    "Floating-point numbers may violate many algebraic laws we are familiar with, such associative and distributive laws. See homework problems."
   ]
  },
  {
   "cell_type": "markdown",
   "metadata": {},
   "source": [
    "## Further reading\n",
    "\n",
    "[What every computer scientist should know about floating-point arithmetic](http://hua-zhou.github.io/teaching/biostatm280-2017spring/readings/Goldberg91FloatingPoint.pdf) by David Goldberg."
   ]
  }
 ],
 "metadata": {
  "kernelspec": {
   "display_name": "Julia 0.5.1",
   "language": "julia",
   "name": "julia-0.5"
  },
  "language_info": {
   "file_extension": ".jl",
   "mimetype": "application/julia",
   "name": "julia",
   "version": "0.5.1"
  }
 },
 "nbformat": 4,
 "nbformat_minor": 2
}
