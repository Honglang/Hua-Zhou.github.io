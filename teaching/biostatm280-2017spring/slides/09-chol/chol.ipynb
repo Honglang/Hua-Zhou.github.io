{
 "cells": [
  {
   "cell_type": "markdown",
   "metadata": {},
   "source": [
    "# Cholesky Decomposition\n",
    "\n",
    "<img src=\"http://www.cerebralmastication.com/wp-content/uploads/2010/09/39-cholesky-250x300.jpg\" width=\"200\" align=\"center\"/>\n",
    "\n",
    "* A basic tenet in numerical analysis: \n",
    "\n",
    "> The structure should be exploited whenever solving a problem.\n",
    "\n",
    "Common structures include: symmetry, definiteness, sparsity, Kronecker product, low rank, ...\n",
    "\n",
    "* LU decomposition (Gaussian Elimination) is **not** used in statistics so often because most of time statisticians deal with positive (semi)definite matrix.\n",
    "\n",
    "* Consider solving the normal equation \n",
    "$$\n",
    "    \\mathbf{X}^T \\mathbf{X} \\beta = \\mathbf{X}^T \\mathbf{y}\n",
    "$$\n",
    "for linear regression. The coefficient matrix $\\mathbf{X}^T \\mathbf{X}$ is symmetric and positive semidefinite. How to exploit this structure?\n",
    "\n",
    "## Cholesky decomposition\n",
    "\n",
    "* **Theorem**: Let $\\mathbf{A} \\in \\mathbb{R}^{n \\times n}$ be symmetric and positive definite. Then $\\mathbf{A} = \\mathbf{L} \\mathbf{L}^T$, where $\\mathbf{L}$ is lower triangular with positive diagonal entries and is unique.  \n",
    "**Proof** (by induction):  \n",
    "If $n=1$, then $\\ell = \\sqrt{a}$. For $n>1$, the block equation\n",
    "\\begin{eqnarray*}\n",
    "\\begin{pmatrix}\n",
    "a_{11} & \\mathbf{a}^T \\\\ \\mathbf{a} & \\mathbf{A}_{22}\n",
    "\\end{pmatrix} =\n",
    "\\begin{pmatrix}\n",
    "\t\\ell_{11} & \\mathbf{0}_{n-1}^T \\\\ \\mathbf{l} & \\mathbf{L}_{22}\n",
    "\\end{pmatrix}\n",
    "\\begin{pmatrix}\n",
    "\t\\ell_{11} & \\mathbf{l}^T \\\\ \\mathbf{0}_{n-1} & \\mathbf{L}_{22}^T\n",
    "\\end{pmatrix}.\n",
    "\\end{eqnarray*}\n",
    "has solution\n",
    "\\begin{eqnarray*}\n",
    "\t\\ell_{11} &=& \\sqrt{a_{11}} \\\\\n",
    "\t\\mathbf{l} &=& \\ell_{11}^{-1} \\mathbf{a}\t\\\\\n",
    "\t\\mathbf{L}_{22} \\mathbf{L}_{22}^T &=& \\mathbf{A}_{22}  - \\mathbf{l} \\mathbf{l}^T = \\mathbf{A}_{22}  - a_{11}^{-1} \\mathbf{a} \\mathbf{a}^T.\n",
    "\\end{eqnarray*}\n",
    "Now $a_{11}>0$ (why?), so $\\ell_{11}$ and $\\mathbf{l}$ are uniquely determined. $\\mathbf{A}_{22} - a_{11}^{-1} \\mathbf{a} \\mathbf{a}^T$ is positive definite because $\\mathbf{A}$ is positive definite (why?). By induction hypothesis, $\\mathbf{L}_{22}$ exists and is unique.\n",
    "\n",
    "* The constructive proof completely specifies the algorithm. \n",
    "\n",
    "<img src=\"http://www.netlib.org/utk/papers/factor/_25826_figure440.gif\" width=\"500\" align=\"center\"/>\n",
    "\n",
    "* Computational cost: \n",
    "$$\n",
    "\\frac 12 [2(n-1)^2 + 2(n-2)^2 + \\cdots + 2 \\cdot 1^2] \\approx \\frac 13 n^3 \\quad \\text{flops}\n",
    "$$ \n",
    "plus $n$ square roots. Half the cost of LU decomposition by utilizing symmetry.\n",
    "\n",
    "* In general Cholesky decomposition is very stable. Failure of the decomposition simply means $\\mathbf{A}$ is not positive definite. It is an efficient way to test positive definiteness.  \n",
    "\n",
    "\n",
    "## Pivoting\n",
    "\n",
    "* When $\\mathbf{A}$ does not have full rank, e.g., $\\mathbf{X}^T \\mathbf{X}$ with a non-full column rank $\\mathbf{X}$, we encounter $a_{kk} = 0$ during the procedure.\n",
    "\n",
    "* **Symmetric pivoting**. At each stage $k$, we permute both row and column such that $\\max_{k \\le i \\le n} a_{kk}$ becomes the pivot. If we encounter $\\max_{k \\le i \\le n} a_{kk} = 0$, then $\\mathbf{A}[k:n,k:n] = \\mathbf{0}$ (why?) and the algorithm terminates.\n",
    "\n",
    "* With symmetric pivoting: \n",
    "$$\n",
    "\\mathbf{P} \\mathbf{A} \\mathbf{P}^T = \\mathbf{L} \\mathbf{L}^T,\n",
    "$$\n",
    "where $\\mathbf{P}$ is a permutation matrix and $\\mathbf{L} \\in \\mathbb{R}^{n \\times r}$, $r = \\text{rank}(\\mathbf{A})$.\n",
    "\n",
    "## Implementation\n",
    "\n",
    "* LAPACK functions: `?potrf` (without pivoting), `?pstrf` (with pivoting).\n",
    "\n",
    "* Julia functions: [`cholfact`](https://docs.julialang.org/en/stable/stdlib/linalg/?highlight=cholfact#Base.cholfact), [`cholfact!`](https://docs.julialang.org/en/stable/stdlib/linalg/?highlight=cholfact#Base.cholfact!), [`chol`](https://docs.julialang.org/en/stable/stdlib/linalg/?highlight=cholfact#Base.chol), or call LAPACK wrapper functions [`potrf!`](https://docs.julialang.org/en/stable/stdlib/linalg/?highlight=blas#Base.LinAlg.LAPACK.potrf!) and [`pstrf!`](https://docs.julialang.org/en/stable/stdlib/linalg/?highlight=blas#Base.LinAlg.LAPACK.pstrf!)"
   ]
  },
  {
   "cell_type": "code",
   "execution_count": 1,
   "metadata": {
    "collapsed": false
   },
   "outputs": [
    {
     "data": {
      "text/plain": [
       "3×3 Array{Int64,2}:\n",
       "   4   12  -16\n",
       "  12   37  -43\n",
       " -16  -43   98"
      ]
     },
     "execution_count": 1,
     "metadata": {},
     "output_type": "execute_result"
    }
   ],
   "source": [
    "A = [4 12 -16; 12 37 -43; -16 -43 98]"
   ]
  },
  {
   "cell_type": "code",
   "execution_count": 2,
   "metadata": {
    "collapsed": false
   },
   "outputs": [
    {
     "data": {
      "text/plain": [
       "Base.LinAlg.Cholesky{Float64,Array{Float64,2}} with factor:\n",
       "[2.0 6.0 -8.0; 0.0 1.0 5.0; 0.0 0.0 3.0]"
      ]
     },
     "execution_count": 2,
     "metadata": {},
     "output_type": "execute_result"
    }
   ],
   "source": [
    "# Cholesky without pivoting\n",
    "Achol = cholfact(A)"
   ]
  },
  {
   "cell_type": "code",
   "execution_count": 3,
   "metadata": {
    "collapsed": false
   },
   "outputs": [
    {
     "data": {
      "text/plain": [
       "3×3 LowerTriangular{Float64,Array{Float64,2}}:\n",
       "  2.0   ⋅    ⋅ \n",
       "  6.0  1.0   ⋅ \n",
       " -8.0  5.0  3.0"
      ]
     },
     "execution_count": 3,
     "metadata": {},
     "output_type": "execute_result"
    }
   ],
   "source": [
    "Achol[:L]"
   ]
  },
  {
   "cell_type": "code",
   "execution_count": 4,
   "metadata": {
    "collapsed": false
   },
   "outputs": [
    {
     "data": {
      "text/plain": [
       "3×3 UpperTriangular{Float64,Array{Float64,2}}:\n",
       " 2.0  6.0  -8.0\n",
       "  ⋅   1.0   5.0\n",
       "  ⋅    ⋅    3.0"
      ]
     },
     "execution_count": 4,
     "metadata": {},
     "output_type": "execute_result"
    }
   ],
   "source": [
    "Achol[:U]"
   ]
  },
  {
   "cell_type": "code",
   "execution_count": 5,
   "metadata": {
    "collapsed": false
   },
   "outputs": [
    {
     "data": {
      "text/plain": [
       "3-element Array{Float64,1}:\n",
       " 28.5833 \n",
       " -7.66667\n",
       "  1.33333"
      ]
     },
     "execution_count": 5,
     "metadata": {},
     "output_type": "execute_result"
    }
   ],
   "source": [
    "b = [1.0; 2.0; 3.0]\n",
    "A \\ b # this does LU decomposition"
   ]
  },
  {
   "cell_type": "code",
   "execution_count": 6,
   "metadata": {
    "collapsed": false
   },
   "outputs": [
    {
     "data": {
      "text/plain": [
       "3-element Array{Float64,1}:\n",
       " 28.5833 \n",
       " -7.66667\n",
       "  1.33333"
      ]
     },
     "execution_count": 6,
     "metadata": {},
     "output_type": "execute_result"
    }
   ],
   "source": [
    "Achol \\ b # two triangular solves"
   ]
  },
  {
   "cell_type": "code",
   "execution_count": 7,
   "metadata": {
    "collapsed": false
   },
   "outputs": [
    {
     "data": {
      "text/plain": [
       "36.0"
      ]
     },
     "execution_count": 7,
     "metadata": {},
     "output_type": "execute_result"
    }
   ],
   "source": [
    "det(A) # this actually does LU"
   ]
  },
  {
   "cell_type": "code",
   "execution_count": 8,
   "metadata": {
    "collapsed": false
   },
   "outputs": [
    {
     "data": {
      "text/plain": [
       "36.0"
      ]
     },
     "execution_count": 8,
     "metadata": {},
     "output_type": "execute_result"
    }
   ],
   "source": [
    "det(Achol) # cheap"
   ]
  },
  {
   "cell_type": "code",
   "execution_count": 15,
   "metadata": {
    "collapsed": false
   },
   "outputs": [
    {
     "data": {
      "text/plain": [
       "3×3 Array{Float64,2}:\n",
       "  49.3611   -13.5556     2.11111 \n",
       " -13.5556     3.77778   -0.555556\n",
       "   2.11111   -0.555556   0.111111"
      ]
     },
     "execution_count": 15,
     "metadata": {},
     "output_type": "execute_result"
    }
   ],
   "source": [
    "inv(A) # does LU"
   ]
  },
  {
   "cell_type": "code",
   "execution_count": 18,
   "metadata": {
    "collapsed": false
   },
   "outputs": [
    {
     "data": {
      "text/plain": [
       "3×3 Array{Float64,2}:\n",
       "  49.3611   -13.5556     2.11111 \n",
       " -13.5556     3.77778   -0.555556\n",
       "   2.11111   -0.555556   0.111111"
      ]
     },
     "execution_count": 18,
     "metadata": {},
     "output_type": "execute_result"
    }
   ],
   "source": [
    "inv(Achol)"
   ]
  },
  {
   "cell_type": "markdown",
   "metadata": {},
   "source": [
    "## Applications\n",
    "\n",
    "* **No inversion** mentality: Whenever we see matrix inverse, we should think in terms of solving linear equations. If the matrix is positive (semi)definite, use Cholesky decomposition.\n",
    "\n",
    "* Example: multivariate normal density $\\text{MVN}(\\mu, \\Sigma)$,  $\\Sigma$ is p.d., is\n",
    "$$\n",
    "\t- \\frac n2 \\ln (2\\pi) - \\frac 12 \\ln \\det \\Sigma - \\frac 12 (\\mathbf{y} - \\mu)^T \\Sigma^{-1} (\\mathbf{y} - \\mu).\n",
    "$$\n",
    "\n",
    "    * Method 1: (a) compute explicit inverse $\\Sigma^{-1}$ ($2n^3$ flops), (b) compute quadratic form ($2n^2 + 2n$ flops), (c) compute determinant ($2n^3/3$ flops).\n",
    "    \n",
    "    * Method 2: (a) Cholesky decomposition $\\Sigma = \\mathbf{L} \\mathbf{L}^T$ ($n^3/3$ flops), (b) Solve $\\mathbf{L} \\mathbf{x} = \\mathbf{y} - \\mu$ by forward substitutions ($n^2$ flops), (c) compute quadratic form $\\mathbf{x}^T \\mathbf{x}$ ($2n$ flops), and (d) compute determinant from Cholesky factor ($n$ flops).  \n",
    "\n",
    "    Which method is better?\n",
    "\n",
    "* Compute Moore-Penrose inverse $\\mathbf{A}^+$.\n",
    "\n",
    "* Cholesky decomposition is **one** approach to solve linear regression."
   ]
  },
  {
   "cell_type": "code",
   "execution_count": 9,
   "metadata": {
    "collapsed": false
   },
   "outputs": [
    {
     "data": {
      "text/plain": [
       "logpdf_mvn_2 (generic function with 1 method)"
      ]
     },
     "execution_count": 9,
     "metadata": {},
     "output_type": "execute_result"
    }
   ],
   "source": [
    "function logpdf_mvn_1(y::Vector, Σ::Matrix)\n",
    "    n = length(y)\n",
    "    - (n//2) * log(2π) - (1//2) * logdet(Σ) - (1//2) * dot(y, inv(Σ) * y)\n",
    "end\n",
    "\n",
    "function logpdf_mvn_2(y::Vector, Σ::Matrix)\n",
    "    n = length(y)\n",
    "    Σchol = cholfact(Σ)\n",
    "    - (n//2) * log(2π) - (1//2) * logdet(Σchol) - (1//2) * sumabs2(Σchol[:L] \\ y)\n",
    "end"
   ]
  },
  {
   "cell_type": "code",
   "execution_count": 10,
   "metadata": {
    "collapsed": false
   },
   "outputs": [
    {
     "name": "stdout",
     "output_type": "stream",
     "text": [
      "logpdf_mvn_1(y,Σ) = -4396.173284372774\n",
      "logpdf_mvn_2(y,Σ) = -4396.173284372773\n"
     ]
    },
    {
     "data": {
      "text/plain": [
       "-4396.173284372773"
      ]
     },
     "execution_count": 10,
     "metadata": {},
     "output_type": "execute_result"
    }
   ],
   "source": [
    "using BenchmarkTools, Distributions\n",
    "\n",
    "srand(280) # seed\n",
    "\n",
    "n   = 1000\n",
    "Σ   = randn(n, n); Σ = Σ' * Σ + I # covariance matrix\n",
    "mvn = MvNormal(Σ) # N(0, Σ)\n",
    "y   = rand(mvn) # one sample\n",
    "\n",
    "@show logpdf_mvn_1(y, Σ)\n",
    "@show logpdf_mvn_2(y, Σ)"
   ]
  },
  {
   "cell_type": "code",
   "execution_count": 11,
   "metadata": {
    "collapsed": false
   },
   "outputs": [
    {
     "data": {
      "text/plain": [
       "BenchmarkTools.Trial: \n",
       "  memory estimate:  23.41 MiB\n",
       "  allocs estimate:  21\n",
       "  --------------\n",
       "  minimum time:     68.442 ms (3.38% GC)\n",
       "  median time:      69.719 ms (3.23% GC)\n",
       "  mean time:        70.055 ms (3.24% GC)\n",
       "  maximum time:     74.417 ms (2.97% GC)\n",
       "  --------------\n",
       "  samples:          72\n",
       "  evals/sample:     1"
      ]
     },
     "execution_count": 11,
     "metadata": {},
     "output_type": "execute_result"
    }
   ],
   "source": [
    "@benchmark logpdf_mvn_1(y, Σ)"
   ]
  },
  {
   "cell_type": "code",
   "execution_count": 12,
   "metadata": {
    "collapsed": false
   },
   "outputs": [
    {
     "data": {
      "text/plain": [
       "BenchmarkTools.Trial: \n",
       "  memory estimate:  15.27 MiB\n",
       "  allocs estimate:  17\n",
       "  --------------\n",
       "  minimum time:     12.422 ms (0.00% GC)\n",
       "  median time:      14.647 ms (14.60% GC)\n",
       "  mean time:        14.243 ms (12.28% GC)\n",
       "  maximum time:     23.251 ms (9.53% GC)\n",
       "  --------------\n",
       "  samples:          350\n",
       "  evals/sample:     1"
      ]
     },
     "execution_count": 12,
     "metadata": {},
     "output_type": "execute_result"
    }
   ],
   "source": [
    "@benchmark logpdf_mvn_2(y, Σ)"
   ]
  },
  {
   "cell_type": "markdown",
   "metadata": {},
   "source": [
    "## Further reading\n",
    "\n",
    "* Section 7.7 of [Numerical Analysis for Statisticians](http://ucla.worldcat.org/title/numerical-analysis-for-statisticians/oclc/793808354&referer=brief_results) of Kenneth Lange (2010).\n",
    "\n",
    "* Section II.5.3 of [Computational Statistics](http://ucla.worldcat.org/title/computational-statistics/oclc/437345409&referer=brief_results) by James Gentle (2010).\n",
    "\n",
    "* Section 4.2 of [Matrix Computation](http://catalog.library.ucla.edu/vwebv/holdingsInfo?bibId=7122088) by Gene Golub and Charles Van Loan (2013)."
   ]
  }
 ],
 "metadata": {
  "kernelspec": {
   "display_name": "Julia 0.5.1",
   "language": "julia",
   "name": "julia-0.5"
  },
  "language_info": {
   "file_extension": ".jl",
   "mimetype": "application/julia",
   "name": "julia",
   "version": "0.5.1"
  },
  "toc": {
   "colors": {
    "hover_highlight": "#DAA520",
    "running_highlight": "#FF0000",
    "selected_highlight": "#FFD700"
   },
   "moveMenuLeft": true,
   "nav_menu": {
    "height": "118px",
    "width": "252px"
   },
   "navigate_menu": true,
   "number_sections": true,
   "sideBar": true,
   "threshold": 4,
   "toc_cell": false,
   "toc_section_display": "block",
   "toc_window_display": true,
   "widenNotebook": false
  }
 },
 "nbformat": 4,
 "nbformat_minor": 2
}
